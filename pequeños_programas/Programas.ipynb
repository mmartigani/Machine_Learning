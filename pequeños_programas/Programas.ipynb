{
 "cells": [
  {
   "cell_type": "code",
   "execution_count": 6,
   "id": "1c204cd9-aaf8-47bc-bc00-9a8915e4ba22",
   "metadata": {},
   "outputs": [
    {
     "name": "stdout",
     "output_type": "stream",
     "text": [
      "programa un creador de nombres\n",
      ">>>>>>>>>>>>>>>>>>>>>>>>>>>>>>>\n"
     ]
    },
    {
     "name": "stdin",
     "output_type": "stream",
     "text": [
      "El nombre de mi cafe es: zerocoffee\n",
      "cual seria el origen:  colombia\n",
      "cual es tu tostado favorito:  dark\n"
     ]
    },
    {
     "name": "stdout",
     "output_type": "stream",
     "text": [
      "el nombre de mi cafe es zerocoffee la ciudad es colombia y el tostado es dark\n"
     ]
    }
   ],
   "source": [
    "print(\"programa un creador de nombres\")\n",
    "print(\">>>>>>>>>>>>>>>>>>>>>>>>>>>>>>>\")\n",
    "nombre=input(\"El nombre de mi cafe es:\")\n",
    "origen=input(\"cual seria el origen: \")\n",
    "tostado=input(\"cual es tu tostado favorito: \")\n",
    "print(f\"el nombre de mi cafe es {nombre} la ciudad es {origen} y el tostado es {tostado}\")"
   ]
  },
  {
   "cell_type": "code",
   "execution_count": 10,
   "id": "4eb509f5-7d3b-4a7e-9314-f541532b090d",
   "metadata": {},
   "outputs": [
    {
     "name": "stdout",
     "output_type": "stream",
     "text": [
      "programa una calculadora de comisiones\n",
      ">>>>>>>>>>>>>>>>>>>>>>>>>>>>>>>>>>>>>>>\n"
     ]
    },
    {
     "name": "stdin",
     "output_type": "stream",
     "text": [
      "Por favor dime tu nombre:  zero\n",
      "ingrese sus ventas totales del mes:  7000\n"
     ]
    },
    {
     "name": "stdout",
     "output_type": "stream",
     "text": [
      "hola zero, tus comisiones de este mes son $910.0\n"
     ]
    }
   ],
   "source": [
    "print(\"programa una calculadora de comisiones\")\n",
    "print(\">>>>>>>>>>>>>>>>>>>>>>>>>>>>>>>>>>>>>>>\")\n",
    "nombre = input(\"Por favor dime tu nombre: \")\n",
    "ventas = int(input(\"ingrese sus ventas totales del mes: \"))\n",
    "comision = round(ventas * 13 / 100,2) #redondeo con 2 decimales\n",
    "print(f\"hola {nombre}, tus comisiones de este mes son ${comision}\")"
   ]
  },
  {
   "cell_type": "code",
   "execution_count": 17,
   "id": "d0078803-d92f-4958-91ce-e0733fd64f4a",
   "metadata": {},
   "outputs": [
    {
     "name": "stdout",
     "output_type": "stream",
     "text": [
      "analizador de texto\n",
      ">>>>>>>>>>>>>>>>>>><\n"
     ]
    },
    {
     "name": "stdin",
     "output_type": "stream",
     "text": [
      "ingrese el texto a analizar:  regresa mas inteligente de lo que ya eres\n",
      "ingresa la primera letra:  r\n",
      "ingresa la segunda letra:  e\n",
      "ingresa la tercera letra:  l\n"
     ]
    },
    {
     "name": "stdout",
     "output_type": "stream",
     "text": [
      "\n",
      "\n",
      "cantidad de letras: \n",
      "hemos encontrado 'r' repetida 3 veces\n",
      "hemos encontrado 'e' repetida 9 veces\n",
      "hemos encontrado 'l' repetida 2 veces\n",
      "\n",
      "\n",
      "hemos encontrado 8 palabras en tu texto\n",
      "\n",
      "\n",
      "letras de inicio de de fin\n",
      "la letra inicial es r y la letra final es s\n",
      "\n",
      "\n",
      "texto invertido\n",
      "si ordenamos tu texto al reves dice: eres ya que lo de inteligente mas regresa\n",
      "\n",
      "\n",
      "buscando la palabra cafe\n",
      "la palabra 'cafe' no se encuentra en el texto\n"
     ]
    }
   ],
   "source": [
    "print(\"analizador de texto\")\n",
    "print(\">>>>>>>>>>>>>>>>>>><\")\n",
    "t=input(\"ingrese el texto a analizar: \")\n",
    "l=[]\n",
    "t=t.lower()\n",
    "l.append(input(\"ingresa la primera letra: \").lower())\n",
    "l.append(input(\"ingresa la segunda letra: \").lower())\n",
    "l.append(input(\"ingresa la tercera letra: \").lower())\n",
    "print(\"\\n\")\n",
    "print(\"cantidad de letras: \")\n",
    "cantidad_letras1 = t.count(l[0])\n",
    "cantidad_letras2 = t.count(l[1])\n",
    "cantidad_letras3 = t.count(l[2])\n",
    "print(f\"hemos encontrado '{l[0]}' repetida {cantidad_letras1} veces\")\n",
    "print(f\"hemos encontrado '{l[1]}' repetida {cantidad_letras2} veces\")\n",
    "print(f\"hemos encontrado '{l[2]}' repetida {cantidad_letras3} veces\")\n",
    "print(\"\\n\")\n",
    "p=t.split()\n",
    "print(f\"hemos encontrado {len(p)} palabras en tu texto\")\n",
    "print(\"\\n\")\n",
    "print(\"letras de inicio de de fin\")\n",
    "l_inicio = t[0] #letra de inicio \n",
    "l_final = t[-1] #letra final \n",
    "print(f\"la letra inicial es {l_inicio} y la letra final es {l_final}\")\n",
    "print(\"\\n\")\n",
    "print(\"texto invertido\")\n",
    "p.reverse()\n",
    "t_invertido= ' '.join(p)\n",
    "print(f\"si ordenamos tu texto al reves dice: {t_invertido}\")\n",
    "print(\"\\n\")\n",
    "print(\"buscando la palabra cafe\")\n",
    "buscar = 'cafe' in t\n",
    "dic = {True:\"si\", False:\"no\"}\n",
    "print(f\"la palabra 'cafe' {dic[buscar]} se encuentra en el texto\")"
   ]
  },
  {
   "cell_type": "code",
   "execution_count": 7,
   "id": "77659d9e-479b-484e-857e-da8946b3aeef",
   "metadata": {},
   "outputs": [
    {
     "name": "stdout",
     "output_type": "stream",
     "text": [
      "adivina el numero:\n",
      ">>>>>>>>>>>>>>>>>>>\n"
     ]
    },
    {
     "name": "stdin",
     "output_type": "stream",
     "text": [
      "dime tu nombre:  zero\n"
     ]
    },
    {
     "name": "stdout",
     "output_type": "stream",
     "text": [
      "Bueno zero, pense un nro entre 1 y 100\n",
      " tienes 8 intentos\n"
     ]
    },
    {
     "name": "stdin",
     "output_type": "stream",
     "text": [
      "cual es el numero:  50\n"
     ]
    },
    {
     "name": "stdout",
     "output_type": "stream",
     "text": [
      "mi numero es mas bajo\n"
     ]
    },
    {
     "name": "stdin",
     "output_type": "stream",
     "text": [
      "cual es el numero:  40\n"
     ]
    },
    {
     "name": "stdout",
     "output_type": "stream",
     "text": [
      "mi numero es mas bajo\n"
     ]
    },
    {
     "name": "stdin",
     "output_type": "stream",
     "text": [
      "cual es el numero:  20\n"
     ]
    },
    {
     "name": "stdout",
     "output_type": "stream",
     "text": [
      "mi numero es mas bajo\n"
     ]
    },
    {
     "name": "stdin",
     "output_type": "stream",
     "text": [
      "cual es el numero:  10\n"
     ]
    },
    {
     "name": "stdout",
     "output_type": "stream",
     "text": [
      "mi numero es mas bajo\n"
     ]
    },
    {
     "name": "stdin",
     "output_type": "stream",
     "text": [
      "cual es el numero:  6\n"
     ]
    },
    {
     "name": "stdout",
     "output_type": "stream",
     "text": [
      "felicitaciones zero has adivinado en 5 intentos\n"
     ]
    }
   ],
   "source": [
    "from random import randint\n",
    "print(\"adivina el numero:\")\n",
    "print(\">>>>>>>>>>>>>>>>>>>\")\n",
    "estimado = 0\n",
    "intentos = 0\n",
    "n_secreto = randint(1,100)\n",
    "nombre = input(\"dime tu nombre: \")\n",
    "print(f\"Bueno {nombre}, pense un nro entre 1 y 100\\n tienes 8 intentos\")\n",
    "while intentos < 8:\n",
    "    estimado = int(input(\"cual es el numero: \"))\n",
    "    intentos += 1\n",
    "    if estimado not in range(1,101):\n",
    "        print(f\"numero esta fuera de rango\")\n",
    "    elif estimado < n_secreto:\n",
    "        print(\"mi numero es mas alto\")\n",
    "    elif estimado > n_secreto:\n",
    "        print(\"mi numero es mas bajo\")\n",
    "\n",
    "    else:\n",
    "        print(f\"felicitaciones {nombre} has adivinado en {intentos} intentos\")\n",
    "        break\n",
    "if estimado != n_secreto:\n",
    "    print(f\"lo siento se han agotado los intentos el nro secreto era {n_secreto}\")\n",
    "    "
   ]
  },
  {
   "cell_type": "code",
   "execution_count": 12,
   "id": "9f71df3d-8eaa-4c87-af87-18964b7eb282",
   "metadata": {},
   "outputs": [
    {
     "name": "stdout",
     "output_type": "stream",
     "text": [
      "cuenta bancaria\n",
      ">>>>>>>>>>>>>>>>\n"
     ]
    },
    {
     "name": "stdin",
     "output_type": "stream",
     "text": [
      "ingrese su nombre:  zero\n",
      "ingrese su apellido:  cool\n",
      "ingrese el nro de cuenta:  0001\n"
     ]
    },
    {
     "name": "stdout",
     "output_type": "stream",
     "text": [
      "Cliente : zero cool\n",
      "Balance de cuenta 0001: $0\n",
      "elije depositar(D), retirar(R),salir(S)\n"
     ]
    },
    {
     "name": "stdin",
     "output_type": "stream",
     "text": [
      " D\n",
      "monto a depositar:  700\n"
     ]
    },
    {
     "name": "stdout",
     "output_type": "stream",
     "text": [
      "deposito aceptado\n",
      "Cliente : zero cool\n",
      "Balance de cuenta 0001: $700\n",
      "elije depositar(D), retirar(R),salir(S)\n"
     ]
    },
    {
     "name": "stdin",
     "output_type": "stream",
     "text": [
      " R\n",
      "monto a retirar:  34\n"
     ]
    },
    {
     "name": "stdout",
     "output_type": "stream",
     "text": [
      "retiro realizado\n",
      "Cliente : zero cool\n",
      "Balance de cuenta 0001: $666\n",
      "elije depositar(D), retirar(R),salir(S)\n"
     ]
    },
    {
     "name": "stdin",
     "output_type": "stream",
     "text": [
      " R\n",
      "monto a retirar:  800\n"
     ]
    },
    {
     "name": "stdout",
     "output_type": "stream",
     "text": [
      "fondos insuficientes\n",
      "Cliente : zero cool\n",
      "Balance de cuenta 0001: $666\n",
      "elije depositar(D), retirar(R),salir(S)\n"
     ]
    },
    {
     "name": "stdin",
     "output_type": "stream",
     "text": [
      " D\n",
      "monto a depositar:  700\n"
     ]
    },
    {
     "name": "stdout",
     "output_type": "stream",
     "text": [
      "deposito aceptado\n",
      "Cliente : zero cool\n",
      "Balance de cuenta 0001: $1366\n",
      "elije depositar(D), retirar(R),salir(S)\n"
     ]
    },
    {
     "name": "stdin",
     "output_type": "stream",
     "text": [
      " S\n"
     ]
    },
    {
     "name": "stdout",
     "output_type": "stream",
     "text": [
      "Cliente : zero cool\n",
      "Balance de cuenta 0001: $1366\n",
      "gracias por operar con nosotros\n"
     ]
    }
   ],
   "source": [
    "print(\"cuenta bancaria\")\n",
    "print(\">>>>>>>>>>>>>>>>\")\n",
    "class Persona:\n",
    "    def __init__(self, nombre, apellido):\n",
    "        self.nombre = nombre\n",
    "        self.apellido = apellido\n",
    "class Cliente(Persona):\n",
    "    def __init__(self,nombre, apellido,numero_cuenta, balance=0):\n",
    "        super().__init__(nombre,apellido)\n",
    "        self.numero_cuenta = numero_cuenta\n",
    "        self.balance = balance\n",
    "    def __str__(self):\n",
    "        return f\"Cliente : {self.nombre} {self.apellido}\\nBalance de cuenta {self.numero_cuenta}: ${self.balance}\"\n",
    "        \n",
    "    def depositar(self, monto_deposito):\n",
    "        self.balance += monto_deposito\n",
    "        print(\"deposito aceptado\")\n",
    "    def retirar(self, monto_deposito):\n",
    "        if self.balance >= monto_deposito:\n",
    "            self.balance -= monto_deposito\n",
    "            print(\"retiro realizado\")\n",
    "        else:\n",
    "            print(\"fondos insuficientes\")\n",
    "def crear_cliente():\n",
    "    nombre_cl= input(\"ingrese su nombre: \")\n",
    "    apellido_cl = input(\"ingrese su apellido: \")\n",
    "    numero_cuenta = input(\"ingrese el nro de cuenta: \")\n",
    "    cliente = Cliente(nombre_cl, apellido_cl,numero_cuenta)\n",
    "    return cliente\n",
    "def inicio():\n",
    "    mi_cliente = crear_cliente()\n",
    "    print(mi_cliente)\n",
    "    opcion = 0\n",
    "    while opcion != 'S':\n",
    "        print(\"elije depositar(D), retirar(R),salir(S)\")\n",
    "        opcion = input()\n",
    "        if opcion == 'D':\n",
    "            monto_dep = int(input(\"monto a depositar: \"))\n",
    "            mi_cliente.depositar(monto_dep)\n",
    "        elif opcion == 'R':\n",
    "            monto_rep = int(input(\"monto a retirar: \"))\n",
    "            mi_cliente.retirar(monto_rep)\n",
    "        print(mi_cliente)\n",
    "    print(\"gracias por operar con nosotros\")\n",
    "inicio()"
   ]
  },
  {
   "cell_type": "code",
   "execution_count": null,
   "id": "f1f2a79e-9a84-4231-8a5c-1f58f21076aa",
   "metadata": {},
   "outputs": [],
   "source": []
  },
  {
   "cell_type": "code",
   "execution_count": null,
   "id": "d32f321f-759e-4ce9-8059-212e748fa0cc",
   "metadata": {},
   "outputs": [],
   "source": []
  }
 ],
 "metadata": {
  "kernelspec": {
   "display_name": "Python 3 (ipykernel)",
   "language": "python",
   "name": "python3"
  },
  "language_info": {
   "codemirror_mode": {
    "name": "ipython",
    "version": 3
   },
   "file_extension": ".py",
   "mimetype": "text/x-python",
   "name": "python",
   "nbconvert_exporter": "python",
   "pygments_lexer": "ipython3",
   "version": "3.12.4"
  }
 },
 "nbformat": 4,
 "nbformat_minor": 5
}
