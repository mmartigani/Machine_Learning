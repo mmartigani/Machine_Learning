{
 "cells": [
  {
   "cell_type": "code",
   "execution_count": 3,
   "id": "f77c34f9-5ee8-4380-a430-39b9c0029954",
   "metadata": {},
   "outputs": [],
   "source": [
    "import pandas as pd \n",
    "import numpy as np \n",
    "import requests\n",
    "import uuid\n",
    "import hashlib\n",
    "import time\n",
    "import random\n",
    "import matplotlib.pyplot as plt\n",
    "%matplotlib inline \n",
    "#permite que le coloquemos ; en vez de show()\n",
    "import seaborn as sns \n",
    "from sklearn import linear_model\n",
    "from sklearn.linear_model import LogisticRegression , LinearRegression\n",
    "from sklearn.model_selection import train_test_split,cross_val_score,GridSearchCV\n",
    "from sklearn.preprocessing import LabelEncoder, MinMaxScaler, StandardScaler, OneHotEncoder\n",
    "from sklearn.tree import DecisionTreeClassifier, plot_tree, DecisionTreeRegressor\n",
    "from sklearn.ensemble import RandomForestClassifier,RandomForestRegressor\n",
    "from sklearn.cluster import KMeans\n",
    "from sklearn.datasets import load_iris\n",
    "from sklearn.decomposition import PCA\n",
    "from scipy.cluster.hierarchy import dendrogram, linkage\n",
    "from sklearn.utils import resample\n",
    "from sklearn.feature_selection import SelectKBest, SelectFromModel, chi2\n",
    "from sklearn.pipeline import Pipeline, make_pipeline\n",
    "from IPython.display import Image, display"
   ]
  },
  {
   "cell_type": "code",
   "execution_count": 4,
   "id": "b0b59359-ab8b-477f-876d-67cd0400bf36",
   "metadata": {},
   "outputs": [
    {
     "data": {
      "text/plain": [
       "{'copyright': '\\nRobert Schwarz \\n(U. Wisconsin)\\n',\n",
       " 'date': '2002-03-20',\n",
       " 'explanation': 'Looking out from the bottom of the world, strange and spectacular sights are sometimes observed.  Such was the case during the long Antarctic night of 1998, as awesome aurora sub-storms were photographed above scientific outposts.  Visible in the left foreground of the above photograph is the Martin A. Pomerantz Observatory while the now defunct SPIREX telescope canvas dome is visible to its right.  The outside temperature at the time this photograph was taken was about -73 Celsius (-100 Fahrenheit), although a slightly heated box sheltered the camera.',\n",
       " 'hdurl': 'https://apod.nasa.gov/apod/image/0203/spaurora1_schwarz.jpg',\n",
       " 'media_type': 'image',\n",
       " 'service_version': 'v1',\n",
       " 'title': 'Aurora Over Antarctica',\n",
       " 'url': 'https://apod.nasa.gov/apod/image/0203/spaurora1_schwarz.jpg'}"
      ]
     },
     "execution_count": 4,
     "metadata": {},
     "output_type": "execute_result"
    }
   ],
   "source": [
    "url=\"https://api.nasa.gov/planetary/apod\"\n",
    "api_key=\"I4kgakmFHuHdMu0x1KIaHJLpaPGs113THUMw5TrF\"\n",
    "params={\n",
    "    \"api_key\":api_key,\n",
    "    \"date\":\"2002-03-20\"\n",
    "}\n",
    "respuesta=requests.get(url,params=params)\n",
    "data =respuesta.json()\n",
    "data"
   ]
  },
  {
   "cell_type": "code",
   "execution_count": 5,
   "id": "360abcc2-234a-4432-9ae5-243bb3970f1b",
   "metadata": {},
   "outputs": [
    {
     "data": {
      "text/html": [
       "<img src=\"https://apod.nasa.gov/apod/image/0203/spaurora1_schwarz.jpg\"/>"
      ],
      "text/plain": [
       "<IPython.core.display.Image object>"
      ]
     },
     "metadata": {},
     "output_type": "display_data"
    }
   ],
   "source": [
    "display(Image(url=data['url']))"
   ]
  },
  {
   "cell_type": "code",
   "execution_count": 9,
   "id": "07797124-e38a-4e9e-bcad-2f35af2697d7",
   "metadata": {},
   "outputs": [
    {
     "data": {
      "text/plain": [
       "{'copyright': '\\nPhillip Calais\\n',\n",
       " 'date': '2013-05-13',\n",
       " 'explanation': \"It was just eight minutes after sunrise, last week, and already there were four things in front of the Sun. The largest and most notable was Earth's Moon, obscuring a big chunk of the Sun's lower limb as it moved across the solar disk, as viewed from Fremantle, Australia. This was expected as the image was taken during a partial solar eclipse -- an eclipse that left sunlight streaming around all sides of the Moon from some locations. Next, a band of clouds divided the Sun horizontally while showing interesting internal structure vertically.  The third intervening body might be considered to be the Earth's atmosphere, as it dimmed the Sun from its higher altitude brightness while density fluctuations caused the Sun's edges to appear to shimmer. Although closest to the photographer, the least expected solar occulter was an airplane. Quite possibly, passengers on both sides of that airplane were contemplating the unusual view only visible out the eastern-facing windows.   Cosmonova: APOD editor to speak in Sweden on May 28\",\n",
       " 'hdurl': 'https://apod.nasa.gov/apod/image/1305/eclipseplane_phillip_2541.jpg',\n",
       " 'media_type': 'image',\n",
       " 'service_version': 'v1',\n",
       " 'title': 'Partial Solar Eclipse with Airplane',\n",
       " 'url': 'https://apod.nasa.gov/apod/image/1305/eclipseplane_phillip_960.jpg'}"
      ]
     },
     "execution_count": 9,
     "metadata": {},
     "output_type": "execute_result"
    }
   ],
   "source": [
    "url=\"https://api.nasa.gov/planetary/apod\"\n",
    "api_key=\"I4kgakmFHuHdMu0x1KIaHJLpaPGs113THUMw5TrF\"\n",
    "params={\n",
    "    \"api_key\":api_key,\n",
    "    \"date\":\"2013-05-13\"\n",
    "}\n",
    "respuesta=requests.get(url,params=params)\n",
    "data =respuesta.json()\n",
    "data"
   ]
  },
  {
   "cell_type": "code",
   "execution_count": 10,
   "id": "9f81c0ce-6967-4ad6-9da8-51e2f2268034",
   "metadata": {},
   "outputs": [
    {
     "data": {
      "text/html": [
       "<img src=\"https://apod.nasa.gov/apod/image/1305/eclipseplane_phillip_960.jpg\"/>"
      ],
      "text/plain": [
       "<IPython.core.display.Image object>"
      ]
     },
     "metadata": {},
     "output_type": "display_data"
    }
   ],
   "source": [
    "display(Image(url=data['url']))"
   ]
  }
 ],
 "metadata": {
  "kernelspec": {
   "display_name": "Python 3 (ipykernel)",
   "language": "python",
   "name": "python3"
  },
  "language_info": {
   "codemirror_mode": {
    "name": "ipython",
    "version": 3
   },
   "file_extension": ".py",
   "mimetype": "text/x-python",
   "name": "python",
   "nbconvert_exporter": "python",
   "pygments_lexer": "ipython3",
   "version": "3.12.4"
  }
 },
 "nbformat": 4,
 "nbformat_minor": 5
}
