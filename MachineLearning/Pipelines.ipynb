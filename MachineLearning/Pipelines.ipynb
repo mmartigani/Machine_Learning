{
 "cells": [
  {
   "cell_type": "code",
   "execution_count": 8,
   "id": "3d0442d6-317c-4d39-95a1-52f629fedd12",
   "metadata": {},
   "outputs": [],
   "source": [
    "import pandas as pd \n",
    "import numpy as np \n",
    "import uuid\n",
    "import hashlib\n",
    "import time\n",
    "import random\n",
    "import matplotlib.pyplot as plt\n",
    "%matplotlib inline \n",
    "#permite que le coloquemos ; en vez de show()\n",
    "import seaborn as sns \n",
    "from sklearn import linear_model\n",
    "from sklearn.linear_model import LogisticRegression , LinearRegression\n",
    "from sklearn.model_selection import train_test_split\n",
    "from sklearn.preprocessing import LabelEncoder, MinMaxScaler, StandardScaler, OneHotEncoder\n",
    "from sklearn.tree import DecisionTreeClassifier, plot_tree, DecisionTreeRegressor\n",
    "from sklearn.ensemble import RandomForestClassifier,RandomForestRegressor\n",
    "from sklearn.cluster import KMeans\n",
    "from sklearn.datasets import load_iris\n",
    "from sklearn.decomposition import PCA\n",
    "from scipy.cluster.hierarchy import dendrogram, linkage\n",
    "from sklearn.utils import resample\n",
    "from sklearn.feature_selection import SelectKBest, SelectFromModel, chi2\n",
    "from sklearn.pipeline import Pipeline ,make_pipeline"
   ]
  },
  {
   "cell_type": "code",
   "execution_count": 2,
   "id": "6f0dcbb5-ba91-433e-88f5-1c2386d82156",
   "metadata": {},
   "outputs": [
    {
     "name": "stdout",
     "output_type": "stream",
     "text": [
      "las predicciones son: [2 1 0 2 0 2 0 1 1 1 2 1 1 1 1 0 1 1 0 0 2 1 0 0 2 0 0 1 1 0 2 1 0 2 2 1 0\n",
      " 2]\n",
      "las precision del modelo es:0.97\n"
     ]
    }
   ],
   "source": [
    "data = load_iris()\n",
    "X=data.data\n",
    "y=data.target\n",
    "X_entrena, X_prueba, y_entrena, y_prueba=train_test_split(X,y,test_size=0.25, random_state=0)\n",
    "scaler = StandardScaler()\n",
    "scaler.fit(X_entrena)\n",
    "X_entrena_escalado = scaler.transform(X_entrena)\n",
    "X_prueba_escalado = scaler.transform(X_prueba)\n",
    "modelo = LogisticRegression()\n",
    "modelo.fit(X_entrena_escalado, y_entrena)\n",
    "y_pred = modelo.predict(X_prueba_escalado)\n",
    "puntaje =modelo.score(X_prueba_escalado,y_prueba)\n",
    "print(f\"las predicciones son: {y_pred}\")\n",
    "print(f\"las precision del modelo es:{puntaje:.2f}\")\n"
   ]
  },
  {
   "cell_type": "code",
   "execution_count": 9,
   "id": "d710d662-e729-4198-8779-6d0f96d55350",
   "metadata": {},
   "outputs": [
    {
     "name": "stdout",
     "output_type": "stream",
     "text": [
      "las predicciones son: [2 1 0 2 0 2 0 1 1 1 2 1 1 1 1 0 1 1 0 0 2 1 0 0 2 0 0 1 1 0 2 1 0 2 2 1 0\n",
      " 2]\n",
      "las precision del modelo es:0.97\n"
     ]
    }
   ],
   "source": [
    "# usando pipeline\n",
    "data = load_iris()\n",
    "X=data.data\n",
    "y=data.target\n",
    "X_entrena, X_prueba, y_entrena, y_prueba=train_test_split(X,y,test_size=0.25, \n",
    "                                                          random_state=0)\n",
    "pipeline = Pipeline([\n",
    "    ('scaler', StandardScaler()),\n",
    "    ('modelo' , LogisticRegression())\n",
    "])\n",
    "pipeline.fit(X_entrena,y_entrena)\n",
    "y_pred = pipeline.predict(X_prueba)\n",
    "puntaje =pipeline.score(X_prueba,y_prueba)\n",
    "print(f\"las predicciones son: {y_pred}\")\n",
    "print(f\"las precision del modelo es:{puntaje:.2f}\")"
   ]
  },
  {
   "cell_type": "code",
   "execution_count": 10,
   "id": "e01dab21-0a68-4ce3-bf7f-d29c615133c4",
   "metadata": {},
   "outputs": [
    {
     "name": "stdout",
     "output_type": "stream",
     "text": [
      "las predicciones son: [2 1 0 2 0 2 0 1 1 1 2 1 1 1 1 0 1 1 0 0 2 1 0 0 2 0 0 1 1 0 2 1 0 2 2 1 0\n",
      " 2]\n",
      "las precision del modelo es:0.97\n"
     ]
    }
   ],
   "source": [
    "#usando make_pipeline\n",
    "data = load_iris()\n",
    "X=data.data\n",
    "y=data.target\n",
    "X_entrena, X_prueba, y_entrena, y_prueba=train_test_split(X,y,test_size=0.25, \n",
    "                                                          random_state=0)\n",
    "pipeline = make_pipeline(\n",
    "    StandardScaler(),\n",
    "    LogisticRegression())\n",
    "pipeline.fit(X_entrena,y_entrena)\n",
    "y_pred = pipeline.predict(X_prueba)\n",
    "puntaje =pipeline.score(X_prueba,y_prueba)\n",
    "print(f\"las predicciones son: {y_pred}\")\n",
    "print(f\"las precision del modelo es:{puntaje:.2f}\")"
   ]
  },
  {
   "cell_type": "code",
   "execution_count": null,
   "id": "64f0280b-162a-4f44-90b2-0732243d6863",
   "metadata": {},
   "outputs": [],
   "source": []
  }
 ],
 "metadata": {
  "kernelspec": {
   "display_name": "Python 3 (ipykernel)",
   "language": "python",
   "name": "python3"
  },
  "language_info": {
   "codemirror_mode": {
    "name": "ipython",
    "version": 3
   },
   "file_extension": ".py",
   "mimetype": "text/x-python",
   "name": "python",
   "nbconvert_exporter": "python",
   "pygments_lexer": "ipython3",
   "version": "3.12.4"
  }
 },
 "nbformat": 4,
 "nbformat_minor": 5
}
