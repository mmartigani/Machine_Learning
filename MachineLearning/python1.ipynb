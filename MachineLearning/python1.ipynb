{
 "cells": [
  {
   "cell_type": "code",
   "execution_count": 3,
   "id": "15b8118e-b03a-4dce-bf9b-186eaabaf153",
   "metadata": {},
   "outputs": [],
   "source": [
    "#variBLES"
   ]
  },
  {
   "cell_type": "code",
   "execution_count": 31,
   "id": "55be9fb7-cd8d-46dc-a445-b64b5e42dfa8",
   "metadata": {},
   "outputs": [
    {
     "name": "stdout",
     "output_type": "stream",
     "text": [
      "7\n",
      "88\n",
      "95\n"
     ]
    }
   ],
   "source": [
    "miNumero = 7\n",
    "print(miNumero)\n",
    "miNumero2=88\n",
    "print(miNumero2)\n",
    "suma = miNumero  + miNumero2\n",
    "print(suma)"
   ]
  },
  {
   "cell_type": "code",
   "execution_count": null,
   "id": "ec126809-a301-46b8-977f-9f664592e058",
   "metadata": {},
   "outputs": [],
   "source": [
    "#variables de texto"
   ]
  },
  {
   "cell_type": "code",
   "execution_count": 25,
   "id": "be635ff8-3ebb-4201-9f8e-2ba7b91334d0",
   "metadata": {},
   "outputs": [
    {
     "name": "stdout",
     "output_type": "stream",
     "text": [
      "hola mundo\n",
      "hola marco\n",
      "el libro 'el principito' es el mejor\n",
      "hola \"marco\" como estas\n",
      "good morning everyone\n"
     ]
    }
   ],
   "source": [
    "print(\"hola mundo\")\n",
    "print('hola marco')\n",
    "print(\"el libro 'el principito' es el mejor\")\n",
    "print('hola \"marco\" como estas')\n",
    "frase= \"good morning everyone\"\n",
    "print(frase)"
   ]
  },
  {
   "cell_type": "code",
   "execution_count": 26,
   "id": "c8d21ae1-7e0f-45d1-b500-07e36e86b55a",
   "metadata": {},
   "outputs": [],
   "source": [
    "#vemos la funcion \"type\" hace que los objetos nos \n",
    "# digan que tipo de datos son "
   ]
  },
  {
   "cell_type": "code",
   "execution_count": 27,
   "id": "c74a1b0b-9df7-41c3-be0c-0c9e1e6b9836",
   "metadata": {},
   "outputs": [
    {
     "name": "stdout",
     "output_type": "stream",
     "text": [
      "<class 'int'>\n",
      "<class 'float'>\n",
      "<class 'str'>\n",
      "<class 'list'>\n",
      "<class 'tuple'>\n",
      "<class 'dict'>\n"
     ]
    }
   ],
   "source": [
    "print(type(10))\n",
    "print(type(10.7))\n",
    "print(type(\"hello\"))\n",
    "milista=['hola','como','estas']\n",
    "mitupla=(1,2,2)\n",
    "midict={'uno':12,'dos':23}\n",
    "print(type(milista))\n",
    "print(type(mitupla))\n",
    "print(type(midict))"
   ]
  },
  {
   "cell_type": "code",
   "execution_count": 20,
   "id": "0efe168f-53bf-4008-89d2-30974f115b33",
   "metadata": {},
   "outputs": [],
   "source": [
    "# tres palabras importantes en PYTHON = TYPE, HELP,"
   ]
  },
  {
   "cell_type": "code",
   "execution_count": 32,
   "id": "6dbd600e-fcc0-49fd-ab87-a5dec9f0cc92",
   "metadata": {},
   "outputs": [
    {
     "name": "stdout",
     "output_type": "stream",
     "text": [
      "5\n",
      "1\n",
      "21\n",
      "17.0\n",
      "3.3333333333333335\n",
      "1\n",
      "8\n",
      "5.0\n"
     ]
    }
   ],
   "source": [
    "#opraciones con numeros \n",
    "suma= 2+3\n",
    "print(suma)\n",
    "resta= 5-4\n",
    "print(resta)\n",
    "multiplicacion = 3*7\n",
    "print(multiplicacion)\n",
    "division =34/2\n",
    "print(division)\n",
    "division_al_piso=10/3\n",
    "print(division_al_piso)\n",
    "modulo = 10%3\n",
    "print(modulo)\n",
    "potencia = 2**3\n",
    "print(potencia)\n",
    "raiz_cuadrada= 25 ** 0.5\n",
    "print(raiz_cuadrada)"
   ]
  },
  {
   "cell_type": "code",
   "execution_count": 39,
   "id": "33470ebd-f96d-4883-90fd-064286cec0c7",
   "metadata": {},
   "outputs": [
    {
     "name": "stdout",
     "output_type": "stream",
     "text": [
      "Buenos Dias Marco hoy es :  15/07/1990 Cotizaciones del dia\n",
      "cantidad de dolares a cambiar: \n",
      "210.0\n",
      "Euros a recibir: \n",
      "184.8\n",
      "ud va a recibir el dinero de la siguiente manera: \n",
      "billetes de 10 euros: \n",
      "18.0\n",
      "billetes de 1 euro\n",
      "4.0\n",
      "monedas: \n",
      "0.8000000000000114\n",
      "gracias por Cotizar Marco.\n"
     ]
    }
   ],
   "source": [
    "Nombre = \"Marco\"\n",
    "fecha = \"15/07/1990\"\n",
    "saludo= \"Buenos Dias\"\n",
    "bienvenida = saludo + \" \" + Nombre + \" \" + \"hoy es : \" + \" \" + fecha + \" Cotizaciones del dia\"\n",
    "print(bienvenida)\n",
    "dolares = 210.0\n",
    "euros_a_recibir= dolares * 0.88\n",
    "billetes_diez = euros_a_recibir // 10\n",
    "billetes_de_uno = (euros_a_recibir - (billetes_diez * 10)) // 1\n",
    "monedas = euros_a_recibir % 1\n",
    "print(\"cantidad de dolares a cambiar: \")\n",
    "print(dolares)\n",
    "print(\"Euros a recibir: \")\n",
    "print(euros_a_recibir)\n",
    "print(\"ud va a recibir el dinero de la siguiente manera: \")\n",
    "print(\"billetes de 10 euros: \")\n",
    "print(billetes_diez)\n",
    "print(\"billetes de 1 euro\")\n",
    "print(billetes_de_uno)\n",
    "print(\"monedas: \")\n",
    "print(monedas)\n",
    "print(\"gracias por Cotizar\" + \" \" + Nombre + \".\") "
   ]
  },
  {
   "cell_type": "code",
   "execution_count": null,
   "id": "0504cf1d-b0c4-4a52-9f69-77062b71aa27",
   "metadata": {},
   "outputs": [],
   "source": []
  }
 ],
 "metadata": {
  "kernelspec": {
   "display_name": "Python 3 (ipykernel)",
   "language": "python",
   "name": "python3"
  },
  "language_info": {
   "codemirror_mode": {
    "name": "ipython",
    "version": 3
   },
   "file_extension": ".py",
   "mimetype": "text/x-python",
   "name": "python",
   "nbconvert_exporter": "python",
   "pygments_lexer": "ipython3",
   "version": "3.12.4"
  }
 },
 "nbformat": 4,
 "nbformat_minor": 5
}
