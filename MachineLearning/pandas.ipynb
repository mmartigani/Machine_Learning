{
 "cells": [
  {
   "cell_type": "code",
   "execution_count": 1,
   "id": "9b2a829a-8569-466a-8f15-5a8d779703c4",
   "metadata": {},
   "outputs": [],
   "source": [
    "#tipos de datos en Pandas \n",
    "#series, dataframes\n",
    "import pandas as pd"
   ]
  },
  {
   "cell_type": "code",
   "execution_count": 2,
   "id": "c5b00d5c-5a00-4d6f-a6df-032a6a1e1de7",
   "metadata": {},
   "outputs": [
    {
     "name": "stdout",
     "output_type": "stream",
     "text": [
      "{'nombre': ['pedro', 'juan', 'lorena'], 'edad': [25, 39, 33]}\n"
     ]
    }
   ],
   "source": [
    "datos = {\"nombre\":[\"pedro\",\"juan\",\"lorena\"], \"edad\":[25,39,33]}\n",
    "print(datos)"
   ]
  },
  {
   "cell_type": "code",
   "execution_count": 3,
   "id": "fbe9016d-04a2-49c3-b147-a676a525e88e",
   "metadata": {},
   "outputs": [
    {
     "name": "stdout",
     "output_type": "stream",
     "text": [
      "   nombre  edad\n",
      "0   pedro    25\n",
      "1    juan    39\n",
      "2  lorena    33\n"
     ]
    }
   ],
   "source": [
    "df=pd.DataFrame(datos)\n",
    "print(df)"
   ]
  },
  {
   "cell_type": "code",
   "execution_count": 4,
   "id": "3627aa40-7863-4ef0-81ba-ee70c5f51740",
   "metadata": {},
   "outputs": [
    {
     "name": "stdout",
     "output_type": "stream",
     "text": [
      "<class 'pandas.core.frame.DataFrame'>\n"
     ]
    }
   ],
   "source": [
    "print(type(df))"
   ]
  },
  {
   "cell_type": "code",
   "execution_count": 5,
   "id": "1e129184-d686-4244-8dab-3bb1e32234a3",
   "metadata": {},
   "outputs": [
    {
     "name": "stdout",
     "output_type": "stream",
     "text": [
      "0     pedro\n",
      "1      juan\n",
      "2    lorena\n",
      "Name: nombre, dtype: object\n"
     ]
    }
   ],
   "source": [
    "#--------series------------\n",
    "print(df[\"nombre\"])"
   ]
  },
  {
   "cell_type": "code",
   "execution_count": 6,
   "id": "5f58baff-9ee3-4197-af76-c361209d6af8",
   "metadata": {},
   "outputs": [
    {
     "name": "stdout",
     "output_type": "stream",
     "text": [
      "0     pedro\n",
      "1      juan\n",
      "2    lorena\n",
      "Name: nombre, dtype: object\n"
     ]
    }
   ],
   "source": [
    "print(df.nombre)"
   ]
  },
  {
   "cell_type": "code",
   "execution_count": 7,
   "id": "0c6e323a-6980-42cf-8eac-6ca49e1a6ace",
   "metadata": {},
   "outputs": [
    {
     "name": "stdout",
     "output_type": "stream",
     "text": [
      "                    region  enero  febrero  marzo  abril   mayo  junio  julio  \\\n",
      "0                 A CORUNA  240.5    293.4   31.0   80.6  149.5  108.9   44.6   \n",
      "1                 ALBACETE   68.1     28.0   26.2   65.3   25.4   50.0    2.0   \n",
      "2                 ALICANTE   49.2      3.7   63.2   85.8   57.2   20.0    9.2   \n",
      "3                  ALMERIA   56.3      5.2   35.8   43.1   38.8   16.9   10.2   \n",
      "4                    ARABA   96.8     79.9   38.0   52.0   37.7  107.8    8.5   \n",
      "5                 ASTURIAS  196.9    138.4   34.4   73.1   67.4  131.2   22.5   \n",
      "6                    AVILA   67.6    104.5    5.6   83.4   25.7   44.4    5.5   \n",
      "7                  BADAJOZ   62.2     78.5    7.7   61.3   13.0   29.6    0.0   \n",
      "8            ILLES BALEARS   81.2      5.3   53.9   22.0   54.4   28.5    8.8   \n",
      "9                BARCELONA   26.8     28.4   16.4   72.2   26.0   42.3   18.7   \n",
      "10                 BIZKAIA  175.7    111.5   52.3   57.5   49.1  124.8   37.9   \n",
      "11                  BURGOS   75.8     90.1   17.2   54.2   46.0   75.5    5.8   \n",
      "12                 CACERES   70.5    117.3    4.3   95.1   19.5   36.2    0.2   \n",
      "13                   CADIZ  148.5     75.4   65.0   35.5    7.5   12.3    0.0   \n",
      "14               CANTABRIA  180.7    112.8   56.0   60.3   60.2  122.9   43.2   \n",
      "15               CASTELLON   56.6     21.6   30.6   97.3   31.7   46.1   33.9   \n",
      "16                   CEUTA  261.9     93.9  209.8   35.4   12.9    2.7    0.0   \n",
      "17             CIUDAD REAL   84.0     39.6   10.3   63.0   11.8   24.0    0.7   \n",
      "18                 CORDOBA   88.6     57.5    9.6   64.5   11.6   20.7    0.3   \n",
      "19                  CUENCA   93.6     58.4   14.8   84.8   27.0   59.5    9.0   \n",
      "20                GIPUZKOA  173.0    113.6   62.0   62.9   69.0  145.0   46.8   \n",
      "21                  GIRONA   34.9     45.4   16.0   73.2   54.2   39.9   29.4   \n",
      "22                 GRANADA   72.2     32.9   17.2   51.0   38.1   15.5    1.3   \n",
      "23             GUADALAJARA   88.4     74.3   15.5   92.7   40.6   66.5   12.3   \n",
      "24                  HUELVA   50.7    101.9   35.4   51.5   15.1   14.5    0.0   \n",
      "25                  HUESCA   84.3     52.7    5.6   72.7   42.5   71.3   23.6   \n",
      "26                    JAEN  100.6     66.8   10.0   53.2   18.5   31.2    0.1   \n",
      "27                LA RIOJA   72.8     54.2   17.6   46.5   47.1   94.8    4.1   \n",
      "28              LAS PALMAS   44.1     32.6    6.1    3.5    0.7    1.1    0.7   \n",
      "29                    LEON   92.0    128.2   19.4   56.6   48.9   77.6    6.0   \n",
      "30                  LLEIDA   59.3     42.0   12.6   81.7   37.5   66.9   38.6   \n",
      "31                    LUGO  179.5    221.7   26.6   79.5   78.4  101.7   13.5   \n",
      "32                  MADRID   69.3     61.7    6.1   77.0   25.7   40.0    5.6   \n",
      "33                  MALAGA  139.5     43.7   35.5   56.9   16.5    6.4    0.0   \n",
      "34                 MELILLA   44.9     20.0   45.1   57.1    9.0    3.1    0.0   \n",
      "35                  MURCIA   44.5      2.3   52.6   61.6   48.7   32.6    9.3   \n",
      "36                 NAVARRA   98.8     85.9   23.8   43.7   44.2   87.9   17.6   \n",
      "37                 OURENSE  138.9    234.4   10.9   98.8   65.0   86.1    5.5   \n",
      "38                PALENCIA   52.3     81.3    7.5   55.8   29.7   79.3    3.4   \n",
      "39              PONTEVEDRA  255.4    335.7   22.3  128.4  144.5   80.7   24.6   \n",
      "40               SALAMANCA   52.9    123.6    4.1   62.4   24.4   50.8    5.6   \n",
      "41  SANTA CRUZ DE TENERIFE   90.6     56.0   20.8   19.4    2.8    3.5    1.7   \n",
      "42                 SEGOVIA   63.3     80.5    3.3   88.5   39.8   55.6    6.3   \n",
      "43                 SEVILLA   91.1     54.4   24.5   60.7    9.2    8.1    0.1   \n",
      "44                   SORIA   75.1     63.5   12.1   67.7   70.7   85.4   10.5   \n",
      "45               TARRAGONA   52.7     28.4    9.7   59.6   19.0   63.8   22.4   \n",
      "46                  TERUEL   54.1     28.8   11.9   74.6   48.5   72.6   26.8   \n",
      "47                  TOLEDO   83.0     51.1    7.5   62.5   15.0   27.1    3.3   \n",
      "48                VALENCIA   61.9     16.8   49.3   86.4   33.8   34.2   17.1   \n",
      "49              VALLADOLID   29.2     69.1    4.1   65.1   24.3   58.3    1.9   \n",
      "50                  ZAMORA   53.0    112.0    6.8   63.7   19.8   54.2    3.1   \n",
      "51                ZARAGOZA   52.0     30.0    3.6   52.7   38.3   57.5   13.5   \n",
      "\n",
      "    agosto  septiembre  octubre  noviembre  diciembre   anual  \n",
      "0     21.8        96.5    154.5      100.8      214.8  1536.9  \n",
      "1     34.5        48.0     44.8       33.1       14.1   439.5  \n",
      "2      5.0        44.0     41.1       47.4        1.8   427.6  \n",
      "3      1.9        17.4     27.3       32.6        3.2   288.7  \n",
      "4     17.7        63.3     38.5      212.2      197.3   949.7  \n",
      "5     19.2        90.3     74.2      309.8      205.3  1362.7  \n",
      "6     14.2        97.9     91.7       33.9       47.5   621.9  \n",
      "7      2.7        80.5     77.6       10.2       59.3   482.6  \n",
      "8     10.0        73.2     55.6      229.9       18.1   640.9  \n",
      "9     25.7        76.0     40.6       72.8        2.2   448.1  \n",
      "10    26.4        98.0     53.9      371.4      282.1  1440.6  \n",
      "11    17.6        48.4     48.7      112.3       88.1   679.7  \n",
      "12     4.9        98.5    130.9        7.1       75.8   660.3  \n",
      "13     0.1        30.8     24.8       44.5      135.1   579.5  \n",
      "14    30.3       105.1     47.1      384.6      246.6  1449.8  \n",
      "15    57.0       106.6     15.3       47.3        4.1   548.1  \n",
      "16     1.5         7.6      3.7      129.2       61.8   820.4  \n",
      "17    16.1        39.8     88.9       23.1       34.2   435.5  \n",
      "18     4.7        46.0     48.1       21.0       85.4   458.0  \n",
      "19    33.4        58.1     99.3       39.5       32.2   609.6  \n",
      "20    27.0       122.8     69.4      342.0      314.7  1548.2  \n",
      "21    44.0        89.9     29.6      108.5       12.1   577.1  \n",
      "22     6.8        11.5     18.6       31.7       25.5   322.3  \n",
      "23    33.5        76.0     75.4       44.6       35.1   654.9  \n",
      "24     0.0        78.2     32.0       18.1      105.3   502.7  \n",
      "25    17.7        78.3     65.0       64.7       59.1   637.5  \n",
      "26    15.8        19.0     45.7       51.0       51.8   463.7  \n",
      "27    16.9        42.0     37.2      115.8       49.7   598.7  \n",
      "28     1.5         0.9      1.6       10.9        4.5   108.2  \n",
      "29     9.2        71.8     60.1       59.8      112.1   741.7  \n",
      "30    19.0        55.7     45.0       58.6       32.9   549.8  \n",
      "31    17.6        59.5    111.0      114.1      179.8  1182.9  \n",
      "32    30.0        63.0     84.1       25.2       36.0   523.7  \n",
      "33     1.2        29.9     13.1       26.5       70.9   440.1  \n",
      "34     1.2        49.6      1.0       34.1        5.2   270.3  \n",
      "35     3.3        32.4     20.1       37.4        4.2   349.0  \n",
      "36    28.3        64.3     45.0      161.1      186.9   887.5  \n",
      "37    23.0        65.9     97.5       32.6      144.5  1003.1  \n",
      "38     6.8        61.6     47.5       56.0       51.5   532.7  \n",
      "39    34.0        92.4    175.7       45.3      236.4  1575.4  \n",
      "40     6.7        85.0     78.6       27.1       48.4   569.6  \n",
      "41     3.4         3.9      8.2       50.2       25.9   286.4  \n",
      "42    14.4        47.1     62.5       42.9       44.8   549.0  \n",
      "43     0.2        46.0     29.9       20.6      114.7   459.5  \n",
      "44    19.4        56.5     47.0       62.9       37.7   608.5  \n",
      "45    43.5        88.7     25.4      115.0        5.1   533.3  \n",
      "46    48.1        55.0     30.9       60.0       13.2   524.5  \n",
      "47    18.6        70.5     94.7       16.4       29.9   479.6  \n",
      "48    30.9        99.3     46.1       46.6        5.5   527.9  \n",
      "49     3.8        54.1     40.2       41.7       35.9   427.7  \n",
      "50     9.6        78.5     55.3       29.0       50.3   535.3  \n",
      "51    13.2        61.5     27.4       76.6       23.4   449.7  \n"
     ]
    }
   ],
   "source": [
    "df1=pd.read_csv(\"Precipitaciones.csv\")\n",
    "print(df1)"
   ]
  },
  {
   "cell_type": "code",
   "execution_count": 8,
   "id": "7ab7e342-2160-4557-be11-05d2da2e9ad1",
   "metadata": {},
   "outputs": [
    {
     "name": "stdout",
     "output_type": "stream",
     "text": [
      "<class 'pandas.core.frame.DataFrame'>\n"
     ]
    }
   ],
   "source": [
    "print(type(df1))"
   ]
  },
  {
   "cell_type": "code",
   "execution_count": 9,
   "id": "1a7a3763-da79-4b6a-a2e8-f929a8631ac2",
   "metadata": {},
   "outputs": [
    {
     "data": {
      "text/html": [
       "<div>\n",
       "<style scoped>\n",
       "    .dataframe tbody tr th:only-of-type {\n",
       "        vertical-align: middle;\n",
       "    }\n",
       "\n",
       "    .dataframe tbody tr th {\n",
       "        vertical-align: top;\n",
       "    }\n",
       "\n",
       "    .dataframe thead th {\n",
       "        text-align: right;\n",
       "    }\n",
       "</style>\n",
       "<table border=\"1\" class=\"dataframe\">\n",
       "  <thead>\n",
       "    <tr style=\"text-align: right;\">\n",
       "      <th></th>\n",
       "      <th>region</th>\n",
       "      <th>enero</th>\n",
       "      <th>febrero</th>\n",
       "      <th>marzo</th>\n",
       "      <th>abril</th>\n",
       "      <th>mayo</th>\n",
       "      <th>junio</th>\n",
       "      <th>julio</th>\n",
       "      <th>agosto</th>\n",
       "      <th>septiembre</th>\n",
       "      <th>octubre</th>\n",
       "      <th>noviembre</th>\n",
       "      <th>diciembre</th>\n",
       "      <th>anual</th>\n",
       "    </tr>\n",
       "  </thead>\n",
       "  <tbody>\n",
       "    <tr>\n",
       "      <th>0</th>\n",
       "      <td>A CORUNA</td>\n",
       "      <td>240.5</td>\n",
       "      <td>293.4</td>\n",
       "      <td>31.0</td>\n",
       "      <td>80.6</td>\n",
       "      <td>149.5</td>\n",
       "      <td>108.9</td>\n",
       "      <td>44.6</td>\n",
       "      <td>21.8</td>\n",
       "      <td>96.5</td>\n",
       "      <td>154.5</td>\n",
       "      <td>100.8</td>\n",
       "      <td>214.8</td>\n",
       "      <td>1536.9</td>\n",
       "    </tr>\n",
       "    <tr>\n",
       "      <th>1</th>\n",
       "      <td>ALBACETE</td>\n",
       "      <td>68.1</td>\n",
       "      <td>28.0</td>\n",
       "      <td>26.2</td>\n",
       "      <td>65.3</td>\n",
       "      <td>25.4</td>\n",
       "      <td>50.0</td>\n",
       "      <td>2.0</td>\n",
       "      <td>34.5</td>\n",
       "      <td>48.0</td>\n",
       "      <td>44.8</td>\n",
       "      <td>33.1</td>\n",
       "      <td>14.1</td>\n",
       "      <td>439.5</td>\n",
       "    </tr>\n",
       "  </tbody>\n",
       "</table>\n",
       "</div>"
      ],
      "text/plain": [
       "     region  enero  febrero  marzo  abril   mayo  junio  julio  agosto  \\\n",
       "0  A CORUNA  240.5    293.4   31.0   80.6  149.5  108.9   44.6    21.8   \n",
       "1  ALBACETE   68.1     28.0   26.2   65.3   25.4   50.0    2.0    34.5   \n",
       "\n",
       "   septiembre  octubre  noviembre  diciembre   anual  \n",
       "0        96.5    154.5      100.8      214.8  1536.9  \n",
       "1        48.0     44.8       33.1       14.1   439.5  "
      ]
     },
     "execution_count": 9,
     "metadata": {},
     "output_type": "execute_result"
    }
   ],
   "source": [
    "df1.head(2) #primeras filas "
   ]
  },
  {
   "cell_type": "code",
   "execution_count": 10,
   "id": "3728126c-7955-458d-90ed-d4e668dd14bd",
   "metadata": {},
   "outputs": [
    {
     "data": {
      "text/plain": [
       "(52, 14)"
      ]
     },
     "execution_count": 10,
     "metadata": {},
     "output_type": "execute_result"
    }
   ],
   "source": [
    "df1.shape #filas y columnas "
   ]
  },
  {
   "cell_type": "code",
   "execution_count": 11,
   "id": "847a4a10-3567-4f01-9dfa-dc9fc1f7fc87",
   "metadata": {},
   "outputs": [
    {
     "data": {
      "text/html": [
       "<div>\n",
       "<style scoped>\n",
       "    .dataframe tbody tr th:only-of-type {\n",
       "        vertical-align: middle;\n",
       "    }\n",
       "\n",
       "    .dataframe tbody tr th {\n",
       "        vertical-align: top;\n",
       "    }\n",
       "\n",
       "    .dataframe thead th {\n",
       "        text-align: right;\n",
       "    }\n",
       "</style>\n",
       "<table border=\"1\" class=\"dataframe\">\n",
       "  <thead>\n",
       "    <tr style=\"text-align: right;\">\n",
       "      <th></th>\n",
       "      <th>region</th>\n",
       "      <th>enero</th>\n",
       "      <th>febrero</th>\n",
       "      <th>marzo</th>\n",
       "      <th>abril</th>\n",
       "      <th>mayo</th>\n",
       "      <th>junio</th>\n",
       "      <th>julio</th>\n",
       "      <th>agosto</th>\n",
       "      <th>septiembre</th>\n",
       "      <th>octubre</th>\n",
       "      <th>noviembre</th>\n",
       "      <th>diciembre</th>\n",
       "      <th>anual</th>\n",
       "    </tr>\n",
       "  </thead>\n",
       "  <tbody>\n",
       "    <tr>\n",
       "      <th>50</th>\n",
       "      <td>ZAMORA</td>\n",
       "      <td>53.0</td>\n",
       "      <td>112.0</td>\n",
       "      <td>6.8</td>\n",
       "      <td>63.7</td>\n",
       "      <td>19.8</td>\n",
       "      <td>54.2</td>\n",
       "      <td>3.1</td>\n",
       "      <td>9.6</td>\n",
       "      <td>78.5</td>\n",
       "      <td>55.3</td>\n",
       "      <td>29.0</td>\n",
       "      <td>50.3</td>\n",
       "      <td>535.3</td>\n",
       "    </tr>\n",
       "    <tr>\n",
       "      <th>51</th>\n",
       "      <td>ZARAGOZA</td>\n",
       "      <td>52.0</td>\n",
       "      <td>30.0</td>\n",
       "      <td>3.6</td>\n",
       "      <td>52.7</td>\n",
       "      <td>38.3</td>\n",
       "      <td>57.5</td>\n",
       "      <td>13.5</td>\n",
       "      <td>13.2</td>\n",
       "      <td>61.5</td>\n",
       "      <td>27.4</td>\n",
       "      <td>76.6</td>\n",
       "      <td>23.4</td>\n",
       "      <td>449.7</td>\n",
       "    </tr>\n",
       "  </tbody>\n",
       "</table>\n",
       "</div>"
      ],
      "text/plain": [
       "      region  enero  febrero  marzo  abril  mayo  junio  julio  agosto  \\\n",
       "50    ZAMORA   53.0    112.0    6.8   63.7  19.8   54.2    3.1     9.6   \n",
       "51  ZARAGOZA   52.0     30.0    3.6   52.7  38.3   57.5   13.5    13.2   \n",
       "\n",
       "    septiembre  octubre  noviembre  diciembre  anual  \n",
       "50        78.5     55.3       29.0       50.3  535.3  \n",
       "51        61.5     27.4       76.6       23.4  449.7  "
      ]
     },
     "execution_count": 11,
     "metadata": {},
     "output_type": "execute_result"
    }
   ],
   "source": [
    "df1.tail(2) #ultimas filas "
   ]
  },
  {
   "cell_type": "code",
   "execution_count": 12,
   "id": "fd346aee-c74c-4beb-bdc8-7e8682a35821",
   "metadata": {},
   "outputs": [
    {
     "data": {
      "text/plain": [
       "Index(['region', 'enero', 'febrero', 'marzo', 'abril', 'mayo', 'junio',\n",
       "       'julio', 'agosto', 'septiembre', 'octubre', 'noviembre', 'diciembre',\n",
       "       'anual'],\n",
       "      dtype='object')"
      ]
     },
     "execution_count": 12,
     "metadata": {},
     "output_type": "execute_result"
    }
   ],
   "source": [
    "df1.columns # nos muestra todas las columnas "
   ]
  },
  {
   "cell_type": "code",
   "execution_count": 13,
   "id": "4ec67788-0800-456f-9ceb-647ec84cc1c7",
   "metadata": {},
   "outputs": [
    {
     "name": "stdout",
     "output_type": "stream",
     "text": [
      "<class 'pandas.core.frame.DataFrame'>\n",
      "RangeIndex: 52 entries, 0 to 51\n",
      "Data columns (total 14 columns):\n",
      " #   Column      Non-Null Count  Dtype  \n",
      "---  ------      --------------  -----  \n",
      " 0   region      52 non-null     object \n",
      " 1   enero       52 non-null     float64\n",
      " 2   febrero     52 non-null     float64\n",
      " 3   marzo       52 non-null     float64\n",
      " 4   abril       52 non-null     float64\n",
      " 5   mayo        52 non-null     float64\n",
      " 6   junio       52 non-null     float64\n",
      " 7   julio       52 non-null     float64\n",
      " 8   agosto      52 non-null     float64\n",
      " 9   septiembre  52 non-null     float64\n",
      " 10  octubre     52 non-null     float64\n",
      " 11  noviembre   52 non-null     float64\n",
      " 12  diciembre   52 non-null     float64\n",
      " 13  anual       52 non-null     float64\n",
      "dtypes: float64(13), object(1)\n",
      "memory usage: 5.8+ KB\n"
     ]
    }
   ],
   "source": [
    "df1.info()"
   ]
  },
  {
   "cell_type": "code",
   "execution_count": 14,
   "id": "cc091218-19f5-48b6-96a6-cdf154954c33",
   "metadata": {},
   "outputs": [
    {
     "data": {
      "text/html": [
       "<div>\n",
       "<style scoped>\n",
       "    .dataframe tbody tr th:only-of-type {\n",
       "        vertical-align: middle;\n",
       "    }\n",
       "\n",
       "    .dataframe tbody tr th {\n",
       "        vertical-align: top;\n",
       "    }\n",
       "\n",
       "    .dataframe thead th {\n",
       "        text-align: right;\n",
       "    }\n",
       "</style>\n",
       "<table border=\"1\" class=\"dataframe\">\n",
       "  <thead>\n",
       "    <tr style=\"text-align: right;\">\n",
       "      <th></th>\n",
       "      <th>enero</th>\n",
       "      <th>febrero</th>\n",
       "      <th>marzo</th>\n",
       "      <th>abril</th>\n",
       "      <th>mayo</th>\n",
       "      <th>junio</th>\n",
       "      <th>julio</th>\n",
       "      <th>agosto</th>\n",
       "      <th>septiembre</th>\n",
       "      <th>octubre</th>\n",
       "      <th>noviembre</th>\n",
       "      <th>diciembre</th>\n",
       "      <th>anual</th>\n",
       "    </tr>\n",
       "  </thead>\n",
       "  <tbody>\n",
       "    <tr>\n",
       "      <th>count</th>\n",
       "      <td>52.000000</td>\n",
       "      <td>52.000000</td>\n",
       "      <td>52.000000</td>\n",
       "      <td>52.000000</td>\n",
       "      <td>52.000000</td>\n",
       "      <td>52.000000</td>\n",
       "      <td>52.000000</td>\n",
       "      <td>52.000000</td>\n",
       "      <td>52.000000</td>\n",
       "      <td>52.000000</td>\n",
       "      <td>52.000000</td>\n",
       "      <td>52.000000</td>\n",
       "      <td>52.000000</td>\n",
       "    </tr>\n",
       "    <tr>\n",
       "      <th>mean</th>\n",
       "      <td>92.996154</td>\n",
       "      <td>78.632692</td>\n",
       "      <td>26.684615</td>\n",
       "      <td>64.500000</td>\n",
       "      <td>38.305769</td>\n",
       "      <td>54.182692</td>\n",
       "      <td>11.840385</td>\n",
       "      <td>17.178846</td>\n",
       "      <td>62.246154</td>\n",
       "      <td>54.373077</td>\n",
       "      <td>82.494231</td>\n",
       "      <td>76.192308</td>\n",
       "      <td>659.626923</td>\n",
       "    </tr>\n",
       "    <tr>\n",
       "      <th>std</th>\n",
       "      <td>57.127171</td>\n",
       "      <td>67.454280</td>\n",
       "      <td>31.473913</td>\n",
       "      <td>21.421942</td>\n",
       "      <td>29.079576</td>\n",
       "      <td>36.821635</td>\n",
       "      <td>13.256390</td>\n",
       "      <td>13.939496</td>\n",
       "      <td>28.581205</td>\n",
       "      <td>36.619785</td>\n",
       "      <td>91.689789</td>\n",
       "      <td>80.409042</td>\n",
       "      <td>352.905548</td>\n",
       "    </tr>\n",
       "    <tr>\n",
       "      <th>min</th>\n",
       "      <td>26.800000</td>\n",
       "      <td>2.300000</td>\n",
       "      <td>3.300000</td>\n",
       "      <td>3.500000</td>\n",
       "      <td>0.700000</td>\n",
       "      <td>1.100000</td>\n",
       "      <td>0.000000</td>\n",
       "      <td>0.000000</td>\n",
       "      <td>0.900000</td>\n",
       "      <td>1.000000</td>\n",
       "      <td>7.100000</td>\n",
       "      <td>1.800000</td>\n",
       "      <td>108.200000</td>\n",
       "    </tr>\n",
       "    <tr>\n",
       "      <th>25%</th>\n",
       "      <td>53.825000</td>\n",
       "      <td>32.825000</td>\n",
       "      <td>9.125000</td>\n",
       "      <td>53.950000</td>\n",
       "      <td>18.875000</td>\n",
       "      <td>26.325000</td>\n",
       "      <td>1.600000</td>\n",
       "      <td>4.850000</td>\n",
       "      <td>46.000000</td>\n",
       "      <td>29.825000</td>\n",
       "      <td>32.375000</td>\n",
       "      <td>22.075000</td>\n",
       "      <td>455.925000</td>\n",
       "    </tr>\n",
       "    <tr>\n",
       "      <th>50%</th>\n",
       "      <td>73.950000</td>\n",
       "      <td>62.600000</td>\n",
       "      <td>17.200000</td>\n",
       "      <td>62.700000</td>\n",
       "      <td>35.650000</td>\n",
       "      <td>50.400000</td>\n",
       "      <td>6.150000</td>\n",
       "      <td>16.500000</td>\n",
       "      <td>62.300000</td>\n",
       "      <td>46.550000</td>\n",
       "      <td>46.950000</td>\n",
       "      <td>47.950000</td>\n",
       "      <td>548.550000</td>\n",
       "    </tr>\n",
       "    <tr>\n",
       "      <th>75%</th>\n",
       "      <td>97.300000</td>\n",
       "      <td>102.550000</td>\n",
       "      <td>35.425000</td>\n",
       "      <td>77.625000</td>\n",
       "      <td>48.750000</td>\n",
       "      <td>78.025000</td>\n",
       "      <td>17.875000</td>\n",
       "      <td>26.550000</td>\n",
       "      <td>81.625000</td>\n",
       "      <td>74.500000</td>\n",
       "      <td>102.725000</td>\n",
       "      <td>107.000000</td>\n",
       "      <td>665.150000</td>\n",
       "    </tr>\n",
       "    <tr>\n",
       "      <th>max</th>\n",
       "      <td>261.900000</td>\n",
       "      <td>335.700000</td>\n",
       "      <td>209.800000</td>\n",
       "      <td>128.400000</td>\n",
       "      <td>149.500000</td>\n",
       "      <td>145.000000</td>\n",
       "      <td>46.800000</td>\n",
       "      <td>57.000000</td>\n",
       "      <td>122.800000</td>\n",
       "      <td>175.700000</td>\n",
       "      <td>384.600000</td>\n",
       "      <td>314.700000</td>\n",
       "      <td>1575.400000</td>\n",
       "    </tr>\n",
       "  </tbody>\n",
       "</table>\n",
       "</div>"
      ],
      "text/plain": [
       "            enero     febrero       marzo       abril        mayo       junio  \\\n",
       "count   52.000000   52.000000   52.000000   52.000000   52.000000   52.000000   \n",
       "mean    92.996154   78.632692   26.684615   64.500000   38.305769   54.182692   \n",
       "std     57.127171   67.454280   31.473913   21.421942   29.079576   36.821635   \n",
       "min     26.800000    2.300000    3.300000    3.500000    0.700000    1.100000   \n",
       "25%     53.825000   32.825000    9.125000   53.950000   18.875000   26.325000   \n",
       "50%     73.950000   62.600000   17.200000   62.700000   35.650000   50.400000   \n",
       "75%     97.300000  102.550000   35.425000   77.625000   48.750000   78.025000   \n",
       "max    261.900000  335.700000  209.800000  128.400000  149.500000  145.000000   \n",
       "\n",
       "           julio     agosto  septiembre     octubre   noviembre   diciembre  \\\n",
       "count  52.000000  52.000000   52.000000   52.000000   52.000000   52.000000   \n",
       "mean   11.840385  17.178846   62.246154   54.373077   82.494231   76.192308   \n",
       "std    13.256390  13.939496   28.581205   36.619785   91.689789   80.409042   \n",
       "min     0.000000   0.000000    0.900000    1.000000    7.100000    1.800000   \n",
       "25%     1.600000   4.850000   46.000000   29.825000   32.375000   22.075000   \n",
       "50%     6.150000  16.500000   62.300000   46.550000   46.950000   47.950000   \n",
       "75%    17.875000  26.550000   81.625000   74.500000  102.725000  107.000000   \n",
       "max    46.800000  57.000000  122.800000  175.700000  384.600000  314.700000   \n",
       "\n",
       "             anual  \n",
       "count    52.000000  \n",
       "mean    659.626923  \n",
       "std     352.905548  \n",
       "min     108.200000  \n",
       "25%     455.925000  \n",
       "50%     548.550000  \n",
       "75%     665.150000  \n",
       "max    1575.400000  "
      ]
     },
     "execution_count": 14,
     "metadata": {},
     "output_type": "execute_result"
    }
   ],
   "source": [
    "df1.describe()"
   ]
  },
  {
   "cell_type": "code",
   "execution_count": 15,
   "id": "f3f3ea6f-5570-4bf3-b6b1-41952840e9e6",
   "metadata": {},
   "outputs": [
    {
     "data": {
      "text/html": [
       "<div>\n",
       "<style scoped>\n",
       "    .dataframe tbody tr th:only-of-type {\n",
       "        vertical-align: middle;\n",
       "    }\n",
       "\n",
       "    .dataframe tbody tr th {\n",
       "        vertical-align: top;\n",
       "    }\n",
       "\n",
       "    .dataframe thead th {\n",
       "        text-align: right;\n",
       "    }\n",
       "</style>\n",
       "<table border=\"1\" class=\"dataframe\">\n",
       "  <thead>\n",
       "    <tr style=\"text-align: right;\">\n",
       "      <th></th>\n",
       "      <th>region</th>\n",
       "      <th>enero</th>\n",
       "      <th>febrero</th>\n",
       "      <th>marzo</th>\n",
       "      <th>abril</th>\n",
       "      <th>mayo</th>\n",
       "      <th>junio</th>\n",
       "      <th>julio</th>\n",
       "      <th>agosto</th>\n",
       "      <th>septiembre</th>\n",
       "      <th>octubre</th>\n",
       "      <th>noviembre</th>\n",
       "      <th>diciembre</th>\n",
       "      <th>anual</th>\n",
       "    </tr>\n",
       "  </thead>\n",
       "  <tbody>\n",
       "    <tr>\n",
       "      <th>0</th>\n",
       "      <td>A CORUNA</td>\n",
       "      <td>240.5</td>\n",
       "      <td>293.4</td>\n",
       "      <td>31.0</td>\n",
       "      <td>80.6</td>\n",
       "      <td>149.5</td>\n",
       "      <td>108.9</td>\n",
       "      <td>44.6</td>\n",
       "      <td>21.8</td>\n",
       "      <td>96.5</td>\n",
       "      <td>154.5</td>\n",
       "      <td>100.8</td>\n",
       "      <td>214.8</td>\n",
       "      <td>1536.9</td>\n",
       "    </tr>\n",
       "  </tbody>\n",
       "</table>\n",
       "</div>"
      ],
      "text/plain": [
       "     region  enero  febrero  marzo  abril   mayo  junio  julio  agosto  \\\n",
       "0  A CORUNA  240.5    293.4   31.0   80.6  149.5  108.9   44.6    21.8   \n",
       "\n",
       "   septiembre  octubre  noviembre  diciembre   anual  \n",
       "0        96.5    154.5      100.8      214.8  1536.9  "
      ]
     },
     "execution_count": 15,
     "metadata": {},
     "output_type": "execute_result"
    }
   ],
   "source": [
    "df1.head(1)"
   ]
  },
  {
   "cell_type": "code",
   "execution_count": 16,
   "id": "576cc871-741c-4b1a-ac4b-17670e21e06a",
   "metadata": {},
   "outputs": [
    {
     "data": {
      "text/plain": [
       "0    A CORUNA\n",
       "1    ALBACETE\n",
       "2    ALICANTE\n",
       "3     ALMERIA\n",
       "4       ARABA\n",
       "Name: region, dtype: object"
      ]
     },
     "execution_count": 16,
     "metadata": {},
     "output_type": "execute_result"
    }
   ],
   "source": [
    "serie = df1[\"region\"]\n",
    "serie.head()"
   ]
  },
  {
   "cell_type": "code",
   "execution_count": 17,
   "id": "2fe26f8a-0556-4062-b6b3-7ec010dc8d26",
   "metadata": {},
   "outputs": [
    {
     "data": {
      "text/plain": [
       "0    10\n",
       "1    20\n",
       "2    30\n",
       "3    40\n",
       "4    50\n",
       "dtype: int64"
      ]
     },
     "execution_count": 17,
     "metadata": {},
     "output_type": "execute_result"
    }
   ],
   "source": [
    "datos1 = [10,20,30,40,50]\n",
    "serie2 = pd.Series(datos1)\n",
    "serie2"
   ]
  },
  {
   "cell_type": "code",
   "execution_count": 18,
   "id": "ed7cba60-9146-4eb4-ad1e-0e9dae318d7b",
   "metadata": {},
   "outputs": [
    {
     "data": {
      "text/plain": [
       "a    10\n",
       "b    20\n",
       "c    30\n",
       "d    40\n",
       "e    50\n",
       "dtype: int64"
      ]
     },
     "execution_count": 18,
     "metadata": {},
     "output_type": "execute_result"
    }
   ],
   "source": [
    "indices = [\"a\", \"b\", \"c\", \"d\", \"e\"]\n",
    "serie3 = pd.Series(datos1,indices)\n",
    "serie3"
   ]
  },
  {
   "cell_type": "code",
   "execution_count": 19,
   "id": "0ac1c37c-15e8-4bfa-8dab-0d2914edcc75",
   "metadata": {},
   "outputs": [
    {
     "data": {
      "text/plain": [
       "30"
      ]
     },
     "execution_count": 19,
     "metadata": {},
     "output_type": "execute_result"
    }
   ],
   "source": [
    "serie2[2]"
   ]
  },
  {
   "cell_type": "code",
   "execution_count": 20,
   "id": "5382e57d-224a-4fc2-80ee-9e85ffb6d6bd",
   "metadata": {},
   "outputs": [
    {
     "data": {
      "text/plain": [
       "españa             madrid\n",
       "peru                 Lima\n",
       "argentina    buenos aires\n",
       "dtype: object"
      ]
     },
     "execution_count": 20,
     "metadata": {},
     "output_type": "execute_result"
    }
   ],
   "source": [
    "capitales ={\"españa\":\"madrid\", \"peru\":\"Lima\", \"argentina\":\"buenos aires\"}\n",
    "serie4 = pd.Series(capitales)\n",
    "serie4"
   ]
  },
  {
   "cell_type": "code",
   "execution_count": 21,
   "id": "05f239c0-15ac-47ee-9110-9e1b2ce60ba3",
   "metadata": {},
   "outputs": [
    {
     "data": {
      "text/html": [
       "<div>\n",
       "<style scoped>\n",
       "    .dataframe tbody tr th:only-of-type {\n",
       "        vertical-align: middle;\n",
       "    }\n",
       "\n",
       "    .dataframe tbody tr th {\n",
       "        vertical-align: top;\n",
       "    }\n",
       "\n",
       "    .dataframe thead th {\n",
       "        text-align: right;\n",
       "    }\n",
       "</style>\n",
       "<table border=\"1\" class=\"dataframe\">\n",
       "  <thead>\n",
       "    <tr style=\"text-align: right;\">\n",
       "      <th></th>\n",
       "      <th>id_producto</th>\n",
       "      <th>cantidad_vendida</th>\n",
       "      <th>precio</th>\n",
       "    </tr>\n",
       "  </thead>\n",
       "  <tbody>\n",
       "    <tr>\n",
       "      <th>0</th>\n",
       "      <td>1001</td>\n",
       "      <td>20.0</td>\n",
       "      <td>20.5</td>\n",
       "    </tr>\n",
       "    <tr>\n",
       "      <th>1</th>\n",
       "      <td>1002</td>\n",
       "      <td>NaN</td>\n",
       "      <td>15.0</td>\n",
       "    </tr>\n",
       "    <tr>\n",
       "      <th>2</th>\n",
       "      <td>1003</td>\n",
       "      <td>25.0</td>\n",
       "      <td>NaN</td>\n",
       "    </tr>\n",
       "    <tr>\n",
       "      <th>3</th>\n",
       "      <td>1003</td>\n",
       "      <td>25.0</td>\n",
       "      <td>22.5</td>\n",
       "    </tr>\n",
       "  </tbody>\n",
       "</table>\n",
       "</div>"
      ],
      "text/plain": [
       "   id_producto  cantidad_vendida  precio\n",
       "0         1001              20.0    20.5\n",
       "1         1002               NaN    15.0\n",
       "2         1003              25.0     NaN\n",
       "3         1003              25.0    22.5"
      ]
     },
     "execution_count": 21,
     "metadata": {},
     "output_type": "execute_result"
    }
   ],
   "source": [
    "data = {\"id_producto\":[1001,1002,1003,1003],\n",
    "       \"cantidad_vendida\":[20, None,25,25],\n",
    "       \"precio\":[20.5, 15.0, None,22.5]}\n",
    "d=pd.DataFrame(data)\n",
    "d"
   ]
  },
  {
   "cell_type": "code",
   "execution_count": 22,
   "id": "e6625276-2e93-4aac-a81a-e78acb6983a4",
   "metadata": {},
   "outputs": [
    {
     "data": {
      "text/html": [
       "<div>\n",
       "<style scoped>\n",
       "    .dataframe tbody tr th:only-of-type {\n",
       "        vertical-align: middle;\n",
       "    }\n",
       "\n",
       "    .dataframe tbody tr th {\n",
       "        vertical-align: top;\n",
       "    }\n",
       "\n",
       "    .dataframe thead th {\n",
       "        text-align: right;\n",
       "    }\n",
       "</style>\n",
       "<table border=\"1\" class=\"dataframe\">\n",
       "  <thead>\n",
       "    <tr style=\"text-align: right;\">\n",
       "      <th></th>\n",
       "      <th>id_producto</th>\n",
       "      <th>cantidad_vendida</th>\n",
       "      <th>precio</th>\n",
       "    </tr>\n",
       "  </thead>\n",
       "  <tbody>\n",
       "    <tr>\n",
       "      <th>0</th>\n",
       "      <td>False</td>\n",
       "      <td>False</td>\n",
       "      <td>False</td>\n",
       "    </tr>\n",
       "    <tr>\n",
       "      <th>1</th>\n",
       "      <td>False</td>\n",
       "      <td>True</td>\n",
       "      <td>False</td>\n",
       "    </tr>\n",
       "    <tr>\n",
       "      <th>2</th>\n",
       "      <td>False</td>\n",
       "      <td>False</td>\n",
       "      <td>True</td>\n",
       "    </tr>\n",
       "    <tr>\n",
       "      <th>3</th>\n",
       "      <td>False</td>\n",
       "      <td>False</td>\n",
       "      <td>False</td>\n",
       "    </tr>\n",
       "  </tbody>\n",
       "</table>\n",
       "</div>"
      ],
      "text/plain": [
       "   id_producto  cantidad_vendida  precio\n",
       "0        False             False   False\n",
       "1        False              True   False\n",
       "2        False             False    True\n",
       "3        False             False   False"
      ]
     },
     "execution_count": 22,
     "metadata": {},
     "output_type": "execute_result"
    }
   ],
   "source": [
    "d.isnull() #devuelve los nulos "
   ]
  },
  {
   "cell_type": "code",
   "execution_count": 23,
   "id": "4cdc0164-8bd4-495a-9dd3-a5c0fc3c474a",
   "metadata": {},
   "outputs": [
    {
     "data": {
      "text/plain": [
       "id_producto         0\n",
       "cantidad_vendida    1\n",
       "precio              1\n",
       "dtype: int64"
      ]
     },
     "execution_count": 23,
     "metadata": {},
     "output_type": "execute_result"
    }
   ],
   "source": [
    "d.isnull().sum() # nos suma la cantidades nulas "
   ]
  },
  {
   "cell_type": "code",
   "execution_count": 24,
   "id": "c99c367b-5042-4b37-8298-f342f8542f48",
   "metadata": {},
   "outputs": [
    {
     "data": {
      "text/html": [
       "<div>\n",
       "<style scoped>\n",
       "    .dataframe tbody tr th:only-of-type {\n",
       "        vertical-align: middle;\n",
       "    }\n",
       "\n",
       "    .dataframe tbody tr th {\n",
       "        vertical-align: top;\n",
       "    }\n",
       "\n",
       "    .dataframe thead th {\n",
       "        text-align: right;\n",
       "    }\n",
       "</style>\n",
       "<table border=\"1\" class=\"dataframe\">\n",
       "  <thead>\n",
       "    <tr style=\"text-align: right;\">\n",
       "      <th></th>\n",
       "      <th>id_producto</th>\n",
       "      <th>cantidad_vendida</th>\n",
       "      <th>precio</th>\n",
       "    </tr>\n",
       "  </thead>\n",
       "  <tbody>\n",
       "    <tr>\n",
       "      <th>0</th>\n",
       "      <td>1001</td>\n",
       "      <td>20.0</td>\n",
       "      <td>20.5</td>\n",
       "    </tr>\n",
       "    <tr>\n",
       "      <th>3</th>\n",
       "      <td>1003</td>\n",
       "      <td>25.0</td>\n",
       "      <td>22.5</td>\n",
       "    </tr>\n",
       "  </tbody>\n",
       "</table>\n",
       "</div>"
      ],
      "text/plain": [
       "   id_producto  cantidad_vendida  precio\n",
       "0         1001              20.0    20.5\n",
       "3         1003              25.0    22.5"
      ]
     },
     "execution_count": 24,
     "metadata": {},
     "output_type": "execute_result"
    }
   ],
   "source": [
    "df_eliminados = d.dropna() #elimamos los valores \n",
    "df_eliminados"
   ]
  },
  {
   "cell_type": "code",
   "execution_count": 25,
   "id": "7b2f69c3-3bbb-48f5-b21d-d22739e3d23a",
   "metadata": {},
   "outputs": [
    {
     "data": {
      "text/html": [
       "<div>\n",
       "<style scoped>\n",
       "    .dataframe tbody tr th:only-of-type {\n",
       "        vertical-align: middle;\n",
       "    }\n",
       "\n",
       "    .dataframe tbody tr th {\n",
       "        vertical-align: top;\n",
       "    }\n",
       "\n",
       "    .dataframe thead th {\n",
       "        text-align: right;\n",
       "    }\n",
       "</style>\n",
       "<table border=\"1\" class=\"dataframe\">\n",
       "  <thead>\n",
       "    <tr style=\"text-align: right;\">\n",
       "      <th></th>\n",
       "      <th>id_producto</th>\n",
       "      <th>cantidad_vendida</th>\n",
       "      <th>precio</th>\n",
       "    </tr>\n",
       "  </thead>\n",
       "  <tbody>\n",
       "    <tr>\n",
       "      <th>0</th>\n",
       "      <td>1001</td>\n",
       "      <td>20.0</td>\n",
       "      <td>20.500000</td>\n",
       "    </tr>\n",
       "    <tr>\n",
       "      <th>1</th>\n",
       "      <td>1002</td>\n",
       "      <td>0.0</td>\n",
       "      <td>15.000000</td>\n",
       "    </tr>\n",
       "    <tr>\n",
       "      <th>2</th>\n",
       "      <td>1003</td>\n",
       "      <td>25.0</td>\n",
       "      <td>19.333333</td>\n",
       "    </tr>\n",
       "    <tr>\n",
       "      <th>3</th>\n",
       "      <td>1003</td>\n",
       "      <td>25.0</td>\n",
       "      <td>22.500000</td>\n",
       "    </tr>\n",
       "  </tbody>\n",
       "</table>\n",
       "</div>"
      ],
      "text/plain": [
       "   id_producto  cantidad_vendida     precio\n",
       "0         1001              20.0  20.500000\n",
       "1         1002               0.0  15.000000\n",
       "2         1003              25.0  19.333333\n",
       "3         1003              25.0  22.500000"
      ]
     },
     "execution_count": 25,
     "metadata": {},
     "output_type": "execute_result"
    }
   ],
   "source": [
    "#rellenamos los datos faltantes en las 2 columnas \n",
    "valores_nuevos = {\"cantidad_vendida\":0, \"precio\":d[\"precio\"].mean()}\n",
    "df_rellenados = d.fillna(valores_nuevos) \n",
    "df_rellenados"
   ]
  },
  {
   "cell_type": "code",
   "execution_count": 26,
   "id": "7c6c010a-87ef-4b39-b558-bbf56e7be14e",
   "metadata": {},
   "outputs": [
    {
     "data": {
      "text/html": [
       "<div>\n",
       "<style scoped>\n",
       "    .dataframe tbody tr th:only-of-type {\n",
       "        vertical-align: middle;\n",
       "    }\n",
       "\n",
       "    .dataframe tbody tr th {\n",
       "        vertical-align: top;\n",
       "    }\n",
       "\n",
       "    .dataframe thead th {\n",
       "        text-align: right;\n",
       "    }\n",
       "</style>\n",
       "<table border=\"1\" class=\"dataframe\">\n",
       "  <thead>\n",
       "    <tr style=\"text-align: right;\">\n",
       "      <th></th>\n",
       "      <th>id_producto</th>\n",
       "      <th>cantidad_vendida</th>\n",
       "      <th>precio</th>\n",
       "    </tr>\n",
       "  </thead>\n",
       "  <tbody>\n",
       "    <tr>\n",
       "      <th>0</th>\n",
       "      <td>1001</td>\n",
       "      <td>20</td>\n",
       "      <td>20.500000</td>\n",
       "    </tr>\n",
       "    <tr>\n",
       "      <th>1</th>\n",
       "      <td>1002</td>\n",
       "      <td>0</td>\n",
       "      <td>15.000000</td>\n",
       "    </tr>\n",
       "    <tr>\n",
       "      <th>2</th>\n",
       "      <td>1003</td>\n",
       "      <td>25</td>\n",
       "      <td>19.333333</td>\n",
       "    </tr>\n",
       "    <tr>\n",
       "      <th>3</th>\n",
       "      <td>1003</td>\n",
       "      <td>25</td>\n",
       "      <td>22.500000</td>\n",
       "    </tr>\n",
       "  </tbody>\n",
       "</table>\n",
       "</div>"
      ],
      "text/plain": [
       "   id_producto  cantidad_vendida     precio\n",
       "0         1001                20  20.500000\n",
       "1         1002                 0  15.000000\n",
       "2         1003                25  19.333333\n",
       "3         1003                25  22.500000"
      ]
     },
     "execution_count": 26,
     "metadata": {},
     "output_type": "execute_result"
    }
   ],
   "source": [
    "df_rellenados[\"cantidad_vendida\"] = df_rellenados[\"cantidad_vendida\"].astype(int)\n",
    "df_rellenados"
   ]
  },
  {
   "cell_type": "code",
   "execution_count": 27,
   "id": "df0fd4f9-d3c8-4960-9f8e-41ad619a3b3b",
   "metadata": {},
   "outputs": [
    {
     "data": {
      "text/html": [
       "<div>\n",
       "<style scoped>\n",
       "    .dataframe tbody tr th:only-of-type {\n",
       "        vertical-align: middle;\n",
       "    }\n",
       "\n",
       "    .dataframe tbody tr th {\n",
       "        vertical-align: top;\n",
       "    }\n",
       "\n",
       "    .dataframe thead th {\n",
       "        text-align: right;\n",
       "    }\n",
       "</style>\n",
       "<table border=\"1\" class=\"dataframe\">\n",
       "  <thead>\n",
       "    <tr style=\"text-align: right;\">\n",
       "      <th></th>\n",
       "      <th>id_producto</th>\n",
       "      <th>cantidad_vendida</th>\n",
       "      <th>precio</th>\n",
       "    </tr>\n",
       "  </thead>\n",
       "  <tbody>\n",
       "    <tr>\n",
       "      <th>0</th>\n",
       "      <td>1001</td>\n",
       "      <td>20</td>\n",
       "      <td>20.500000</td>\n",
       "    </tr>\n",
       "    <tr>\n",
       "      <th>1</th>\n",
       "      <td>1002</td>\n",
       "      <td>0</td>\n",
       "      <td>15.000000</td>\n",
       "    </tr>\n",
       "    <tr>\n",
       "      <th>2</th>\n",
       "      <td>1003</td>\n",
       "      <td>25</td>\n",
       "      <td>19.333333</td>\n",
       "    </tr>\n",
       "  </tbody>\n",
       "</table>\n",
       "</div>"
      ],
      "text/plain": [
       "   id_producto  cantidad_vendida     precio\n",
       "0         1001                20  20.500000\n",
       "1         1002                 0  15.000000\n",
       "2         1003                25  19.333333"
      ]
     },
     "execution_count": 27,
     "metadata": {},
     "output_type": "execute_result"
    }
   ],
   "source": [
    "#elimandor los duplicados \n",
    "df_unicos = df_rellenados.drop_duplicates(subset=\"id_producto\")\n",
    "df_unicos"
   ]
  },
  {
   "cell_type": "code",
   "execution_count": 28,
   "id": "edba2e74-42b4-4fdc-8bce-2a55b5e8b4de",
   "metadata": {},
   "outputs": [
    {
     "data": {
      "text/plain": [
       "0     5\n",
       "1    10\n",
       "2    15\n",
       "3    20\n",
       "4    25\n",
       "dtype: int64"
      ]
     },
     "execution_count": 28,
     "metadata": {},
     "output_type": "execute_result"
    }
   ],
   "source": [
    "#filtrado de series \n",
    "serie5= pd.Series([5,10,15,20,25])\n",
    "serie5"
   ]
  },
  {
   "cell_type": "code",
   "execution_count": 29,
   "id": "c0092073-df91-4767-a318-9e10acfab4e8",
   "metadata": {},
   "outputs": [
    {
     "data": {
      "text/plain": [
       "3    20\n",
       "4    25\n",
       "dtype: int64"
      ]
     },
     "execution_count": 29,
     "metadata": {},
     "output_type": "execute_result"
    }
   ],
   "source": [
    "filtro = serie5 > 15 #los nros de la serie mayores a 15\n",
    "serie_filtrada = serie5[filtro] #indexamos los verdaderos mayores a 15\n",
    "serie_filtrada"
   ]
  },
  {
   "cell_type": "code",
   "execution_count": 30,
   "id": "e11ecca4-fd60-49a7-886c-45a8946e2273",
   "metadata": {},
   "outputs": [
    {
     "data": {
      "text/plain": [
       "0       pera\n",
       "1     banana\n",
       "2      melon\n",
       "3    manzana\n",
       "dtype: object"
      ]
     },
     "execution_count": 30,
     "metadata": {},
     "output_type": "execute_result"
    }
   ],
   "source": [
    "serie6 = pd.Series([\"pera\",\"banana\", \"melon\", \"manzana\"])\n",
    "serie6"
   ]
  },
  {
   "cell_type": "code",
   "execution_count": 31,
   "id": "d19579a9-04b3-451a-819c-cf9b9950657c",
   "metadata": {},
   "outputs": [
    {
     "name": "stdout",
     "output_type": "stream",
     "text": [
      "['T', '_AXIS_LEN', '_AXIS_ORDERS', '_AXIS_TO_AXIS_NUMBER', '_HANDLED_TYPES', '__abs__', '__add__', '__and__', '__annotations__', '__array__', '__array_priority__', '__array_ufunc__', '__bool__', '__class__', '__column_consortium_standard__', '__contains__', '__copy__', '__deepcopy__', '__delattr__', '__delitem__', '__dict__', '__dir__', '__divmod__', '__doc__', '__eq__', '__finalize__', '__float__', '__floordiv__', '__format__', '__ge__', '__getattr__', '__getattribute__', '__getitem__', '__getstate__', '__gt__', '__hash__', '__iadd__', '__iand__', '__ifloordiv__', '__imod__', '__imul__', '__init__', '__init_subclass__', '__int__', '__invert__', '__ior__', '__ipow__', '__isub__', '__iter__', '__itruediv__', '__ixor__', '__le__', '__len__', '__lt__', '__matmul__', '__mod__', '__module__', '__mul__', '__ne__', '__neg__', '__new__', '__nonzero__', '__or__', '__pandas_priority__', '__pos__', '__pow__', '__radd__', '__rand__', '__rdivmod__', '__reduce__', '__reduce_ex__', '__repr__', '__rfloordiv__', '__rmatmul__', '__rmod__', '__rmul__', '__ror__', '__round__', '__rpow__', '__rsub__', '__rtruediv__', '__rxor__', '__setattr__', '__setitem__', '__setstate__', '__sizeof__', '__str__', '__sub__', '__subclasshook__', '__truediv__', '__weakref__', '__xor__', '_accessors', '_accum_func', '_agg_examples_doc', '_agg_see_also_doc', '_align_for_op', '_align_frame', '_align_series', '_append', '_arith_method', '_as_manager', '_attrs', '_binop', '_can_hold_na', '_check_inplace_and_allows_duplicate_labels', '_check_is_chained_assignment_possible', '_check_label_or_level_ambiguity', '_check_setitem_copy', '_clear_item_cache', '_clip_with_one_bound', '_clip_with_scalar', '_cmp_method', '_consolidate', '_consolidate_inplace', '_construct_axes_dict', '_construct_result', '_constructor', '_constructor_expanddim', '_constructor_expanddim_from_mgr', '_constructor_from_mgr', '_data', '_deprecate_downcast', '_dir_additions', '_dir_deletions', '_drop_axis', '_drop_labels_or_levels', '_duplicated', '_find_valid_index', '_flags', '_flex_method', '_from_mgr', '_get_axis', '_get_axis_name', '_get_axis_number', '_get_axis_resolvers', '_get_block_manager_axis', '_get_bool_data', '_get_cacher', '_get_cleaned_column_resolvers', '_get_index_resolvers', '_get_label_or_level_values', '_get_numeric_data', '_get_rows_with_mask', '_get_value', '_get_values_tuple', '_get_with', '_getitem_slice', '_gotitem', '_hidden_attrs', '_indexed_same', '_info_axis', '_info_axis_name', '_info_axis_number', '_init_dict', '_init_mgr', '_inplace_method', '_internal_names', '_internal_names_set', '_is_cached', '_is_copy', '_is_label_or_level_reference', '_is_label_reference', '_is_level_reference', '_is_mixed_type', '_is_view', '_is_view_after_cow_rules', '_item_cache', '_ixs', '_logical_func', '_logical_method', '_map_values', '_maybe_update_cacher', '_memory_usage', '_metadata', '_mgr', '_min_count_stat_function', '_name', '_needs_reindex_multi', '_pad_or_backfill', '_protect_consolidate', '_reduce', '_references', '_reindex_axes', '_reindex_indexer', '_reindex_multi', '_reindex_with_indexers', '_rename', '_replace_single', '_repr_data_resource_', '_repr_latex_', '_reset_cache', '_reset_cacher', '_set_as_cached', '_set_axis', '_set_axis_name', '_set_axis_nocheck', '_set_is_copy', '_set_labels', '_set_name', '_set_value', '_set_values', '_set_with', '_set_with_engine', '_shift_with_freq', '_slice', '_stat_function', '_stat_function_ddof', '_take_with_is_copy', '_to_latex_via_styler', '_typ', '_update_inplace', '_validate_dtype', '_values', '_where', 'abs', 'add', 'add_prefix', 'add_suffix', 'agg', 'aggregate', 'align', 'all', 'any', 'apply', 'argmax', 'argmin', 'argsort', 'array', 'asfreq', 'asof', 'astype', 'at', 'at_time', 'attrs', 'autocorr', 'axes', 'backfill', 'between', 'between_time', 'bfill', 'bool', 'case_when', 'clip', 'combine', 'combine_first', 'compare', 'convert_dtypes', 'copy', 'corr', 'count', 'cov', 'cummax', 'cummin', 'cumprod', 'cumsum', 'describe', 'diff', 'div', 'divide', 'divmod', 'dot', 'drop', 'drop_duplicates', 'droplevel', 'dropna', 'dtype', 'dtypes', 'duplicated', 'empty', 'eq', 'equals', 'ewm', 'expanding', 'explode', 'factorize', 'ffill', 'fillna', 'filter', 'first', 'first_valid_index', 'flags', 'floordiv', 'ge', 'get', 'groupby', 'gt', 'hasnans', 'head', 'hist', 'iat', 'idxmax', 'idxmin', 'iloc', 'index', 'infer_objects', 'info', 'interpolate', 'is_monotonic_decreasing', 'is_monotonic_increasing', 'is_unique', 'isin', 'isna', 'isnull', 'item', 'items', 'keys', 'kurt', 'kurtosis', 'last', 'last_valid_index', 'le', 'list', 'loc', 'lt', 'map', 'mask', 'max', 'mean', 'median', 'memory_usage', 'min', 'mod', 'mode', 'mul', 'multiply', 'name', 'nbytes', 'ndim', 'ne', 'nlargest', 'notna', 'notnull', 'nsmallest', 'nunique', 'pad', 'pct_change', 'pipe', 'plot', 'pop', 'pow', 'prod', 'product', 'quantile', 'radd', 'rank', 'ravel', 'rdiv', 'rdivmod', 'reindex', 'reindex_like', 'rename', 'rename_axis', 'reorder_levels', 'repeat', 'replace', 'resample', 'reset_index', 'rfloordiv', 'rmod', 'rmul', 'rolling', 'round', 'rpow', 'rsub', 'rtruediv', 'sample', 'searchsorted', 'sem', 'set_axis', 'set_flags', 'shape', 'shift', 'size', 'skew', 'sort_index', 'sort_values', 'squeeze', 'std', 'struct', 'sub', 'subtract', 'sum', 'swapaxes', 'swaplevel', 'tail', 'take', 'to_clipboard', 'to_csv', 'to_dict', 'to_excel', 'to_frame', 'to_hdf', 'to_json', 'to_latex', 'to_list', 'to_markdown', 'to_numpy', 'to_period', 'to_pickle', 'to_sql', 'to_string', 'to_timestamp', 'to_xarray', 'transform', 'transpose', 'truediv', 'truncate', 'tz_convert', 'tz_localize', 'unique', 'unstack', 'update', 'value_counts', 'values', 'var', 'view', 'where', 'xs']\n"
     ]
    }
   ],
   "source": [
    "print(dir(serie5))"
   ]
  },
  {
   "cell_type": "code",
   "execution_count": 32,
   "id": "f8feedbf-e397-445b-bf24-bf9239c6462c",
   "metadata": {},
   "outputs": [
    {
     "name": "stdout",
     "output_type": "stream",
     "text": [
      "0    False\n",
      "1    False\n",
      "2     True\n",
      "3     True\n",
      "dtype: bool\n"
     ]
    }
   ],
   "source": [
    "filtro2 = serie6.str.contains(\"m\")\n",
    "print(filtro2)"
   ]
  },
  {
   "cell_type": "code",
   "execution_count": 33,
   "id": "6c396985-a3fd-46a7-a875-a364561f84e4",
   "metadata": {},
   "outputs": [
    {
     "name": "stdout",
     "output_type": "stream",
     "text": [
      "2      melon\n",
      "3    manzana\n",
      "dtype: object\n"
     ]
    }
   ],
   "source": [
    "print(serie6[filtro2])"
   ]
  },
  {
   "cell_type": "code",
   "execution_count": 34,
   "id": "6bf20584-c3b7-4140-8c20-73f469e833ee",
   "metadata": {},
   "outputs": [
    {
     "name": "stdout",
     "output_type": "stream",
     "text": [
      "0    10\n",
      "1    20\n",
      "2    30\n",
      "3    40\n",
      "4    50\n",
      "5    60\n",
      "dtype: int64\n"
     ]
    }
   ],
   "source": [
    "#agreagacion en pandas \n",
    "num = pd.Series([10,20,30,40,50,60])\n",
    "print(num)"
   ]
  },
  {
   "cell_type": "code",
   "execution_count": 35,
   "id": "bc35b0c1-ec02-4184-a3ec-a516b37a7c76",
   "metadata": {},
   "outputs": [
    {
     "name": "stdout",
     "output_type": "stream",
     "text": [
      "el promedio es 35.0\n"
     ]
    }
   ],
   "source": [
    "promedio = num.mean()\n",
    "print(f\"el promedio es {promedio}\")"
   ]
  },
  {
   "cell_type": "code",
   "execution_count": 36,
   "id": "3582047f-0549-47cc-8dcc-1a9bccbd0294",
   "metadata": {},
   "outputs": [
    {
     "name": "stdout",
     "output_type": "stream",
     "text": [
      "210\n"
     ]
    }
   ],
   "source": [
    "total = num.sum()\n",
    "print(total)"
   ]
  },
  {
   "cell_type": "code",
   "execution_count": 37,
   "id": "5b7cf594-f79c-4b91-9696-5f7e05ba1f43",
   "metadata": {},
   "outputs": [
    {
     "name": "stdout",
     "output_type": "stream",
     "text": [
      "60\n"
     ]
    }
   ],
   "source": [
    "maximo=num.max()\n",
    "print(maximo)"
   ]
  },
  {
   "cell_type": "code",
   "execution_count": 38,
   "id": "8a63926e-6e68-4011-beb1-4d877372d068",
   "metadata": {},
   "outputs": [
    {
     "name": "stdout",
     "output_type": "stream",
     "text": [
      "10\n"
     ]
    }
   ],
   "source": [
    "minimo=num.min()\n",
    "print(minimo)"
   ]
  },
  {
   "cell_type": "code",
   "execution_count": 39,
   "id": "01276716-8a05-4653-9c6a-ce7826f8ea32",
   "metadata": {},
   "outputs": [
    {
     "name": "stdout",
     "output_type": "stream",
     "text": [
      "18.708286933869708\n"
     ]
    }
   ],
   "source": [
    "desviacion=num.std() #desvaicion estandar \n",
    "print(desviacion)"
   ]
  },
  {
   "cell_type": "code",
   "execution_count": 41,
   "id": "c8b21742-ffde-4404-aa13-9739b8285564",
   "metadata": {},
   "outputs": [
    {
     "name": "stdout",
     "output_type": "stream",
     "text": [
      "     Oro  Plata  Bronce  Total          Pais\n",
      "0    NaN    1.0     2.0      3     Argentina\n",
      "1    NaN    2.0     2.0      4       Armenia\n",
      "2   17.0    7.0    22.0     46     Australia\n",
      "3    1.0    1.0     5.0      7       Austria\n",
      "4    NaN    3.0     4.0      7    Azerbaijan\n",
      "..   ...    ...     ...    ...           ...\n",
      "88   NaN    1.0     NaN      1  Turkmenistan\n",
      "89   2.0    1.0     1.0      4        Uganda\n",
      "90   1.0    6.0    12.0     19       Ukraine\n",
      "91   3.0    NaN     2.0      5    Uzbekistan\n",
      "92   1.0    3.0     NaN      4     Venezuela\n",
      "\n",
      "[93 rows x 5 columns]\n"
     ]
    }
   ],
   "source": [
    "m=pd.read_csv(\"medallas.csv\")\n",
    "print(m)"
   ]
  },
  {
   "cell_type": "code",
   "execution_count": 43,
   "id": "470c5ea3-92a2-45de-b4f2-55ff72b4f02d",
   "metadata": {},
   "outputs": [
    {
     "name": "stdout",
     "output_type": "stream",
     "text": [
      "(93, 5)\n"
     ]
    }
   ],
   "source": [
    "print(m.shape)"
   ]
  },
  {
   "cell_type": "code",
   "execution_count": 44,
   "id": "b214802c-0556-4626-8bae-851834d74823",
   "metadata": {},
   "outputs": [
    {
     "name": "stdout",
     "output_type": "stream",
     "text": [
      "<class 'pandas.core.frame.DataFrame'>\n",
      "RangeIndex: 93 entries, 0 to 92\n",
      "Data columns (total 5 columns):\n",
      " #   Column  Non-Null Count  Dtype  \n",
      "---  ------  --------------  -----  \n",
      " 0   Oro     65 non-null     float64\n",
      " 1   Plata   69 non-null     float64\n",
      " 2   Bronce  76 non-null     float64\n",
      " 3   Total   93 non-null     int64  \n",
      " 4   Pais    93 non-null     object \n",
      "dtypes: float64(3), int64(1), object(1)\n",
      "memory usage: 3.8+ KB\n",
      "None\n"
     ]
    }
   ],
   "source": [
    "print(m.info())"
   ]
  },
  {
   "cell_type": "code",
   "execution_count": 45,
   "id": "ae31eb31-1214-4193-863c-b68e27eeb5dc",
   "metadata": {},
   "outputs": [
    {
     "name": "stdout",
     "output_type": "stream",
     "text": [
      "             Oro      Plata     Bronce       Total\n",
      "count  65.000000  69.000000  76.000000   93.000000\n",
      "mean    4.400000   4.768116   4.934211   10.548387\n",
      "std     7.633806   7.276362   6.261705   18.897617\n",
      "min     1.000000   1.000000   1.000000    1.000000\n",
      "25%     1.000000   1.000000   1.000000    2.000000\n",
      "50%     2.000000   2.000000   2.000000    4.000000\n",
      "75%     3.000000   5.000000   5.250000    8.000000\n",
      "max    39.000000  41.000000  33.000000  113.000000\n"
     ]
    }
   ],
   "source": [
    "print(m.describe())"
   ]
  },
  {
   "cell_type": "code",
   "execution_count": 46,
   "id": "655f5bf4-fcdb-4112-a159-7b6726cad97a",
   "metadata": {},
   "outputs": [
    {
     "name": "stdout",
     "output_type": "stream",
     "text": [
      "Oro       28\n",
      "Plata     24\n",
      "Bronce    17\n",
      "Total      0\n",
      "Pais       0\n",
      "dtype: int64\n"
     ]
    }
   ],
   "source": [
    "print(m.isnull().sum())"
   ]
  },
  {
   "cell_type": "code",
   "execution_count": 50,
   "id": "cd565e2b-a439-4abb-851b-c4153d79841f",
   "metadata": {},
   "outputs": [
    {
     "data": {
      "text/html": [
       "<div>\n",
       "<style scoped>\n",
       "    .dataframe tbody tr th:only-of-type {\n",
       "        vertical-align: middle;\n",
       "    }\n",
       "\n",
       "    .dataframe tbody tr th {\n",
       "        vertical-align: top;\n",
       "    }\n",
       "\n",
       "    .dataframe thead th {\n",
       "        text-align: right;\n",
       "    }\n",
       "</style>\n",
       "<table border=\"1\" class=\"dataframe\">\n",
       "  <thead>\n",
       "    <tr style=\"text-align: right;\">\n",
       "      <th></th>\n",
       "      <th>Oro</th>\n",
       "      <th>Plata</th>\n",
       "      <th>Bronce</th>\n",
       "      <th>Total</th>\n",
       "      <th>Pais</th>\n",
       "    </tr>\n",
       "  </thead>\n",
       "  <tbody>\n",
       "    <tr>\n",
       "      <th>0</th>\n",
       "      <td>0.0</td>\n",
       "      <td>1.0</td>\n",
       "      <td>2.0</td>\n",
       "      <td>3</td>\n",
       "      <td>Argentina</td>\n",
       "    </tr>\n",
       "    <tr>\n",
       "      <th>1</th>\n",
       "      <td>0.0</td>\n",
       "      <td>2.0</td>\n",
       "      <td>2.0</td>\n",
       "      <td>4</td>\n",
       "      <td>Armenia</td>\n",
       "    </tr>\n",
       "  </tbody>\n",
       "</table>\n",
       "</div>"
      ],
      "text/plain": [
       "   Oro  Plata  Bronce  Total       Pais\n",
       "0  0.0    1.0     2.0      3  Argentina\n",
       "1  0.0    2.0     2.0      4    Armenia"
      ]
     },
     "execution_count": 50,
     "metadata": {},
     "output_type": "execute_result"
    }
   ],
   "source": [
    "#completamos los valores nulos \n",
    "m.fillna(0, inplace=True)\n",
    "m.head(2)"
   ]
  },
  {
   "cell_type": "code",
   "execution_count": 51,
   "id": "0f3f274c-01f2-422d-b7b6-444b291b17d7",
   "metadata": {},
   "outputs": [
    {
     "data": {
      "text/html": [
       "<div>\n",
       "<style scoped>\n",
       "    .dataframe tbody tr th:only-of-type {\n",
       "        vertical-align: middle;\n",
       "    }\n",
       "\n",
       "    .dataframe tbody tr th {\n",
       "        vertical-align: top;\n",
       "    }\n",
       "\n",
       "    .dataframe thead th {\n",
       "        text-align: right;\n",
       "    }\n",
       "</style>\n",
       "<table border=\"1\" class=\"dataframe\">\n",
       "  <thead>\n",
       "    <tr style=\"text-align: right;\">\n",
       "      <th></th>\n",
       "      <th>Oro</th>\n",
       "      <th>Plata</th>\n",
       "      <th>Bronce</th>\n",
       "      <th>Total</th>\n",
       "      <th>Pais</th>\n",
       "    </tr>\n",
       "  </thead>\n",
       "  <tbody>\n",
       "    <tr>\n",
       "      <th>0</th>\n",
       "      <td>0</td>\n",
       "      <td>1</td>\n",
       "      <td>2</td>\n",
       "      <td>3</td>\n",
       "      <td>Argentina</td>\n",
       "    </tr>\n",
       "    <tr>\n",
       "      <th>1</th>\n",
       "      <td>0</td>\n",
       "      <td>2</td>\n",
       "      <td>2</td>\n",
       "      <td>4</td>\n",
       "      <td>Armenia</td>\n",
       "    </tr>\n",
       "    <tr>\n",
       "      <th>2</th>\n",
       "      <td>17</td>\n",
       "      <td>7</td>\n",
       "      <td>22</td>\n",
       "      <td>46</td>\n",
       "      <td>Australia</td>\n",
       "    </tr>\n",
       "    <tr>\n",
       "      <th>3</th>\n",
       "      <td>1</td>\n",
       "      <td>1</td>\n",
       "      <td>5</td>\n",
       "      <td>7</td>\n",
       "      <td>Austria</td>\n",
       "    </tr>\n",
       "    <tr>\n",
       "      <th>4</th>\n",
       "      <td>0</td>\n",
       "      <td>3</td>\n",
       "      <td>4</td>\n",
       "      <td>7</td>\n",
       "      <td>Azerbaijan</td>\n",
       "    </tr>\n",
       "    <tr>\n",
       "      <th>...</th>\n",
       "      <td>...</td>\n",
       "      <td>...</td>\n",
       "      <td>...</td>\n",
       "      <td>...</td>\n",
       "      <td>...</td>\n",
       "    </tr>\n",
       "    <tr>\n",
       "      <th>88</th>\n",
       "      <td>0</td>\n",
       "      <td>1</td>\n",
       "      <td>0</td>\n",
       "      <td>1</td>\n",
       "      <td>Turkmenistan</td>\n",
       "    </tr>\n",
       "    <tr>\n",
       "      <th>89</th>\n",
       "      <td>2</td>\n",
       "      <td>1</td>\n",
       "      <td>1</td>\n",
       "      <td>4</td>\n",
       "      <td>Uganda</td>\n",
       "    </tr>\n",
       "    <tr>\n",
       "      <th>90</th>\n",
       "      <td>1</td>\n",
       "      <td>6</td>\n",
       "      <td>12</td>\n",
       "      <td>19</td>\n",
       "      <td>Ukraine</td>\n",
       "    </tr>\n",
       "    <tr>\n",
       "      <th>91</th>\n",
       "      <td>3</td>\n",
       "      <td>0</td>\n",
       "      <td>2</td>\n",
       "      <td>5</td>\n",
       "      <td>Uzbekistan</td>\n",
       "    </tr>\n",
       "    <tr>\n",
       "      <th>92</th>\n",
       "      <td>1</td>\n",
       "      <td>3</td>\n",
       "      <td>0</td>\n",
       "      <td>4</td>\n",
       "      <td>Venezuela</td>\n",
       "    </tr>\n",
       "  </tbody>\n",
       "</table>\n",
       "<p>93 rows × 5 columns</p>\n",
       "</div>"
      ],
      "text/plain": [
       "    Oro  Plata  Bronce  Total          Pais\n",
       "0     0      1       2      3     Argentina\n",
       "1     0      2       2      4       Armenia\n",
       "2    17      7      22     46     Australia\n",
       "3     1      1       5      7       Austria\n",
       "4     0      3       4      7    Azerbaijan\n",
       "..  ...    ...     ...    ...           ...\n",
       "88    0      1       0      1  Turkmenistan\n",
       "89    2      1       1      4        Uganda\n",
       "90    1      6      12     19       Ukraine\n",
       "91    3      0       2      5    Uzbekistan\n",
       "92    1      3       0      4     Venezuela\n",
       "\n",
       "[93 rows x 5 columns]"
      ]
     },
     "execution_count": 51,
     "metadata": {},
     "output_type": "execute_result"
    }
   ],
   "source": [
    "#transformar los datos numericos de float a enteros \n",
    "m[\"Oro\"]=m[\"Oro\"].astype(int)\n",
    "m[\"Plata\"]=m[\"Plata\"].astype(int)\n",
    "m[\"Bronce\"]=m[\"Bronce\"].astype(int)\n",
    "m"
   ]
  },
  {
   "cell_type": "code",
   "execution_count": 52,
   "id": "f24e026e-ec2a-4227-99a4-5f5e6067f4d5",
   "metadata": {},
   "outputs": [
    {
     "data": {
      "text/html": [
       "<div>\n",
       "<style scoped>\n",
       "    .dataframe tbody tr th:only-of-type {\n",
       "        vertical-align: middle;\n",
       "    }\n",
       "\n",
       "    .dataframe tbody tr th {\n",
       "        vertical-align: top;\n",
       "    }\n",
       "\n",
       "    .dataframe thead th {\n",
       "        text-align: right;\n",
       "    }\n",
       "</style>\n",
       "<table border=\"1\" class=\"dataframe\">\n",
       "  <thead>\n",
       "    <tr style=\"text-align: right;\">\n",
       "      <th></th>\n",
       "      <th>Oro</th>\n",
       "      <th>Plata</th>\n",
       "      <th>Bronce</th>\n",
       "      <th>Total</th>\n",
       "      <th>Pais</th>\n",
       "    </tr>\n",
       "  </thead>\n",
       "  <tbody>\n",
       "    <tr>\n",
       "      <th>25</th>\n",
       "      <td>39</td>\n",
       "      <td>41</td>\n",
       "      <td>33</td>\n",
       "      <td>113</td>\n",
       "      <td>Estados Unidos de America</td>\n",
       "    </tr>\n",
       "    <tr>\n",
       "      <th>72</th>\n",
       "      <td>38</td>\n",
       "      <td>32</td>\n",
       "      <td>18</td>\n",
       "      <td>88</td>\n",
       "      <td>Republica Popular de China</td>\n",
       "    </tr>\n",
       "    <tr>\n",
       "      <th>46</th>\n",
       "      <td>27</td>\n",
       "      <td>14</td>\n",
       "      <td>17</td>\n",
       "      <td>58</td>\n",
       "      <td>Japon</td>\n",
       "    </tr>\n",
       "  </tbody>\n",
       "</table>\n",
       "</div>"
      ],
      "text/plain": [
       "    Oro  Plata  Bronce  Total                        Pais\n",
       "25   39     41      33    113   Estados Unidos de America\n",
       "72   38     32      18     88  Republica Popular de China\n",
       "46   27     14      17     58                       Japon"
      ]
     },
     "execution_count": 52,
     "metadata": {},
     "output_type": "execute_result"
    }
   ],
   "source": [
    "#analisis de medallas de oro por pais \n",
    "top_3_oro = m.sort_values('Oro', ascending=False).head(3)\n",
    "top_3_oro"
   ]
  },
  {
   "cell_type": "code",
   "execution_count": 53,
   "id": "f62f0020-b3f8-4fb3-8dc8-c8e87c439f38",
   "metadata": {},
   "outputs": [
    {
     "data": {
      "text/html": [
       "<div>\n",
       "<style scoped>\n",
       "    .dataframe tbody tr th:only-of-type {\n",
       "        vertical-align: middle;\n",
       "    }\n",
       "\n",
       "    .dataframe tbody tr th {\n",
       "        vertical-align: top;\n",
       "    }\n",
       "\n",
       "    .dataframe thead th {\n",
       "        text-align: right;\n",
       "    }\n",
       "</style>\n",
       "<table border=\"1\" class=\"dataframe\">\n",
       "  <thead>\n",
       "    <tr style=\"text-align: right;\">\n",
       "      <th></th>\n",
       "      <th>Oro</th>\n",
       "      <th>Plata</th>\n",
       "      <th>Bronce</th>\n",
       "      <th>Total</th>\n",
       "      <th>Pais</th>\n",
       "    </tr>\n",
       "  </thead>\n",
       "  <tbody>\n",
       "    <tr>\n",
       "      <th>25</th>\n",
       "      <td>39</td>\n",
       "      <td>41</td>\n",
       "      <td>33</td>\n",
       "      <td>113</td>\n",
       "      <td>Estados Unidos de America</td>\n",
       "    </tr>\n",
       "    <tr>\n",
       "      <th>72</th>\n",
       "      <td>38</td>\n",
       "      <td>32</td>\n",
       "      <td>18</td>\n",
       "      <td>88</td>\n",
       "      <td>Republica Popular de China</td>\n",
       "    </tr>\n",
       "    <tr>\n",
       "      <th>73</th>\n",
       "      <td>2</td>\n",
       "      <td>28</td>\n",
       "      <td>23</td>\n",
       "      <td>71</td>\n",
       "      <td>ROC</td>\n",
       "    </tr>\n",
       "    <tr>\n",
       "      <th>34</th>\n",
       "      <td>22</td>\n",
       "      <td>21</td>\n",
       "      <td>22</td>\n",
       "      <td>65</td>\n",
       "      <td>Gran Bretana</td>\n",
       "    </tr>\n",
       "    <tr>\n",
       "      <th>46</th>\n",
       "      <td>27</td>\n",
       "      <td>14</td>\n",
       "      <td>17</td>\n",
       "      <td>58</td>\n",
       "      <td>Japon</td>\n",
       "    </tr>\n",
       "    <tr>\n",
       "      <th>2</th>\n",
       "      <td>17</td>\n",
       "      <td>7</td>\n",
       "      <td>22</td>\n",
       "      <td>46</td>\n",
       "      <td>Australia</td>\n",
       "    </tr>\n",
       "    <tr>\n",
       "      <th>32</th>\n",
       "      <td>1</td>\n",
       "      <td>11</td>\n",
       "      <td>16</td>\n",
       "      <td>37</td>\n",
       "      <td>Germany</td>\n",
       "    </tr>\n",
       "    <tr>\n",
       "      <th>60</th>\n",
       "      <td>1</td>\n",
       "      <td>12</td>\n",
       "      <td>14</td>\n",
       "      <td>36</td>\n",
       "      <td>Netherlands</td>\n",
       "    </tr>\n",
       "    <tr>\n",
       "      <th>30</th>\n",
       "      <td>1</td>\n",
       "      <td>12</td>\n",
       "      <td>11</td>\n",
       "      <td>33</td>\n",
       "      <td>France</td>\n",
       "    </tr>\n",
       "    <tr>\n",
       "      <th>14</th>\n",
       "      <td>7</td>\n",
       "      <td>6</td>\n",
       "      <td>11</td>\n",
       "      <td>24</td>\n",
       "      <td>Canada</td>\n",
       "    </tr>\n",
       "    <tr>\n",
       "      <th>11</th>\n",
       "      <td>7</td>\n",
       "      <td>6</td>\n",
       "      <td>8</td>\n",
       "      <td>21</td>\n",
       "      <td>Brazil</td>\n",
       "    </tr>\n",
       "    <tr>\n",
       "      <th>90</th>\n",
       "      <td>1</td>\n",
       "      <td>6</td>\n",
       "      <td>12</td>\n",
       "      <td>19</td>\n",
       "      <td>Ukraine</td>\n",
       "    </tr>\n",
       "    <tr>\n",
       "      <th>81</th>\n",
       "      <td>3</td>\n",
       "      <td>8</td>\n",
       "      <td>6</td>\n",
       "      <td>17</td>\n",
       "      <td>Spain</td>\n",
       "    </tr>\n",
       "    <tr>\n",
       "      <th>19</th>\n",
       "      <td>7</td>\n",
       "      <td>3</td>\n",
       "      <td>5</td>\n",
       "      <td>15</td>\n",
       "      <td>Cuba</td>\n",
       "    </tr>\n",
       "    <tr>\n",
       "      <th>66</th>\n",
       "      <td>4</td>\n",
       "      <td>5</td>\n",
       "      <td>5</td>\n",
       "      <td>14</td>\n",
       "      <td>Poland</td>\n",
       "    </tr>\n",
       "    <tr>\n",
       "      <th>83</th>\n",
       "      <td>3</td>\n",
       "      <td>4</td>\n",
       "      <td>6</td>\n",
       "      <td>13</td>\n",
       "      <td>Switzerland</td>\n",
       "    </tr>\n",
       "    <tr>\n",
       "      <th>87</th>\n",
       "      <td>2</td>\n",
       "      <td>2</td>\n",
       "      <td>9</td>\n",
       "      <td>13</td>\n",
       "      <td>Turkey</td>\n",
       "    </tr>\n",
       "    <tr>\n",
       "      <th>15</th>\n",
       "      <td>2</td>\n",
       "      <td>4</td>\n",
       "      <td>6</td>\n",
       "      <td>12</td>\n",
       "      <td>Chinese Taipei</td>\n",
       "    </tr>\n",
       "    <tr>\n",
       "      <th>21</th>\n",
       "      <td>3</td>\n",
       "      <td>4</td>\n",
       "      <td>4</td>\n",
       "      <td>11</td>\n",
       "      <td>Denmark</td>\n",
       "    </tr>\n",
       "    <tr>\n",
       "      <th>20</th>\n",
       "      <td>4</td>\n",
       "      <td>4</td>\n",
       "      <td>3</td>\n",
       "      <td>11</td>\n",
       "      <td>Czech Republic</td>\n",
       "    </tr>\n",
       "  </tbody>\n",
       "</table>\n",
       "</div>"
      ],
      "text/plain": [
       "    Oro  Plata  Bronce  Total                        Pais\n",
       "25   39     41      33    113   Estados Unidos de America\n",
       "72   38     32      18     88  Republica Popular de China\n",
       "73    2     28      23     71                         ROC\n",
       "34   22     21      22     65                Gran Bretana\n",
       "46   27     14      17     58                       Japon\n",
       "2    17      7      22     46                   Australia\n",
       "32    1     11      16     37                     Germany\n",
       "60    1     12      14     36                 Netherlands\n",
       "30    1     12      11     33                      France\n",
       "14    7      6      11     24                      Canada\n",
       "11    7      6       8     21                      Brazil\n",
       "90    1      6      12     19                     Ukraine\n",
       "81    3      8       6     17                       Spain\n",
       "19    7      3       5     15                        Cuba\n",
       "66    4      5       5     14                      Poland\n",
       "83    3      4       6     13                 Switzerland\n",
       "87    2      2       9     13                      Turkey\n",
       "15    2      4       6     12              Chinese Taipei\n",
       "21    3      4       4     11                     Denmark\n",
       "20    4      4       3     11              Czech Republic"
      ]
     },
     "execution_count": 53,
     "metadata": {},
     "output_type": "execute_result"
    }
   ],
   "source": [
    "#analisis de las medallas por pais \n",
    "filtros = m[\"Total\"] > 10\n",
    "mas_10_medallas = m[filtros]\n",
    "mas_10_medallas.sort_values(\"Total\", ascending=False)"
   ]
  },
  {
   "cell_type": "code",
   "execution_count": 56,
   "id": "1b7058b2-cc2d-48b0-96fc-3abc6249e21d",
   "metadata": {},
   "outputs": [
    {
     "data": {
      "text/html": [
       "<div>\n",
       "<style scoped>\n",
       "    .dataframe tbody tr th:only-of-type {\n",
       "        vertical-align: middle;\n",
       "    }\n",
       "\n",
       "    .dataframe tbody tr th {\n",
       "        vertical-align: top;\n",
       "    }\n",
       "\n",
       "    .dataframe thead th {\n",
       "        text-align: right;\n",
       "    }\n",
       "</style>\n",
       "<table border=\"1\" class=\"dataframe\">\n",
       "  <thead>\n",
       "    <tr style=\"text-align: right;\">\n",
       "      <th></th>\n",
       "      <th>nombre</th>\n",
       "      <th>edades</th>\n",
       "      <th>Cuidades</th>\n",
       "    </tr>\n",
       "  </thead>\n",
       "  <tbody>\n",
       "    <tr>\n",
       "      <th>0</th>\n",
       "      <td>ana</td>\n",
       "      <td>25</td>\n",
       "      <td>madrid</td>\n",
       "    </tr>\n",
       "    <tr>\n",
       "      <th>1</th>\n",
       "      <td>luis</td>\n",
       "      <td>30</td>\n",
       "      <td>barcelona</td>\n",
       "    </tr>\n",
       "    <tr>\n",
       "      <th>2</th>\n",
       "      <td>marco</td>\n",
       "      <td>22</td>\n",
       "      <td>valencia</td>\n",
       "    </tr>\n",
       "    <tr>\n",
       "      <th>3</th>\n",
       "      <td>juan</td>\n",
       "      <td>27</td>\n",
       "      <td>bilbao</td>\n",
       "    </tr>\n",
       "  </tbody>\n",
       "</table>\n",
       "</div>"
      ],
      "text/plain": [
       "  nombre  edades   Cuidades\n",
       "0    ana      25     madrid\n",
       "1   luis      30  barcelona\n",
       "2  marco      22   valencia\n",
       "3   juan      27     bilbao"
      ]
     },
     "execution_count": 56,
     "metadata": {},
     "output_type": "execute_result"
    }
   ],
   "source": [
    "d={\n",
    "    \"nombre\":[\"ana\", \"luis\",\"marco\", \"juan\"],\n",
    "     \"edades\":[25,30,22,27],\n",
    "    \"Cuidades\":[\"madrid\",\"barcelona\",\"valencia\",\"bilbao\"]\n",
    "}\n",
    "dd=pd.DataFrame(d)\n",
    "dd"
   ]
  },
  {
   "cell_type": "code",
   "execution_count": 62,
   "id": "8fc4176b-7024-4644-8d29-dabe6a27e64c",
   "metadata": {},
   "outputs": [
    {
     "data": {
      "text/html": [
       "<div>\n",
       "<style scoped>\n",
       "    .dataframe tbody tr th:only-of-type {\n",
       "        vertical-align: middle;\n",
       "    }\n",
       "\n",
       "    .dataframe tbody tr th {\n",
       "        vertical-align: top;\n",
       "    }\n",
       "\n",
       "    .dataframe thead th {\n",
       "        text-align: right;\n",
       "    }\n",
       "</style>\n",
       "<table border=\"1\" class=\"dataframe\">\n",
       "  <thead>\n",
       "    <tr style=\"text-align: right;\">\n",
       "      <th></th>\n",
       "      <th>nombre</th>\n",
       "      <th>edades</th>\n",
       "      <th>Cuidades</th>\n",
       "      <th>salario</th>\n",
       "    </tr>\n",
       "  </thead>\n",
       "  <tbody>\n",
       "    <tr>\n",
       "      <th>0</th>\n",
       "      <td>ana</td>\n",
       "      <td>25</td>\n",
       "      <td>madrid</td>\n",
       "      <td>30000</td>\n",
       "    </tr>\n",
       "    <tr>\n",
       "      <th>1</th>\n",
       "      <td>luis</td>\n",
       "      <td>30</td>\n",
       "      <td>barcelona</td>\n",
       "      <td>45000</td>\n",
       "    </tr>\n",
       "    <tr>\n",
       "      <th>2</th>\n",
       "      <td>marco</td>\n",
       "      <td>22</td>\n",
       "      <td>valencia</td>\n",
       "      <td>38000</td>\n",
       "    </tr>\n",
       "    <tr>\n",
       "      <th>3</th>\n",
       "      <td>juan</td>\n",
       "      <td>27</td>\n",
       "      <td>bilbao</td>\n",
       "      <td>32000</td>\n",
       "    </tr>\n",
       "  </tbody>\n",
       "</table>\n",
       "</div>"
      ],
      "text/plain": [
       "  nombre  edades   Cuidades  salario\n",
       "0    ana      25     madrid    30000\n",
       "1   luis      30  barcelona    45000\n",
       "2  marco      22   valencia    38000\n",
       "3   juan      27     bilbao    32000"
      ]
     },
     "execution_count": 62,
     "metadata": {},
     "output_type": "execute_result"
    }
   ],
   "source": [
    "#agregamos una columna nueva\n",
    "dd[\"salario\"]=[30000,45000,38000,32000]\n",
    "dd"
   ]
  },
  {
   "cell_type": "code",
   "execution_count": 63,
   "id": "68b1c2f8-2088-4ff9-b36f-9539280791b3",
   "metadata": {},
   "outputs": [
    {
     "name": "stdout",
     "output_type": "stream",
     "text": [
      "0      ana\n",
      "1     luis\n",
      "2    marco\n",
      "3     juan\n",
      "Name: nombre, dtype: object\n"
     ]
    }
   ],
   "source": [
    "nombres = dd[\"nombre\"]\n",
    "print(nombres)"
   ]
  },
  {
   "cell_type": "code",
   "execution_count": 67,
   "id": "94c2636e-09f0-46e5-ac24-c5faad86928a",
   "metadata": {},
   "outputs": [
    {
     "name": "stdout",
     "output_type": "stream",
     "text": [
      "  nombre  edades   Cuidades  salario\n",
      "1   luis      30  barcelona    45000\n",
      "3   juan      27     bilbao    32000\n"
     ]
    }
   ],
   "source": [
    "#mostramos los que son mayores de 25 años \n",
    "mayores = dd[dd[\"edades\"] > 25]\n",
    "print(mayores)"
   ]
  },
  {
   "cell_type": "code",
   "execution_count": 70,
   "id": "f05aa40b-1eea-4f9e-9d62-3574712bb8ea",
   "metadata": {},
   "outputs": [
    {
     "data": {
      "text/html": [
       "<div>\n",
       "<style scoped>\n",
       "    .dataframe tbody tr th:only-of-type {\n",
       "        vertical-align: middle;\n",
       "    }\n",
       "\n",
       "    .dataframe tbody tr th {\n",
       "        vertical-align: top;\n",
       "    }\n",
       "\n",
       "    .dataframe thead th {\n",
       "        text-align: right;\n",
       "    }\n",
       "</style>\n",
       "<table border=\"1\" class=\"dataframe\">\n",
       "  <thead>\n",
       "    <tr style=\"text-align: right;\">\n",
       "      <th></th>\n",
       "      <th>indice_global</th>\n",
       "      <th>indice_estricto</th>\n",
       "      <th>título</th>\n",
       "      <th>director</th>\n",
       "      <th>año</th>\n",
       "      <th>duración</th>\n",
       "      <th>género</th>\n",
       "      <th>rating</th>\n",
       "      <th>metascore</th>\n",
       "      <th>recaudación(M)</th>\n",
       "    </tr>\n",
       "  </thead>\n",
       "  <tbody>\n",
       "    <tr>\n",
       "      <th>0</th>\n",
       "      <td>0</td>\n",
       "      <td>0.0</td>\n",
       "      <td>The Shawshank Redemption</td>\n",
       "      <td>Frank Darabont</td>\n",
       "      <td>1994.0</td>\n",
       "      <td>142.0</td>\n",
       "      <td>Drama</td>\n",
       "      <td>9.3</td>\n",
       "      <td>82.0</td>\n",
       "      <td>28.34</td>\n",
       "    </tr>\n",
       "    <tr>\n",
       "      <th>1</th>\n",
       "      <td>1</td>\n",
       "      <td>1.0</td>\n",
       "      <td>The Godfather</td>\n",
       "      <td>Francis Ford Coppola</td>\n",
       "      <td>1972.0</td>\n",
       "      <td>175.0</td>\n",
       "      <td>Crimen</td>\n",
       "      <td>9.2</td>\n",
       "      <td>100.0</td>\n",
       "      <td>134.97</td>\n",
       "    </tr>\n",
       "  </tbody>\n",
       "</table>\n",
       "</div>"
      ],
      "text/plain": [
       "  indice_global  indice_estricto                    título  \\\n",
       "0             0              0.0  The Shawshank Redemption   \n",
       "1             1              1.0             The Godfather   \n",
       "\n",
       "               director     año  duración  género  rating  metascore  \\\n",
       "0        Frank Darabont  1994.0     142.0   Drama     9.3       82.0   \n",
       "1  Francis Ford Coppola  1972.0     175.0  Crimen     9.2      100.0   \n",
       "\n",
       "   recaudación(M)  \n",
       "0           28.34  \n",
       "1          134.97  "
      ]
     },
     "execution_count": 70,
     "metadata": {},
     "output_type": "execute_result"
    }
   ],
   "source": [
    "p=pd.read_csv(\"Top-Películas.csv\")\n",
    "p.head(2)"
   ]
  },
  {
   "cell_type": "code",
   "execution_count": 80,
   "id": "77416ef9-d109-4436-9fb8-7ca72c8beebd",
   "metadata": {},
   "outputs": [
    {
     "data": {
      "text/html": [
       "<div>\n",
       "<style scoped>\n",
       "    .dataframe tbody tr th:only-of-type {\n",
       "        vertical-align: middle;\n",
       "    }\n",
       "\n",
       "    .dataframe tbody tr th {\n",
       "        vertical-align: top;\n",
       "    }\n",
       "\n",
       "    .dataframe thead th {\n",
       "        text-align: right;\n",
       "    }\n",
       "</style>\n",
       "<table border=\"1\" class=\"dataframe\">\n",
       "  <thead>\n",
       "    <tr style=\"text-align: right;\">\n",
       "      <th></th>\n",
       "      <th>indice_global</th>\n",
       "      <th>indice_estricto</th>\n",
       "      <th>título</th>\n",
       "      <th>director</th>\n",
       "      <th>año</th>\n",
       "      <th>duración</th>\n",
       "      <th>género</th>\n",
       "      <th>rating</th>\n",
       "      <th>metascore</th>\n",
       "      <th>recaudación(M)</th>\n",
       "    </tr>\n",
       "  </thead>\n",
       "  <tbody>\n",
       "    <tr>\n",
       "      <th>2531</th>\n",
       "      <td>2531</td>\n",
       "      <td>999.0</td>\n",
       "      <td>Cell 211</td>\n",
       "      <td>Daniel MonzÃ³n</td>\n",
       "      <td>2009.0</td>\n",
       "      <td>113.0</td>\n",
       "      <td>Drama</td>\n",
       "      <td>7.6</td>\n",
       "      <td>0.0</td>\n",
       "      <td>0.00</td>\n",
       "    </tr>\n",
       "    <tr>\n",
       "      <th>2400</th>\n",
       "      <td>2400</td>\n",
       "      <td>953.0</td>\n",
       "      <td>Minority Report</td>\n",
       "      <td>Steven Spielberg</td>\n",
       "      <td>2002.0</td>\n",
       "      <td>145.0</td>\n",
       "      <td>Acción</td>\n",
       "      <td>7.6</td>\n",
       "      <td>80.0</td>\n",
       "      <td>132.07</td>\n",
       "    </tr>\n",
       "  </tbody>\n",
       "</table>\n",
       "</div>"
      ],
      "text/plain": [
       "     indice_global  indice_estricto           título          director  \\\n",
       "2531          2531            999.0         Cell 211    Daniel MonzÃ³n   \n",
       "2400          2400            953.0  Minority Report  Steven Spielberg   \n",
       "\n",
       "         año  duración  género  rating  metascore  recaudación(M)  \n",
       "2531  2009.0     113.0   Drama     7.6        0.0            0.00  \n",
       "2400  2002.0     145.0  Acción     7.6       80.0          132.07  "
      ]
     },
     "execution_count": 80,
     "metadata": {},
     "output_type": "execute_result"
    }
   ],
   "source": [
    "#ordenacion de dataframes \n",
    "p_ordenados = p.sort_values(by=\"rating\")\n",
    "p_ordenados.head(2)"
   ]
  },
  {
   "cell_type": "code",
   "execution_count": 79,
   "id": "824cdb5e-ceeb-4052-86be-4de9e8b52349",
   "metadata": {},
   "outputs": [
    {
     "data": {
      "text/html": [
       "<div>\n",
       "<style scoped>\n",
       "    .dataframe tbody tr th:only-of-type {\n",
       "        vertical-align: middle;\n",
       "    }\n",
       "\n",
       "    .dataframe tbody tr th {\n",
       "        vertical-align: top;\n",
       "    }\n",
       "\n",
       "    .dataframe thead th {\n",
       "        text-align: right;\n",
       "    }\n",
       "</style>\n",
       "<table border=\"1\" class=\"dataframe\">\n",
       "  <thead>\n",
       "    <tr style=\"text-align: right;\">\n",
       "      <th></th>\n",
       "      <th>indice_global</th>\n",
       "      <th>indice_estricto</th>\n",
       "      <th>título</th>\n",
       "      <th>director</th>\n",
       "      <th>año</th>\n",
       "      <th>duración</th>\n",
       "      <th>género</th>\n",
       "      <th>rating</th>\n",
       "      <th>metascore</th>\n",
       "      <th>recaudación(M)</th>\n",
       "    </tr>\n",
       "  </thead>\n",
       "  <tbody>\n",
       "    <tr>\n",
       "      <th>0</th>\n",
       "      <td>0</td>\n",
       "      <td>0.0</td>\n",
       "      <td>The Shawshank Redemption</td>\n",
       "      <td>Frank Darabont</td>\n",
       "      <td>1994.0</td>\n",
       "      <td>142.0</td>\n",
       "      <td>Drama</td>\n",
       "      <td>9.3</td>\n",
       "      <td>82.0</td>\n",
       "      <td>28.34</td>\n",
       "    </tr>\n",
       "    <tr>\n",
       "      <th>2</th>\n",
       "      <td>2</td>\n",
       "      <td>1.0</td>\n",
       "      <td>The Godfather</td>\n",
       "      <td>Francis Ford Coppola</td>\n",
       "      <td>1972.0</td>\n",
       "      <td>175.0</td>\n",
       "      <td>Drama</td>\n",
       "      <td>9.2</td>\n",
       "      <td>100.0</td>\n",
       "      <td>134.97</td>\n",
       "    </tr>\n",
       "  </tbody>\n",
       "</table>\n",
       "</div>"
      ],
      "text/plain": [
       "  indice_global  indice_estricto                    título  \\\n",
       "0             0              0.0  The Shawshank Redemption   \n",
       "2             2              1.0             The Godfather   \n",
       "\n",
       "               director     año  duración género  rating  metascore  \\\n",
       "0        Frank Darabont  1994.0     142.0  Drama     9.3       82.0   \n",
       "2  Francis Ford Coppola  1972.0     175.0  Drama     9.2      100.0   \n",
       "\n",
       "   recaudación(M)  \n",
       "0           28.34  \n",
       "2          134.97  "
      ]
     },
     "execution_count": 79,
     "metadata": {},
     "output_type": "execute_result"
    }
   ],
   "source": [
    "p_ordenados = p.sort_values(by=\"rating\", ascending=False)\n",
    "p_ordenados.head(2)"
   ]
  },
  {
   "cell_type": "code",
   "execution_count": 74,
   "id": "8d987853-e4c5-489d-96da-fa28b5f610f7",
   "metadata": {},
   "outputs": [
    {
     "data": {
      "text/html": [
       "<div>\n",
       "<style scoped>\n",
       "    .dataframe tbody tr th:only-of-type {\n",
       "        vertical-align: middle;\n",
       "    }\n",
       "\n",
       "    .dataframe tbody tr th {\n",
       "        vertical-align: top;\n",
       "    }\n",
       "\n",
       "    .dataframe thead th {\n",
       "        text-align: right;\n",
       "    }\n",
       "</style>\n",
       "<table border=\"1\" class=\"dataframe\">\n",
       "  <thead>\n",
       "    <tr style=\"text-align: right;\">\n",
       "      <th></th>\n",
       "      <th>indice_global</th>\n",
       "      <th>indice_estricto</th>\n",
       "      <th>título</th>\n",
       "      <th>director</th>\n",
       "      <th>año</th>\n",
       "      <th>duración</th>\n",
       "      <th>género</th>\n",
       "      <th>rating</th>\n",
       "      <th>metascore</th>\n",
       "      <th>recaudación(M)</th>\n",
       "    </tr>\n",
       "  </thead>\n",
       "  <tbody>\n",
       "    <tr>\n",
       "      <th>0</th>\n",
       "      <td>0</td>\n",
       "      <td>0.0</td>\n",
       "      <td>The Shawshank Redemption</td>\n",
       "      <td>Frank Darabont</td>\n",
       "      <td>1994.0</td>\n",
       "      <td>142.0</td>\n",
       "      <td>Drama</td>\n",
       "      <td>9.3</td>\n",
       "      <td>82.0</td>\n",
       "      <td>28.34</td>\n",
       "    </tr>\n",
       "    <tr>\n",
       "      <th>1</th>\n",
       "      <td>1</td>\n",
       "      <td>1.0</td>\n",
       "      <td>The Godfather</td>\n",
       "      <td>Francis Ford Coppola</td>\n",
       "      <td>1972.0</td>\n",
       "      <td>175.0</td>\n",
       "      <td>Crimen</td>\n",
       "      <td>9.2</td>\n",
       "      <td>100.0</td>\n",
       "      <td>134.97</td>\n",
       "    </tr>\n",
       "  </tbody>\n",
       "</table>\n",
       "</div>"
      ],
      "text/plain": [
       "  indice_global  indice_estricto                    título  \\\n",
       "0             0              0.0  The Shawshank Redemption   \n",
       "1             1              1.0             The Godfather   \n",
       "\n",
       "               director     año  duración  género  rating  metascore  \\\n",
       "0        Frank Darabont  1994.0     142.0   Drama     9.3       82.0   \n",
       "1  Francis Ford Coppola  1972.0     175.0  Crimen     9.2      100.0   \n",
       "\n",
       "   recaudación(M)  \n",
       "0           28.34  \n",
       "1          134.97  "
      ]
     },
     "execution_count": 74,
     "metadata": {},
     "output_type": "execute_result"
    }
   ],
   "source": [
    "p_ordenados = p.sort_values(by=[\"rating\",\"recaudación(M)\"], ascending=False)\n",
    "p_ordenados.head(2)"
   ]
  },
  {
   "cell_type": "code",
   "execution_count": 81,
   "id": "25b4931b-907b-4cc1-b496-841089546028",
   "metadata": {},
   "outputs": [
    {
     "data": {
      "text/plain": [
       "género\n",
       "Acción       7.987255\n",
       "Animación    7.943902\n",
       "Name: rating, dtype: float64"
      ]
     },
     "execution_count": 81,
     "metadata": {},
     "output_type": "execute_result"
    }
   ],
   "source": [
    "#agrapar categorias con groupby por generos y rating y el promedio\n",
    "p_agrupados = p.groupby(\"género\")[\"rating\"].mean()\n",
    "p_agrupados.head(2)"
   ]
  },
  {
   "cell_type": "code",
   "execution_count": 82,
   "id": "acd4f41d-ff03-4520-8c91-d6599aba0fdc",
   "metadata": {},
   "outputs": [
    {
     "data": {
      "text/plain": [
       "año\n",
       "2014.0    8015.90\n",
       "2019.0    7092.95\n",
       "Name: recaudación(M), dtype: float64"
      ]
     },
     "execution_count": 82,
     "metadata": {},
     "output_type": "execute_result"
    }
   ],
   "source": [
    "p_agrupados= p.groupby(\"año\")[\"recaudación(M)\"].sum()\n",
    "p_agrupados.sort_values(ascending=False).head(2)"
   ]
  },
  {
   "cell_type": "code",
   "execution_count": 84,
   "id": "9f6a3ada-4a79-4250-8c2e-e7e45f23e1b8",
   "metadata": {},
   "outputs": [],
   "source": [
    "dm= pd.DataFrame({\"id\":[1,2,3],\"nombre\":[\"ana\", \"luis\", \"carlos\"]})\n",
    "dm1 = pd.DataFrame({\"id\":[1,2,4],\"edad\":[25,30,22]})"
   ]
  },
  {
   "cell_type": "code",
   "execution_count": 85,
   "id": "2c4ef0a3-4e8b-4f90-b43e-0433aedc1851",
   "metadata": {},
   "outputs": [
    {
     "data": {
      "text/html": [
       "<div>\n",
       "<style scoped>\n",
       "    .dataframe tbody tr th:only-of-type {\n",
       "        vertical-align: middle;\n",
       "    }\n",
       "\n",
       "    .dataframe tbody tr th {\n",
       "        vertical-align: top;\n",
       "    }\n",
       "\n",
       "    .dataframe thead th {\n",
       "        text-align: right;\n",
       "    }\n",
       "</style>\n",
       "<table border=\"1\" class=\"dataframe\">\n",
       "  <thead>\n",
       "    <tr style=\"text-align: right;\">\n",
       "      <th></th>\n",
       "      <th>id</th>\n",
       "      <th>nombre</th>\n",
       "    </tr>\n",
       "  </thead>\n",
       "  <tbody>\n",
       "    <tr>\n",
       "      <th>0</th>\n",
       "      <td>1</td>\n",
       "      <td>ana</td>\n",
       "    </tr>\n",
       "    <tr>\n",
       "      <th>1</th>\n",
       "      <td>2</td>\n",
       "      <td>luis</td>\n",
       "    </tr>\n",
       "    <tr>\n",
       "      <th>2</th>\n",
       "      <td>3</td>\n",
       "      <td>carlos</td>\n",
       "    </tr>\n",
       "  </tbody>\n",
       "</table>\n",
       "</div>"
      ],
      "text/plain": [
       "   id  nombre\n",
       "0   1     ana\n",
       "1   2    luis\n",
       "2   3  carlos"
      ]
     },
     "execution_count": 85,
     "metadata": {},
     "output_type": "execute_result"
    }
   ],
   "source": [
    "dm"
   ]
  },
  {
   "cell_type": "code",
   "execution_count": 86,
   "id": "e68ef529-f52b-418c-9ad1-b27aed50a5a0",
   "metadata": {},
   "outputs": [
    {
     "data": {
      "text/html": [
       "<div>\n",
       "<style scoped>\n",
       "    .dataframe tbody tr th:only-of-type {\n",
       "        vertical-align: middle;\n",
       "    }\n",
       "\n",
       "    .dataframe tbody tr th {\n",
       "        vertical-align: top;\n",
       "    }\n",
       "\n",
       "    .dataframe thead th {\n",
       "        text-align: right;\n",
       "    }\n",
       "</style>\n",
       "<table border=\"1\" class=\"dataframe\">\n",
       "  <thead>\n",
       "    <tr style=\"text-align: right;\">\n",
       "      <th></th>\n",
       "      <th>id</th>\n",
       "      <th>edad</th>\n",
       "    </tr>\n",
       "  </thead>\n",
       "  <tbody>\n",
       "    <tr>\n",
       "      <th>0</th>\n",
       "      <td>1</td>\n",
       "      <td>25</td>\n",
       "    </tr>\n",
       "    <tr>\n",
       "      <th>1</th>\n",
       "      <td>2</td>\n",
       "      <td>30</td>\n",
       "    </tr>\n",
       "    <tr>\n",
       "      <th>2</th>\n",
       "      <td>4</td>\n",
       "      <td>22</td>\n",
       "    </tr>\n",
       "  </tbody>\n",
       "</table>\n",
       "</div>"
      ],
      "text/plain": [
       "   id  edad\n",
       "0   1    25\n",
       "1   2    30\n",
       "2   4    22"
      ]
     },
     "execution_count": 86,
     "metadata": {},
     "output_type": "execute_result"
    }
   ],
   "source": [
    "dm1"
   ]
  },
  {
   "cell_type": "code",
   "execution_count": 88,
   "id": "a53c9f71-38ef-42b0-8271-b0105a1d5484",
   "metadata": {},
   "outputs": [
    {
     "data": {
      "text/html": [
       "<div>\n",
       "<style scoped>\n",
       "    .dataframe tbody tr th:only-of-type {\n",
       "        vertical-align: middle;\n",
       "    }\n",
       "\n",
       "    .dataframe tbody tr th {\n",
       "        vertical-align: top;\n",
       "    }\n",
       "\n",
       "    .dataframe thead th {\n",
       "        text-align: right;\n",
       "    }\n",
       "</style>\n",
       "<table border=\"1\" class=\"dataframe\">\n",
       "  <thead>\n",
       "    <tr style=\"text-align: right;\">\n",
       "      <th></th>\n",
       "      <th>id</th>\n",
       "      <th>nombre</th>\n",
       "      <th>edad</th>\n",
       "    </tr>\n",
       "  </thead>\n",
       "  <tbody>\n",
       "    <tr>\n",
       "      <th>0</th>\n",
       "      <td>1</td>\n",
       "      <td>ana</td>\n",
       "      <td>25</td>\n",
       "    </tr>\n",
       "    <tr>\n",
       "      <th>1</th>\n",
       "      <td>2</td>\n",
       "      <td>luis</td>\n",
       "      <td>30</td>\n",
       "    </tr>\n",
       "  </tbody>\n",
       "</table>\n",
       "</div>"
      ],
      "text/plain": [
       "   id nombre  edad\n",
       "0   1    ana    25\n",
       "1   2   luis    30"
      ]
     },
     "execution_count": 88,
     "metadata": {},
     "output_type": "execute_result"
    }
   ],
   "source": [
    "#funcion merge para fusionar de dataframes \n",
    "dm_combinado = pd.merge(dm, dm1,on=\"id\")\n",
    "dm_combinado"
   ]
  },
  {
   "cell_type": "code",
   "execution_count": 89,
   "id": "e234483c-0305-49ca-88fd-d8977d2471ae",
   "metadata": {},
   "outputs": [],
   "source": [
    "#combinamos  dataframes con join \n",
    "j=pd.DataFrame({\"salario\":[12000,23000,43000],\"antiguidad\":[9,13,12]},index=[1,2,3])\n",
    "j1=pd.DataFrame({\"cuidad\":[\"madrid\", \"barcelona\",\"valencia\"],\"jerarquia\":[\"baja\",\"alta\",\"media\"]}, index=[1,2,4,])"
   ]
  },
  {
   "cell_type": "code",
   "execution_count": 90,
   "id": "b9c0bbb9-41ab-41fe-b06b-018eb44c4840",
   "metadata": {},
   "outputs": [
    {
     "data": {
      "text/html": [
       "<div>\n",
       "<style scoped>\n",
       "    .dataframe tbody tr th:only-of-type {\n",
       "        vertical-align: middle;\n",
       "    }\n",
       "\n",
       "    .dataframe tbody tr th {\n",
       "        vertical-align: top;\n",
       "    }\n",
       "\n",
       "    .dataframe thead th {\n",
       "        text-align: right;\n",
       "    }\n",
       "</style>\n",
       "<table border=\"1\" class=\"dataframe\">\n",
       "  <thead>\n",
       "    <tr style=\"text-align: right;\">\n",
       "      <th></th>\n",
       "      <th>salario</th>\n",
       "      <th>antiguidad</th>\n",
       "    </tr>\n",
       "  </thead>\n",
       "  <tbody>\n",
       "    <tr>\n",
       "      <th>1</th>\n",
       "      <td>12000</td>\n",
       "      <td>9</td>\n",
       "    </tr>\n",
       "    <tr>\n",
       "      <th>2</th>\n",
       "      <td>23000</td>\n",
       "      <td>13</td>\n",
       "    </tr>\n",
       "    <tr>\n",
       "      <th>3</th>\n",
       "      <td>43000</td>\n",
       "      <td>12</td>\n",
       "    </tr>\n",
       "  </tbody>\n",
       "</table>\n",
       "</div>"
      ],
      "text/plain": [
       "   salario  antiguidad\n",
       "1    12000           9\n",
       "2    23000          13\n",
       "3    43000          12"
      ]
     },
     "execution_count": 90,
     "metadata": {},
     "output_type": "execute_result"
    }
   ],
   "source": [
    "j"
   ]
  },
  {
   "cell_type": "code",
   "execution_count": 91,
   "id": "5e007295-9432-458b-b834-62c0f1dbbdbf",
   "metadata": {},
   "outputs": [
    {
     "data": {
      "text/html": [
       "<div>\n",
       "<style scoped>\n",
       "    .dataframe tbody tr th:only-of-type {\n",
       "        vertical-align: middle;\n",
       "    }\n",
       "\n",
       "    .dataframe tbody tr th {\n",
       "        vertical-align: top;\n",
       "    }\n",
       "\n",
       "    .dataframe thead th {\n",
       "        text-align: right;\n",
       "    }\n",
       "</style>\n",
       "<table border=\"1\" class=\"dataframe\">\n",
       "  <thead>\n",
       "    <tr style=\"text-align: right;\">\n",
       "      <th></th>\n",
       "      <th>cuidad</th>\n",
       "      <th>jerarquia</th>\n",
       "    </tr>\n",
       "  </thead>\n",
       "  <tbody>\n",
       "    <tr>\n",
       "      <th>1</th>\n",
       "      <td>madrid</td>\n",
       "      <td>baja</td>\n",
       "    </tr>\n",
       "    <tr>\n",
       "      <th>2</th>\n",
       "      <td>barcelona</td>\n",
       "      <td>alta</td>\n",
       "    </tr>\n",
       "    <tr>\n",
       "      <th>4</th>\n",
       "      <td>valencia</td>\n",
       "      <td>media</td>\n",
       "    </tr>\n",
       "  </tbody>\n",
       "</table>\n",
       "</div>"
      ],
      "text/plain": [
       "      cuidad jerarquia\n",
       "1     madrid      baja\n",
       "2  barcelona      alta\n",
       "4   valencia     media"
      ]
     },
     "execution_count": 91,
     "metadata": {},
     "output_type": "execute_result"
    }
   ],
   "source": [
    "j1"
   ]
  },
  {
   "cell_type": "code",
   "execution_count": 92,
   "id": "3603c102-17b4-484e-9446-a59c37fca76c",
   "metadata": {},
   "outputs": [
    {
     "data": {
      "text/html": [
       "<div>\n",
       "<style scoped>\n",
       "    .dataframe tbody tr th:only-of-type {\n",
       "        vertical-align: middle;\n",
       "    }\n",
       "\n",
       "    .dataframe tbody tr th {\n",
       "        vertical-align: top;\n",
       "    }\n",
       "\n",
       "    .dataframe thead th {\n",
       "        text-align: right;\n",
       "    }\n",
       "</style>\n",
       "<table border=\"1\" class=\"dataframe\">\n",
       "  <thead>\n",
       "    <tr style=\"text-align: right;\">\n",
       "      <th></th>\n",
       "      <th>salario</th>\n",
       "      <th>antiguidad</th>\n",
       "      <th>cuidad</th>\n",
       "      <th>jerarquia</th>\n",
       "    </tr>\n",
       "  </thead>\n",
       "  <tbody>\n",
       "    <tr>\n",
       "      <th>1</th>\n",
       "      <td>12000</td>\n",
       "      <td>9</td>\n",
       "      <td>madrid</td>\n",
       "      <td>baja</td>\n",
       "    </tr>\n",
       "    <tr>\n",
       "      <th>2</th>\n",
       "      <td>23000</td>\n",
       "      <td>13</td>\n",
       "      <td>barcelona</td>\n",
       "      <td>alta</td>\n",
       "    </tr>\n",
       "    <tr>\n",
       "      <th>3</th>\n",
       "      <td>43000</td>\n",
       "      <td>12</td>\n",
       "      <td>NaN</td>\n",
       "      <td>NaN</td>\n",
       "    </tr>\n",
       "  </tbody>\n",
       "</table>\n",
       "</div>"
      ],
      "text/plain": [
       "   salario  antiguidad     cuidad jerarquia\n",
       "1    12000           9     madrid      baja\n",
       "2    23000          13  barcelona      alta\n",
       "3    43000          12        NaN       NaN"
      ]
     },
     "execution_count": 92,
     "metadata": {},
     "output_type": "execute_result"
    }
   ],
   "source": [
    "j_unido = j.join(j1)\n",
    "j_unido"
   ]
  },
  {
   "cell_type": "code",
   "execution_count": 94,
   "id": "37a53e78-d6b2-48e4-9407-0793d5b375ff",
   "metadata": {},
   "outputs": [],
   "source": [
    "#concatenar dataframes\n",
    "c=pd.DataFrame({\"nombre\":[\"juan\",\"gabriela\",\"elena\"],\"edad\":[23,31,21]})\n",
    "c1=pd.DataFrame({\"nombre\":[\"carmela\",\"max\",\"laura\"],\"edad\":[34,25,29]})"
   ]
  },
  {
   "cell_type": "code",
   "execution_count": 95,
   "id": "828cc92b-1135-4932-8b30-e77fb3908acf",
   "metadata": {},
   "outputs": [
    {
     "data": {
      "text/html": [
       "<div>\n",
       "<style scoped>\n",
       "    .dataframe tbody tr th:only-of-type {\n",
       "        vertical-align: middle;\n",
       "    }\n",
       "\n",
       "    .dataframe tbody tr th {\n",
       "        vertical-align: top;\n",
       "    }\n",
       "\n",
       "    .dataframe thead th {\n",
       "        text-align: right;\n",
       "    }\n",
       "</style>\n",
       "<table border=\"1\" class=\"dataframe\">\n",
       "  <thead>\n",
       "    <tr style=\"text-align: right;\">\n",
       "      <th></th>\n",
       "      <th>nombre</th>\n",
       "      <th>edad</th>\n",
       "    </tr>\n",
       "  </thead>\n",
       "  <tbody>\n",
       "    <tr>\n",
       "      <th>0</th>\n",
       "      <td>juan</td>\n",
       "      <td>23</td>\n",
       "    </tr>\n",
       "    <tr>\n",
       "      <th>1</th>\n",
       "      <td>gabriela</td>\n",
       "      <td>31</td>\n",
       "    </tr>\n",
       "    <tr>\n",
       "      <th>2</th>\n",
       "      <td>elena</td>\n",
       "      <td>21</td>\n",
       "    </tr>\n",
       "  </tbody>\n",
       "</table>\n",
       "</div>"
      ],
      "text/plain": [
       "     nombre  edad\n",
       "0      juan    23\n",
       "1  gabriela    31\n",
       "2     elena    21"
      ]
     },
     "execution_count": 95,
     "metadata": {},
     "output_type": "execute_result"
    }
   ],
   "source": [
    "c"
   ]
  },
  {
   "cell_type": "code",
   "execution_count": 96,
   "id": "a42571ad-d9f8-485c-835f-ac2c7496fc29",
   "metadata": {},
   "outputs": [
    {
     "data": {
      "text/html": [
       "<div>\n",
       "<style scoped>\n",
       "    .dataframe tbody tr th:only-of-type {\n",
       "        vertical-align: middle;\n",
       "    }\n",
       "\n",
       "    .dataframe tbody tr th {\n",
       "        vertical-align: top;\n",
       "    }\n",
       "\n",
       "    .dataframe thead th {\n",
       "        text-align: right;\n",
       "    }\n",
       "</style>\n",
       "<table border=\"1\" class=\"dataframe\">\n",
       "  <thead>\n",
       "    <tr style=\"text-align: right;\">\n",
       "      <th></th>\n",
       "      <th>nombre</th>\n",
       "      <th>edad</th>\n",
       "    </tr>\n",
       "  </thead>\n",
       "  <tbody>\n",
       "    <tr>\n",
       "      <th>0</th>\n",
       "      <td>carmela</td>\n",
       "      <td>34</td>\n",
       "    </tr>\n",
       "    <tr>\n",
       "      <th>1</th>\n",
       "      <td>max</td>\n",
       "      <td>25</td>\n",
       "    </tr>\n",
       "    <tr>\n",
       "      <th>2</th>\n",
       "      <td>laura</td>\n",
       "      <td>29</td>\n",
       "    </tr>\n",
       "  </tbody>\n",
       "</table>\n",
       "</div>"
      ],
      "text/plain": [
       "    nombre  edad\n",
       "0  carmela    34\n",
       "1      max    25\n",
       "2    laura    29"
      ]
     },
     "execution_count": 96,
     "metadata": {},
     "output_type": "execute_result"
    }
   ],
   "source": [
    "c1"
   ]
  },
  {
   "cell_type": "code",
   "execution_count": 98,
   "id": "1c0bf5ef-c478-499c-9134-23f54811fcb1",
   "metadata": {},
   "outputs": [
    {
     "data": {
      "text/html": [
       "<div>\n",
       "<style scoped>\n",
       "    .dataframe tbody tr th:only-of-type {\n",
       "        vertical-align: middle;\n",
       "    }\n",
       "\n",
       "    .dataframe tbody tr th {\n",
       "        vertical-align: top;\n",
       "    }\n",
       "\n",
       "    .dataframe thead th {\n",
       "        text-align: right;\n",
       "    }\n",
       "</style>\n",
       "<table border=\"1\" class=\"dataframe\">\n",
       "  <thead>\n",
       "    <tr style=\"text-align: right;\">\n",
       "      <th></th>\n",
       "      <th>nombre</th>\n",
       "      <th>edad</th>\n",
       "    </tr>\n",
       "  </thead>\n",
       "  <tbody>\n",
       "    <tr>\n",
       "      <th>0</th>\n",
       "      <td>juan</td>\n",
       "      <td>23</td>\n",
       "    </tr>\n",
       "    <tr>\n",
       "      <th>1</th>\n",
       "      <td>gabriela</td>\n",
       "      <td>31</td>\n",
       "    </tr>\n",
       "    <tr>\n",
       "      <th>2</th>\n",
       "      <td>elena</td>\n",
       "      <td>21</td>\n",
       "    </tr>\n",
       "    <tr>\n",
       "      <th>3</th>\n",
       "      <td>carmela</td>\n",
       "      <td>34</td>\n",
       "    </tr>\n",
       "    <tr>\n",
       "      <th>4</th>\n",
       "      <td>max</td>\n",
       "      <td>25</td>\n",
       "    </tr>\n",
       "    <tr>\n",
       "      <th>5</th>\n",
       "      <td>laura</td>\n",
       "      <td>29</td>\n",
       "    </tr>\n",
       "  </tbody>\n",
       "</table>\n",
       "</div>"
      ],
      "text/plain": [
       "     nombre  edad\n",
       "0      juan    23\n",
       "1  gabriela    31\n",
       "2     elena    21\n",
       "3   carmela    34\n",
       "4       max    25\n",
       "5     laura    29"
      ]
     },
     "execution_count": 98,
     "metadata": {},
     "output_type": "execute_result"
    }
   ],
   "source": [
    "c_concat = pd.concat([c,c1], ignore_index=True)\n",
    "c_concat"
   ]
  },
  {
   "cell_type": "code",
   "execution_count": 100,
   "id": "e125ad72-b6a1-419e-a864-5dae41ba7346",
   "metadata": {},
   "outputs": [
    {
     "data": {
      "text/html": [
       "<div>\n",
       "<style scoped>\n",
       "    .dataframe tbody tr th:only-of-type {\n",
       "        vertical-align: middle;\n",
       "    }\n",
       "\n",
       "    .dataframe tbody tr th {\n",
       "        vertical-align: top;\n",
       "    }\n",
       "\n",
       "    .dataframe thead th {\n",
       "        text-align: right;\n",
       "    }\n",
       "</style>\n",
       "<table border=\"1\" class=\"dataframe\">\n",
       "  <thead>\n",
       "    <tr style=\"text-align: right;\">\n",
       "      <th></th>\n",
       "      <th></th>\n",
       "      <th>nombre</th>\n",
       "      <th>edad</th>\n",
       "    </tr>\n",
       "  </thead>\n",
       "  <tbody>\n",
       "    <tr>\n",
       "      <th rowspan=\"3\" valign=\"top\">c</th>\n",
       "      <th>0</th>\n",
       "      <td>juan</td>\n",
       "      <td>23</td>\n",
       "    </tr>\n",
       "    <tr>\n",
       "      <th>1</th>\n",
       "      <td>gabriela</td>\n",
       "      <td>31</td>\n",
       "    </tr>\n",
       "    <tr>\n",
       "      <th>2</th>\n",
       "      <td>elena</td>\n",
       "      <td>21</td>\n",
       "    </tr>\n",
       "    <tr>\n",
       "      <th rowspan=\"3\" valign=\"top\">c1</th>\n",
       "      <th>0</th>\n",
       "      <td>carmela</td>\n",
       "      <td>34</td>\n",
       "    </tr>\n",
       "    <tr>\n",
       "      <th>1</th>\n",
       "      <td>max</td>\n",
       "      <td>25</td>\n",
       "    </tr>\n",
       "    <tr>\n",
       "      <th>2</th>\n",
       "      <td>laura</td>\n",
       "      <td>29</td>\n",
       "    </tr>\n",
       "  </tbody>\n",
       "</table>\n",
       "</div>"
      ],
      "text/plain": [
       "        nombre  edad\n",
       "c  0      juan    23\n",
       "   1  gabriela    31\n",
       "   2     elena    21\n",
       "c1 0   carmela    34\n",
       "   1       max    25\n",
       "   2     laura    29"
      ]
     },
     "execution_count": 100,
     "metadata": {},
     "output_type": "execute_result"
    }
   ],
   "source": [
    "c_concat = pd.concat([c,c1],keys=[\"c\",\"c1\"])\n",
    "c_concat"
   ]
  },
  {
   "cell_type": "code",
   "execution_count": 109,
   "id": "20b795ec-61d0-43c6-8113-915a99a53145",
   "metadata": {},
   "outputs": [
    {
     "data": {
      "text/plain": [
       "0   2024-01-01\n",
       "1   2024-01-02\n",
       "2   2024-01-03\n",
       "dtype: datetime64[ns]"
      ]
     },
     "execution_count": 109,
     "metadata": {},
     "output_type": "execute_result"
    }
   ],
   "source": [
    "#periodos de tiempo timestamp\n",
    "fechas = pd.Series(pd.date_range('20240101',periods=3))\n",
    "fechas"
   ]
  },
  {
   "cell_type": "code",
   "execution_count": 110,
   "id": "8394dc1e-8a13-4937-9d93-ce6d33306cdb",
   "metadata": {},
   "outputs": [
    {
     "data": {
      "text/plain": [
       "0   2024-01-31\n",
       "1   2024-02-29\n",
       "2   2024-03-31\n",
       "dtype: datetime64[ns]"
      ]
     },
     "execution_count": 110,
     "metadata": {},
     "output_type": "execute_result"
    }
   ],
   "source": [
    "# periodos de tiempo en meses\n",
    "fechas = pd.Series(pd.date_range('20240101',periods=3,freq=\"ME\"))\n",
    "fechas"
   ]
  },
  {
   "cell_type": "code",
   "execution_count": 111,
   "id": "59b6ccd0-2e6a-49bf-8687-bfea313c07c1",
   "metadata": {},
   "outputs": [
    {
     "data": {
      "text/plain": [
       "0   2024-12-31\n",
       "1   2025-12-31\n",
       "2   2026-12-31\n",
       "dtype: datetime64[ns]"
      ]
     },
     "execution_count": 111,
     "metadata": {},
     "output_type": "execute_result"
    }
   ],
   "source": [
    "#periodos de tiempo en años \n",
    "fechas = pd.Series(pd.date_range('20240101',periods=3,freq=\"YE\"))\n",
    "fechas"
   ]
  },
  {
   "cell_type": "code",
   "execution_count": 112,
   "id": "ff2c0810-c89c-4853-8d61-5b67e133a8b1",
   "metadata": {},
   "outputs": [
    {
     "data": {
      "text/plain": [
       "0   2024-01-01 00:00:00\n",
       "1   2024-01-01 01:00:00\n",
       "2   2024-01-01 02:00:00\n",
       "dtype: datetime64[ns]"
      ]
     },
     "execution_count": 112,
     "metadata": {},
     "output_type": "execute_result"
    }
   ],
   "source": [
    "#periodos de tiempo en horas \n",
    "fechas = pd.Series(pd.date_range('20240101',periods=3,freq=\"h\"))\n",
    "fechas"
   ]
  },
  {
   "cell_type": "code",
   "execution_count": 116,
   "id": "be5873f1-9b96-4144-bcd7-c73baffb1e93",
   "metadata": {},
   "outputs": [
    {
     "data": {
      "text/plain": [
       "0   2024-01-01 00:00:00\n",
       "1   2024-01-01 00:01:00\n",
       "2   2024-01-01 00:02:00\n",
       "dtype: datetime64[ns]"
      ]
     },
     "execution_count": 116,
     "metadata": {},
     "output_type": "execute_result"
    }
   ],
   "source": [
    "#PERIODOS DE TIEMPO EN MINUTOS \n",
    "fechas = pd.Series(pd.date_range('20240101',periods=3,freq=\"min\"))\n",
    "fechas"
   ]
  },
  {
   "cell_type": "code",
   "execution_count": 117,
   "id": "4d966a49-6886-4f4f-960b-364f91c5e65e",
   "metadata": {},
   "outputs": [
    {
     "data": {
      "text/plain": [
       "0   2024-01-01\n",
       "1   2024-01-06\n",
       "2   2024-01-11\n",
       "dtype: datetime64[ns]"
      ]
     },
     "execution_count": 117,
     "metadata": {},
     "output_type": "execute_result"
    }
   ],
   "source": [
    "#PRIODOS DE TIEMPO VAN DE 5 DIAS EN 5 DIAS \n",
    "fechas = pd.Series(pd.date_range('20240101',periods=3,freq=\"5D\"))\n",
    "fechas"
   ]
  },
  {
   "cell_type": "code",
   "execution_count": 120,
   "id": "174f1942-80f4-429b-8053-a017f18b7670",
   "metadata": {},
   "outputs": [
    {
     "data": {
      "text/html": [
       "<div>\n",
       "<style scoped>\n",
       "    .dataframe tbody tr th:only-of-type {\n",
       "        vertical-align: middle;\n",
       "    }\n",
       "\n",
       "    .dataframe tbody tr th {\n",
       "        vertical-align: top;\n",
       "    }\n",
       "\n",
       "    .dataframe thead th {\n",
       "        text-align: right;\n",
       "    }\n",
       "</style>\n",
       "<table border=\"1\" class=\"dataframe\">\n",
       "  <thead>\n",
       "    <tr style=\"text-align: right;\">\n",
       "      <th></th>\n",
       "      <th>Ticker</th>\n",
       "      <th>Fecha</th>\n",
       "      <th>Cierre</th>\n",
       "      <th>Referencia</th>\n",
       "      <th>Volumen</th>\n",
       "      <th>Rotacion</th>\n",
       "      <th>Ultimo</th>\n",
       "      <th>Alto</th>\n",
       "      <th>Bajo</th>\n",
       "      <th>Promedio</th>\n",
       "    </tr>\n",
       "  </thead>\n",
       "  <tbody>\n",
       "    <tr>\n",
       "      <th>0</th>\n",
       "      <td>ANA</td>\n",
       "      <td>02/01/2019</td>\n",
       "      <td>74.80</td>\n",
       "      <td>73.9</td>\n",
       "      <td>156300</td>\n",
       "      <td>11621188.98</td>\n",
       "      <td>74.80</td>\n",
       "      <td>75.16</td>\n",
       "      <td>72.38</td>\n",
       "      <td>74.3518</td>\n",
       "    </tr>\n",
       "    <tr>\n",
       "      <th>1</th>\n",
       "      <td>ANA</td>\n",
       "      <td>03/01/2019</td>\n",
       "      <td>76.34</td>\n",
       "      <td>74.8</td>\n",
       "      <td>140331</td>\n",
       "      <td>10632703.64</td>\n",
       "      <td>76.34</td>\n",
       "      <td>76.60</td>\n",
       "      <td>74.54</td>\n",
       "      <td>75.7687</td>\n",
       "    </tr>\n",
       "  </tbody>\n",
       "</table>\n",
       "</div>"
      ],
      "text/plain": [
       "  Ticker       Fecha  Cierre  Referencia  Volumen     Rotacion  Ultimo   Alto  \\\n",
       "0    ANA  02/01/2019   74.80        73.9   156300  11621188.98   74.80  75.16   \n",
       "1    ANA  03/01/2019   76.34        74.8   140331  10632703.64   76.34  76.60   \n",
       "\n",
       "    Bajo  Promedio  \n",
       "0  72.38   74.3518  \n",
       "1  74.54   75.7687  "
      ]
     },
     "execution_count": 120,
     "metadata": {},
     "output_type": "execute_result"
    }
   ],
   "source": [
    "#dataframe con fechas \n",
    "mercado =pd.read_csv(\"Mercado+de+Valores+España.csv\")\n",
    "mercado.head(2)"
   ]
  },
  {
   "cell_type": "code",
   "execution_count": 123,
   "id": "72ab4b5a-369e-4c53-b397-42d997775df5",
   "metadata": {},
   "outputs": [
    {
     "data": {
      "text/html": [
       "<div>\n",
       "<style scoped>\n",
       "    .dataframe tbody tr th:only-of-type {\n",
       "        vertical-align: middle;\n",
       "    }\n",
       "\n",
       "    .dataframe tbody tr th {\n",
       "        vertical-align: top;\n",
       "    }\n",
       "\n",
       "    .dataframe thead th {\n",
       "        text-align: right;\n",
       "    }\n",
       "</style>\n",
       "<table border=\"1\" class=\"dataframe\">\n",
       "  <thead>\n",
       "    <tr style=\"text-align: right;\">\n",
       "      <th></th>\n",
       "      <th>Ticker</th>\n",
       "      <th>Fecha</th>\n",
       "      <th>Cierre</th>\n",
       "      <th>Referencia</th>\n",
       "      <th>Volumen</th>\n",
       "      <th>Rotacion</th>\n",
       "      <th>Ultimo</th>\n",
       "      <th>Alto</th>\n",
       "      <th>Bajo</th>\n",
       "      <th>Promedio</th>\n",
       "    </tr>\n",
       "  </thead>\n",
       "  <tbody>\n",
       "    <tr>\n",
       "      <th>0</th>\n",
       "      <td>ANA</td>\n",
       "      <td>2019-01-02</td>\n",
       "      <td>74.80</td>\n",
       "      <td>73.9</td>\n",
       "      <td>156300</td>\n",
       "      <td>11621188.98</td>\n",
       "      <td>74.80</td>\n",
       "      <td>75.16</td>\n",
       "      <td>72.38</td>\n",
       "      <td>74.3518</td>\n",
       "    </tr>\n",
       "    <tr>\n",
       "      <th>1</th>\n",
       "      <td>ANA</td>\n",
       "      <td>2019-01-03</td>\n",
       "      <td>76.34</td>\n",
       "      <td>74.8</td>\n",
       "      <td>140331</td>\n",
       "      <td>10632703.64</td>\n",
       "      <td>76.34</td>\n",
       "      <td>76.60</td>\n",
       "      <td>74.54</td>\n",
       "      <td>75.7687</td>\n",
       "    </tr>\n",
       "  </tbody>\n",
       "</table>\n",
       "</div>"
      ],
      "text/plain": [
       "  Ticker      Fecha  Cierre  Referencia  Volumen     Rotacion  Ultimo   Alto  \\\n",
       "0    ANA 2019-01-02   74.80        73.9   156300  11621188.98   74.80  75.16   \n",
       "1    ANA 2019-01-03   76.34        74.8   140331  10632703.64   76.34  76.60   \n",
       "\n",
       "    Bajo  Promedio  \n",
       "0  72.38   74.3518  \n",
       "1  74.54   75.7687  "
      ]
     },
     "execution_count": 123,
     "metadata": {},
     "output_type": "execute_result"
    }
   ],
   "source": [
    "#cambiamos el formato de fecha\n",
    "mercado[\"Fecha\"]=pd.to_datetime(mercado[\"Fecha\"],format=\"%d/%m/%Y\")\n",
    "mercado.head(2)"
   ]
  },
  {
   "cell_type": "code",
   "execution_count": 125,
   "id": "8c61a1b0-58b9-4b04-bf73-ff0e1a0c5f62",
   "metadata": {},
   "outputs": [
    {
     "data": {
      "text/plain": [
       "Timestamp('2019-01-02 00:00:00')"
      ]
     },
     "execution_count": 125,
     "metadata": {},
     "output_type": "execute_result"
    }
   ],
   "source": [
    "mercado[\"Fecha\"][0] # tipo de dato "
   ]
  },
  {
   "cell_type": "code",
   "execution_count": 126,
   "id": "a8dd7eb3-0a3a-4fe2-b596-d33fb2012043",
   "metadata": {},
   "outputs": [
    {
     "data": {
      "text/plain": [
       "Timestamp('2019-03-05 00:00:00')"
      ]
     },
     "execution_count": 126,
     "metadata": {},
     "output_type": "execute_result"
    }
   ],
   "source": [
    "mercado[\"Fecha\"][44]"
   ]
  },
  {
   "cell_type": "code",
   "execution_count": 127,
   "id": "c40900c3-136d-460a-af01-16b06ec85a5d",
   "metadata": {},
   "outputs": [
    {
     "data": {
      "text/plain": [
       "2019"
      ]
     },
     "execution_count": 127,
     "metadata": {},
     "output_type": "execute_result"
    }
   ],
   "source": [
    "mercado[\"Fecha\"][17].year"
   ]
  },
  {
   "cell_type": "code",
   "execution_count": 129,
   "id": "cdac342a-f4d7-4931-a69f-4c03590f4698",
   "metadata": {},
   "outputs": [
    {
     "data": {
      "text/plain": [
       "1"
      ]
     },
     "execution_count": 129,
     "metadata": {},
     "output_type": "execute_result"
    }
   ],
   "source": [
    "mercado[\"Fecha\"][17].month"
   ]
  },
  {
   "cell_type": "code",
   "execution_count": 131,
   "id": "123d3fb3-c4ac-4a7d-97e7-18deb8aeb0d9",
   "metadata": {},
   "outputs": [
    {
     "data": {
      "text/html": [
       "<div>\n",
       "<style scoped>\n",
       "    .dataframe tbody tr th:only-of-type {\n",
       "        vertical-align: middle;\n",
       "    }\n",
       "\n",
       "    .dataframe tbody tr th {\n",
       "        vertical-align: top;\n",
       "    }\n",
       "\n",
       "    .dataframe thead th {\n",
       "        text-align: right;\n",
       "    }\n",
       "</style>\n",
       "<table border=\"1\" class=\"dataframe\">\n",
       "  <thead>\n",
       "    <tr style=\"text-align: right;\">\n",
       "      <th></th>\n",
       "      <th>Id_usuario</th>\n",
       "      <th>Genero</th>\n",
       "      <th>Edad</th>\n",
       "      <th>Salario_estimado</th>\n",
       "      <th>Comprado</th>\n",
       "    </tr>\n",
       "  </thead>\n",
       "  <tbody>\n",
       "    <tr>\n",
       "      <th>0</th>\n",
       "      <td>15624510</td>\n",
       "      <td>Masculino</td>\n",
       "      <td>19</td>\n",
       "      <td>19000</td>\n",
       "      <td>0</td>\n",
       "    </tr>\n",
       "    <tr>\n",
       "      <th>1</th>\n",
       "      <td>15810944</td>\n",
       "      <td>Masculino</td>\n",
       "      <td>35</td>\n",
       "      <td>20000</td>\n",
       "      <td>0</td>\n",
       "    </tr>\n",
       "  </tbody>\n",
       "</table>\n",
       "</div>"
      ],
      "text/plain": [
       "   Id_usuario     Genero  Edad  Salario_estimado  Comprado\n",
       "0    15624510  Masculino    19             19000         0\n",
       "1    15810944  Masculino    35             20000         0"
      ]
     },
     "execution_count": 131,
     "metadata": {},
     "output_type": "execute_result"
    }
   ],
   "source": [
    "#abrir un archivo excel\n",
    "e=pd.read_excel(\"Compras_desde_ads.xlsx\")\n",
    "e.head(2)"
   ]
  },
  {
   "cell_type": "code",
   "execution_count": 132,
   "id": "1fd1f404-4736-496e-9353-e80778d69d73",
   "metadata": {},
   "outputs": [
    {
     "data": {
      "text/html": [
       "<div>\n",
       "<style scoped>\n",
       "    .dataframe tbody tr th:only-of-type {\n",
       "        vertical-align: middle;\n",
       "    }\n",
       "\n",
       "    .dataframe tbody tr th {\n",
       "        vertical-align: top;\n",
       "    }\n",
       "\n",
       "    .dataframe thead th {\n",
       "        text-align: right;\n",
       "    }\n",
       "</style>\n",
       "<table border=\"1\" class=\"dataframe\">\n",
       "  <thead>\n",
       "    <tr style=\"text-align: right;\">\n",
       "      <th></th>\n",
       "      <th>date</th>\n",
       "      <th>closingValue</th>\n",
       "    </tr>\n",
       "  </thead>\n",
       "  <tbody>\n",
       "    <tr>\n",
       "      <th>0</th>\n",
       "      <td>01-05-2023</td>\n",
       "      <td>25,05</td>\n",
       "    </tr>\n",
       "    <tr>\n",
       "      <th>1</th>\n",
       "      <td>02-05-2023</td>\n",
       "      <td>24,45</td>\n",
       "    </tr>\n",
       "  </tbody>\n",
       "</table>\n",
       "</div>"
      ],
      "text/plain": [
       "         date closingValue\n",
       "0  01-05-2023        25,05\n",
       "1  02-05-2023        24,45"
      ]
     },
     "execution_count": 132,
     "metadata": {},
     "output_type": "execute_result"
    }
   ],
   "source": [
    "#abrir un archivo xml\n",
    "x=pd.read_xml(\"Valores+de+acciones.xml\")\n",
    "x.head(2)"
   ]
  },
  {
   "cell_type": "code",
   "execution_count": 134,
   "id": "4ea0f040-2d41-413f-aa14-7a217f9c6455",
   "metadata": {},
   "outputs": [
    {
     "data": {
      "text/html": [
       "<div>\n",
       "<style scoped>\n",
       "    .dataframe tbody tr th:only-of-type {\n",
       "        vertical-align: middle;\n",
       "    }\n",
       "\n",
       "    .dataframe tbody tr th {\n",
       "        vertical-align: top;\n",
       "    }\n",
       "\n",
       "    .dataframe thead th {\n",
       "        text-align: right;\n",
       "    }\n",
       "</style>\n",
       "<table border=\"1\" class=\"dataframe\">\n",
       "  <thead>\n",
       "    <tr style=\"text-align: right;\">\n",
       "      <th></th>\n",
       "      <th>col1</th>\n",
       "      <th>col2</th>\n",
       "      <th>col3</th>\n",
       "    </tr>\n",
       "  </thead>\n",
       "  <tbody>\n",
       "    <tr>\n",
       "      <th>fila1</th>\n",
       "      <td>100</td>\n",
       "      <td>400</td>\n",
       "      <td>700</td>\n",
       "    </tr>\n",
       "    <tr>\n",
       "      <th>fila2</th>\n",
       "      <td>200</td>\n",
       "      <td>500</td>\n",
       "      <td>800</td>\n",
       "    </tr>\n",
       "    <tr>\n",
       "      <th>fila3</th>\n",
       "      <td>300</td>\n",
       "      <td>600</td>\n",
       "      <td>900</td>\n",
       "    </tr>\n",
       "  </tbody>\n",
       "</table>\n",
       "</div>"
      ],
      "text/plain": [
       "       col1  col2  col3\n",
       "fila1   100   400   700\n",
       "fila2   200   500   800\n",
       "fila3   300   600   900"
      ]
     },
     "execution_count": 134,
     "metadata": {},
     "output_type": "execute_result"
    }
   ],
   "source": [
    "#metodos loc selecciona filas y columnas\n",
    "l=pd.DataFrame({\"col1\":[100,200,300],\"col2\":[400,500,600],\"col3\":[700,800,900]},\n",
    "index=[\"fila1\",\"fila2\", \"fila3\"])\n",
    "l"
   ]
  },
  {
   "cell_type": "code",
   "execution_count": 135,
   "id": "45ea3a85-193e-410a-b2f3-b7cddf28bdf0",
   "metadata": {},
   "outputs": [
    {
     "data": {
      "text/plain": [
       "col1    100\n",
       "col2    400\n",
       "col3    700\n",
       "Name: fila1, dtype: int64"
      ]
     },
     "execution_count": 135,
     "metadata": {},
     "output_type": "execute_result"
    }
   ],
   "source": [
    "l.loc[\"fila1\"]"
   ]
  },
  {
   "cell_type": "code",
   "execution_count": 136,
   "id": "853c6fda-869b-4d94-9627-6866e0077239",
   "metadata": {},
   "outputs": [
    {
     "data": {
      "text/html": [
       "<div>\n",
       "<style scoped>\n",
       "    .dataframe tbody tr th:only-of-type {\n",
       "        vertical-align: middle;\n",
       "    }\n",
       "\n",
       "    .dataframe tbody tr th {\n",
       "        vertical-align: top;\n",
       "    }\n",
       "\n",
       "    .dataframe thead th {\n",
       "        text-align: right;\n",
       "    }\n",
       "</style>\n",
       "<table border=\"1\" class=\"dataframe\">\n",
       "  <thead>\n",
       "    <tr style=\"text-align: right;\">\n",
       "      <th></th>\n",
       "      <th>col1</th>\n",
       "      <th>col2</th>\n",
       "      <th>col3</th>\n",
       "    </tr>\n",
       "  </thead>\n",
       "  <tbody>\n",
       "    <tr>\n",
       "      <th>fila1</th>\n",
       "      <td>100</td>\n",
       "      <td>400</td>\n",
       "      <td>700</td>\n",
       "    </tr>\n",
       "    <tr>\n",
       "      <th>fila3</th>\n",
       "      <td>300</td>\n",
       "      <td>600</td>\n",
       "      <td>900</td>\n",
       "    </tr>\n",
       "  </tbody>\n",
       "</table>\n",
       "</div>"
      ],
      "text/plain": [
       "       col1  col2  col3\n",
       "fila1   100   400   700\n",
       "fila3   300   600   900"
      ]
     },
     "execution_count": 136,
     "metadata": {},
     "output_type": "execute_result"
    }
   ],
   "source": [
    "l.loc[[\"fila1\", \"fila3\"]]"
   ]
  },
  {
   "cell_type": "code",
   "execution_count": 138,
   "id": "b295b02e-99bb-4ae6-af50-da39984d4ea9",
   "metadata": {},
   "outputs": [
    {
     "data": {
      "text/html": [
       "<div>\n",
       "<style scoped>\n",
       "    .dataframe tbody tr th:only-of-type {\n",
       "        vertical-align: middle;\n",
       "    }\n",
       "\n",
       "    .dataframe tbody tr th {\n",
       "        vertical-align: top;\n",
       "    }\n",
       "\n",
       "    .dataframe thead th {\n",
       "        text-align: right;\n",
       "    }\n",
       "</style>\n",
       "<table border=\"1\" class=\"dataframe\">\n",
       "  <thead>\n",
       "    <tr style=\"text-align: right;\">\n",
       "      <th></th>\n",
       "      <th>col1</th>\n",
       "      <th>col2</th>\n",
       "      <th>col3</th>\n",
       "    </tr>\n",
       "  </thead>\n",
       "  <tbody>\n",
       "    <tr>\n",
       "      <th>fila2</th>\n",
       "      <td>200</td>\n",
       "      <td>500</td>\n",
       "      <td>800</td>\n",
       "    </tr>\n",
       "    <tr>\n",
       "      <th>fila3</th>\n",
       "      <td>300</td>\n",
       "      <td>600</td>\n",
       "      <td>900</td>\n",
       "    </tr>\n",
       "  </tbody>\n",
       "</table>\n",
       "</div>"
      ],
      "text/plain": [
       "       col1  col2  col3\n",
       "fila2   200   500   800\n",
       "fila3   300   600   900"
      ]
     },
     "execution_count": 138,
     "metadata": {},
     "output_type": "execute_result"
    }
   ],
   "source": [
    "l.loc[l[\"col1\"] > 150] #valores mayores a 150"
   ]
  },
  {
   "cell_type": "code",
   "execution_count": 139,
   "id": "998344b8-f6f4-44db-a25d-306c63e86ce9",
   "metadata": {},
   "outputs": [
    {
     "data": {
      "text/plain": [
       "col1    100\n",
       "col2    400\n",
       "col3    700\n",
       "Name: fila1, dtype: int64"
      ]
     },
     "execution_count": 139,
     "metadata": {},
     "output_type": "execute_result"
    }
   ],
   "source": [
    "#iloc\n",
    "l.iloc[0]"
   ]
  },
  {
   "cell_type": "code",
   "execution_count": 140,
   "id": "f4a59619-da86-494f-afd8-7238ade9649a",
   "metadata": {},
   "outputs": [
    {
     "data": {
      "text/html": [
       "<div>\n",
       "<style scoped>\n",
       "    .dataframe tbody tr th:only-of-type {\n",
       "        vertical-align: middle;\n",
       "    }\n",
       "\n",
       "    .dataframe tbody tr th {\n",
       "        vertical-align: top;\n",
       "    }\n",
       "\n",
       "    .dataframe thead th {\n",
       "        text-align: right;\n",
       "    }\n",
       "</style>\n",
       "<table border=\"1\" class=\"dataframe\">\n",
       "  <thead>\n",
       "    <tr style=\"text-align: right;\">\n",
       "      <th></th>\n",
       "      <th>col1</th>\n",
       "      <th>col2</th>\n",
       "    </tr>\n",
       "  </thead>\n",
       "  <tbody>\n",
       "    <tr>\n",
       "      <th>fila1</th>\n",
       "      <td>100</td>\n",
       "      <td>400</td>\n",
       "    </tr>\n",
       "    <tr>\n",
       "      <th>fila2</th>\n",
       "      <td>200</td>\n",
       "      <td>500</td>\n",
       "    </tr>\n",
       "    <tr>\n",
       "      <th>fila3</th>\n",
       "      <td>300</td>\n",
       "      <td>600</td>\n",
       "    </tr>\n",
       "  </tbody>\n",
       "</table>\n",
       "</div>"
      ],
      "text/plain": [
       "       col1  col2\n",
       "fila1   100   400\n",
       "fila2   200   500\n",
       "fila3   300   600"
      ]
     },
     "execution_count": 140,
     "metadata": {},
     "output_type": "execute_result"
    }
   ],
   "source": [
    "l.iloc[:,[0,1]]"
   ]
  },
  {
   "cell_type": "code",
   "execution_count": 141,
   "id": "0e983bfb-f0ec-494e-a884-b032d1de8d93",
   "metadata": {},
   "outputs": [
    {
     "data": {
      "text/html": [
       "<div>\n",
       "<style scoped>\n",
       "    .dataframe tbody tr th:only-of-type {\n",
       "        vertical-align: middle;\n",
       "    }\n",
       "\n",
       "    .dataframe tbody tr th {\n",
       "        vertical-align: top;\n",
       "    }\n",
       "\n",
       "    .dataframe thead th {\n",
       "        text-align: right;\n",
       "    }\n",
       "</style>\n",
       "<table border=\"1\" class=\"dataframe\">\n",
       "  <thead>\n",
       "    <tr style=\"text-align: right;\">\n",
       "      <th></th>\n",
       "      <th>col1</th>\n",
       "      <th>col2</th>\n",
       "      <th>col3</th>\n",
       "    </tr>\n",
       "  </thead>\n",
       "  <tbody>\n",
       "    <tr>\n",
       "      <th>fila2</th>\n",
       "      <td>200</td>\n",
       "      <td>500</td>\n",
       "      <td>800</td>\n",
       "    </tr>\n",
       "    <tr>\n",
       "      <th>fila3</th>\n",
       "      <td>300</td>\n",
       "      <td>600</td>\n",
       "      <td>900</td>\n",
       "    </tr>\n",
       "  </tbody>\n",
       "</table>\n",
       "</div>"
      ],
      "text/plain": [
       "       col1  col2  col3\n",
       "fila2   200   500   800\n",
       "fila3   300   600   900"
      ]
     },
     "execution_count": 141,
     "metadata": {},
     "output_type": "execute_result"
    }
   ],
   "source": [
    "l.iloc[1:3]"
   ]
  },
  {
   "cell_type": "code",
   "execution_count": 142,
   "id": "bb9dd245-50a0-4f45-8496-bccef85e7177",
   "metadata": {},
   "outputs": [
    {
     "data": {
      "text/html": [
       "<div>\n",
       "<style scoped>\n",
       "    .dataframe tbody tr th:only-of-type {\n",
       "        vertical-align: middle;\n",
       "    }\n",
       "\n",
       "    .dataframe tbody tr th {\n",
       "        vertical-align: top;\n",
       "    }\n",
       "\n",
       "    .dataframe thead th {\n",
       "        text-align: right;\n",
       "    }\n",
       "</style>\n",
       "<table border=\"1\" class=\"dataframe\">\n",
       "  <thead>\n",
       "    <tr style=\"text-align: right;\">\n",
       "      <th></th>\n",
       "      <th>Fecha</th>\n",
       "      <th>Producto</th>\n",
       "      <th>Cantidad</th>\n",
       "      <th>Precio Unitario</th>\n",
       "      <th>Total Venta</th>\n",
       "    </tr>\n",
       "  </thead>\n",
       "  <tbody>\n",
       "    <tr>\n",
       "      <th>0</th>\n",
       "      <td>1/17/2023</td>\n",
       "      <td>Electrónic</td>\n",
       "      <td>7</td>\n",
       "      <td>200</td>\n",
       "      <td>1400</td>\n",
       "    </tr>\n",
       "    <tr>\n",
       "      <th>1</th>\n",
       "      <td>9/1/2023</td>\n",
       "      <td>Electrónic</td>\n",
       "      <td>8</td>\n",
       "      <td>200</td>\n",
       "      <td>1600</td>\n",
       "    </tr>\n",
       "  </tbody>\n",
       "</table>\n",
       "</div>"
      ],
      "text/plain": [
       "       Fecha    Producto  Cantidad  Precio Unitario  Total Venta\n",
       "0  1/17/2023  Electrónic         7              200         1400\n",
       "1   9/1/2023  Electrónic         8              200         1600"
      ]
     },
     "execution_count": 142,
     "metadata": {},
     "output_type": "execute_result"
    }
   ],
   "source": [
    "v=pd.read_csv(\"Datos_Ventas_Tienda.csv\")\n",
    "v.head(2)"
   ]
  },
  {
   "cell_type": "code",
   "execution_count": 143,
   "id": "5a361933-ae24-4173-8436-f7408d7ea9a5",
   "metadata": {},
   "outputs": [
    {
     "data": {
      "text/html": [
       "<div>\n",
       "<style scoped>\n",
       "    .dataframe tbody tr th:only-of-type {\n",
       "        vertical-align: middle;\n",
       "    }\n",
       "\n",
       "    .dataframe tbody tr th {\n",
       "        vertical-align: top;\n",
       "    }\n",
       "\n",
       "    .dataframe thead th {\n",
       "        text-align: right;\n",
       "    }\n",
       "</style>\n",
       "<table border=\"1\" class=\"dataframe\">\n",
       "  <thead>\n",
       "    <tr style=\"text-align: right;\">\n",
       "      <th></th>\n",
       "      <th>Fecha</th>\n",
       "      <th>Producto</th>\n",
       "      <th>Cantidad</th>\n",
       "      <th>Precio Unitario</th>\n",
       "      <th>Total Venta</th>\n",
       "    </tr>\n",
       "  </thead>\n",
       "  <tbody>\n",
       "    <tr>\n",
       "      <th>0</th>\n",
       "      <td>8/25/2023</td>\n",
       "      <td>Electrónic</td>\n",
       "      <td>5</td>\n",
       "      <td>200</td>\n",
       "      <td>1000</td>\n",
       "    </tr>\n",
       "    <tr>\n",
       "      <th>1</th>\n",
       "      <td>8/14/2023</td>\n",
       "      <td>Alimentos</td>\n",
       "      <td>9</td>\n",
       "      <td>10</td>\n",
       "      <td>90</td>\n",
       "    </tr>\n",
       "  </tbody>\n",
       "</table>\n",
       "</div>"
      ],
      "text/plain": [
       "       Fecha    Producto  Cantidad  Precio Unitario  Total Venta\n",
       "0  8/25/2023  Electrónic         5              200         1000\n",
       "1  8/14/2023   Alimentos         9               10           90"
      ]
     },
     "execution_count": 143,
     "metadata": {},
     "output_type": "execute_result"
    }
   ],
   "source": [
    "v1=pd.read_csv(\"Datos_Ventas_Tienda2.csv\")\n",
    "v1.head(2)"
   ]
  },
  {
   "cell_type": "code",
   "execution_count": 146,
   "id": "40b52383-8cbd-4c57-8999-928b67d38547",
   "metadata": {
    "scrolled": true
   },
   "outputs": [
    {
     "data": {
      "text/html": [
       "<div>\n",
       "<style scoped>\n",
       "    .dataframe tbody tr th:only-of-type {\n",
       "        vertical-align: middle;\n",
       "    }\n",
       "\n",
       "    .dataframe tbody tr th {\n",
       "        vertical-align: top;\n",
       "    }\n",
       "\n",
       "    .dataframe thead th {\n",
       "        text-align: right;\n",
       "    }\n",
       "</style>\n",
       "<table border=\"1\" class=\"dataframe\">\n",
       "  <thead>\n",
       "    <tr style=\"text-align: right;\">\n",
       "      <th></th>\n",
       "      <th>Fecha</th>\n",
       "      <th>Producto</th>\n",
       "      <th>Cantidad</th>\n",
       "      <th>Precio Unitario</th>\n",
       "      <th>Total Venta</th>\n",
       "    </tr>\n",
       "  </thead>\n",
       "  <tbody>\n",
       "    <tr>\n",
       "      <th>0</th>\n",
       "      <td>1/17/2023</td>\n",
       "      <td>Electrónic</td>\n",
       "      <td>7</td>\n",
       "      <td>200</td>\n",
       "      <td>1400</td>\n",
       "    </tr>\n",
       "    <tr>\n",
       "      <th>1</th>\n",
       "      <td>9/1/2023</td>\n",
       "      <td>Electrónic</td>\n",
       "      <td>8</td>\n",
       "      <td>200</td>\n",
       "      <td>1600</td>\n",
       "    </tr>\n",
       "  </tbody>\n",
       "</table>\n",
       "</div>"
      ],
      "text/plain": [
       "       Fecha    Producto  Cantidad  Precio Unitario  Total Venta\n",
       "0  1/17/2023  Electrónic         7              200         1400\n",
       "1   9/1/2023  Electrónic         8              200         1600"
      ]
     },
     "execution_count": 146,
     "metadata": {},
     "output_type": "execute_result"
    }
   ],
   "source": [
    "#unimos los 2 dataframes \n",
    "ventas=pd.concat([v,v1],ignore_index=True)\n",
    "ventas.head(2)"
   ]
  },
  {
   "cell_type": "code",
   "execution_count": 149,
   "id": "dcb644fe-e6ba-4ef3-b014-bd62fe2f6f6c",
   "metadata": {},
   "outputs": [
    {
     "data": {
      "text/html": [
       "<div>\n",
       "<style scoped>\n",
       "    .dataframe tbody tr th:only-of-type {\n",
       "        vertical-align: middle;\n",
       "    }\n",
       "\n",
       "    .dataframe tbody tr th {\n",
       "        vertical-align: top;\n",
       "    }\n",
       "\n",
       "    .dataframe thead th {\n",
       "        text-align: right;\n",
       "    }\n",
       "</style>\n",
       "<table border=\"1\" class=\"dataframe\">\n",
       "  <thead>\n",
       "    <tr style=\"text-align: right;\">\n",
       "      <th></th>\n",
       "      <th>Fecha</th>\n",
       "      <th>Producto</th>\n",
       "      <th>Cantidad</th>\n",
       "      <th>Precio Unitario</th>\n",
       "      <th>Total Venta</th>\n",
       "    </tr>\n",
       "  </thead>\n",
       "  <tbody>\n",
       "    <tr>\n",
       "      <th>0</th>\n",
       "      <td>2023-01-17</td>\n",
       "      <td>Electrónic</td>\n",
       "      <td>7</td>\n",
       "      <td>200</td>\n",
       "      <td>1400</td>\n",
       "    </tr>\n",
       "    <tr>\n",
       "      <th>1</th>\n",
       "      <td>2023-09-01</td>\n",
       "      <td>Electrónic</td>\n",
       "      <td>8</td>\n",
       "      <td>200</td>\n",
       "      <td>1600</td>\n",
       "    </tr>\n",
       "  </tbody>\n",
       "</table>\n",
       "</div>"
      ],
      "text/plain": [
       "       Fecha    Producto  Cantidad  Precio Unitario  Total Venta\n",
       "0 2023-01-17  Electrónic         7              200         1400\n",
       "1 2023-09-01  Electrónic         8              200         1600"
      ]
     },
     "execution_count": 149,
     "metadata": {},
     "output_type": "execute_result"
    }
   ],
   "source": [
    "#cambiamos el formato de fechas \n",
    "ventas[\"Fecha\"]=pd.to_datetime(ventas[\"Fecha\"])\n",
    "ventas.head(2)"
   ]
  },
  {
   "cell_type": "code",
   "execution_count": 150,
   "id": "cbbb73c3-533a-4447-815c-3baebfda2114",
   "metadata": {},
   "outputs": [
    {
     "name": "stdout",
     "output_type": "stream",
     "text": [
      "<class 'pandas.core.frame.DataFrame'>\n",
      "RangeIndex: 1050 entries, 0 to 1049\n",
      "Data columns (total 5 columns):\n",
      " #   Column           Non-Null Count  Dtype         \n",
      "---  ------           --------------  -----         \n",
      " 0   Fecha            1050 non-null   datetime64[ns]\n",
      " 1   Producto         1050 non-null   object        \n",
      " 2   Cantidad         1050 non-null   int64         \n",
      " 3   Precio Unitario  1050 non-null   int64         \n",
      " 4   Total Venta      1050 non-null   int64         \n",
      "dtypes: datetime64[ns](1), int64(3), object(1)\n",
      "memory usage: 41.1+ KB\n"
     ]
    }
   ],
   "source": [
    "ventas.info()"
   ]
  },
  {
   "cell_type": "code",
   "execution_count": 152,
   "id": "68964acb-97a2-4bdd-b8a2-46bb19c97d81",
   "metadata": {},
   "outputs": [
    {
     "data": {
      "text/plain": [
       "Producto\n",
       "Alimentos    1262\n",
       "Name: Cantidad, dtype: int64"
      ]
     },
     "execution_count": 152,
     "metadata": {},
     "output_type": "execute_result"
    }
   ],
   "source": [
    "#producto mas vendido \n",
    "p_mas_vendido = ventas.groupby(\"Producto\")[\"Cantidad\"].sum()\n",
    "p_mas_vendido = p_mas_vendido.sort_values(ascending=False)\n",
    "p_mas_vendido.head(1)"
   ]
  },
  {
   "cell_type": "code",
   "execution_count": 155,
   "id": "0b958fe1-7299-4cea-9760-46bda4d4389b",
   "metadata": {},
   "outputs": [
    {
     "data": {
      "text/html": [
       "<div>\n",
       "<style scoped>\n",
       "    .dataframe tbody tr th:only-of-type {\n",
       "        vertical-align: middle;\n",
       "    }\n",
       "\n",
       "    .dataframe tbody tr th {\n",
       "        vertical-align: top;\n",
       "    }\n",
       "\n",
       "    .dataframe thead th {\n",
       "        text-align: right;\n",
       "    }\n",
       "</style>\n",
       "<table border=\"1\" class=\"dataframe\">\n",
       "  <thead>\n",
       "    <tr style=\"text-align: right;\">\n",
       "      <th></th>\n",
       "      <th>Fecha</th>\n",
       "      <th>Producto</th>\n",
       "      <th>Cantidad</th>\n",
       "      <th>Precio Unitario</th>\n",
       "      <th>Total Venta</th>\n",
       "      <th>Meses</th>\n",
       "    </tr>\n",
       "  </thead>\n",
       "  <tbody>\n",
       "    <tr>\n",
       "      <th>0</th>\n",
       "      <td>2023-01-17</td>\n",
       "      <td>Electrónic</td>\n",
       "      <td>7</td>\n",
       "      <td>200</td>\n",
       "      <td>1400</td>\n",
       "      <td>1</td>\n",
       "    </tr>\n",
       "    <tr>\n",
       "      <th>1</th>\n",
       "      <td>2023-09-01</td>\n",
       "      <td>Electrónic</td>\n",
       "      <td>8</td>\n",
       "      <td>200</td>\n",
       "      <td>1600</td>\n",
       "      <td>9</td>\n",
       "    </tr>\n",
       "  </tbody>\n",
       "</table>\n",
       "</div>"
      ],
      "text/plain": [
       "       Fecha    Producto  Cantidad  Precio Unitario  Total Venta  Meses\n",
       "0 2023-01-17  Electrónic         7              200         1400      1\n",
       "1 2023-09-01  Electrónic         8              200         1600      9"
      ]
     },
     "execution_count": 155,
     "metadata": {},
     "output_type": "execute_result"
    }
   ],
   "source": [
    "#cual ha sido el mes de mas ventas \n",
    "#para eso tenemos que crear una columna nueva \n",
    "meses =[]\n",
    "for f in ventas[\"Fecha\"]:\n",
    "    meses.append(f.month)\n",
    "ventas[\"Meses\"]=meses\n",
    "ventas.head(2)"
   ]
  },
  {
   "cell_type": "code",
   "execution_count": 156,
   "id": "73df25a0-9d15-42e6-80b8-a2bdd585308d",
   "metadata": {},
   "outputs": [
    {
     "data": {
      "text/plain": [
       "Meses\n",
       "8    45090\n",
       "Name: Total Venta, dtype: int64"
      ]
     },
     "execution_count": 156,
     "metadata": {},
     "output_type": "execute_result"
    }
   ],
   "source": [
    "#meses con mas ventas \n",
    "ventas_mes = ventas.groupby(\"Meses\")[\"Total Venta\"].sum().sort_values(ascending=False)\n",
    "ventas_mes.head(1)"
   ]
  },
  {
   "cell_type": "code",
   "execution_count": 158,
   "id": "ba408be1-820f-48e0-9d7d-c53b69c07a73",
   "metadata": {},
   "outputs": [
    {
     "data": {
      "text/plain": [
       "Producto\n",
       "Alimentos      12620\n",
       "Electrónic    244000\n",
       "Juguetes       33390\n",
       "Libros         20840\n",
       "Ropa           56400\n",
       "Name: Total Venta, dtype: int64"
      ]
     },
     "execution_count": 158,
     "metadata": {},
     "output_type": "execute_result"
    }
   ],
   "source": [
    "ventas_categoria = ventas.groupby(\"Producto\")[\"Total Venta\"].sum()\n",
    "ventas_categoria.head(5)"
   ]
  },
  {
   "cell_type": "code",
   "execution_count": 159,
   "id": "e37e0aec-01e5-418b-ac84-8e1524cb341b",
   "metadata": {},
   "outputs": [],
   "source": [
    "#guardamos el archivo en formato csv\n",
    "ventas.to_csv(\"resumen_ventas.csv\")"
   ]
  },
  {
   "cell_type": "code",
   "execution_count": null,
   "id": "7e33275c-b538-456b-b4ad-ae49e6002e9a",
   "metadata": {},
   "outputs": [],
   "source": []
  },
  {
   "cell_type": "code",
   "execution_count": null,
   "id": "3f945594-37e4-4260-9351-4baec78c5ece",
   "metadata": {},
   "outputs": [],
   "source": []
  },
  {
   "cell_type": "code",
   "execution_count": null,
   "id": "09354a19-01a6-46d1-ae55-b2e08d7e90ed",
   "metadata": {},
   "outputs": [],
   "source": []
  }
 ],
 "metadata": {
  "kernelspec": {
   "display_name": "Python 3 (ipykernel)",
   "language": "python",
   "name": "python3"
  },
  "language_info": {
   "codemirror_mode": {
    "name": "ipython",
    "version": 3
   },
   "file_extension": ".py",
   "mimetype": "text/x-python",
   "name": "python",
   "nbconvert_exporter": "python",
   "pygments_lexer": "ipython3",
   "version": "3.12.4"
  }
 },
 "nbformat": 4,
 "nbformat_minor": 5
}
