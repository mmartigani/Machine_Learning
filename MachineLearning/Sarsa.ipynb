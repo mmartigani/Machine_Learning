{
 "cells": [
  {
   "cell_type": "code",
   "execution_count": 1,
   "id": "f2be18f2-1f89-4dd9-adf7-ea7b22449af9",
   "metadata": {},
   "outputs": [],
   "source": [
    "import pandas as pd \n",
    "import numpy as np \n",
    "import time\n",
    "import random\n",
    "import matplotlib.pyplot as plt\n",
    "%matplotlib inline \n",
    "#permite que le coloquemos ; en vez de show()\n",
    "import seaborn as sns \n",
    "from sklearn import linear_model\n",
    "from sklearn.linear_model import LogisticRegression , LinearRegression\n",
    "from sklearn.model_selection import train_test_split\n",
    "from sklearn.preprocessing import LabelEncoder, MinMaxScaler\n",
    "from sklearn.tree import DecisionTreeClassifier, plot_tree, DecisionTreeRegressor\n",
    "from sklearn.ensemble import RandomForestClassifier,RandomForestRegressor\n",
    "from sklearn.cluster import KMeans\n",
    "from sklearn.datasets import load_iris\n",
    "from sklearn.decomposition import PCA\n",
    "from scipy.cluster.hierarchy import dendrogram, linkage"
   ]
  },
  {
   "cell_type": "code",
   "execution_count": 4,
   "id": "f1616b7c-aa2c-4038-9ad1-97b529fbf747",
   "metadata": {},
   "outputs": [],
   "source": [
    "dimensiones = (4,4)\n",
    "estado_inicial =(0,0)\n",
    "estado_objetivo = (3,3)\n",
    "acciones = [(0,-1),(0,1),(-1,0),(1,0)]\n",
    "acciones_simbolos = ['↑','↓','←','→']\n",
    "num_estados = dimensiones[0]*dimensiones[1]\n",
    "num_acciones = len(acciones)\n",
    "Q=np.zeros((num_estados,num_acciones))\n",
    "alpha = 0.1\n",
    "gamma =0.99\n",
    "epsilon=0.2\n",
    "episodios = 1000\n",
    "def estado_a_indice(estado):\n",
    "    return estado[0]*dimensiones[1]+estado[1]\n",
    "\n",
    "def elegir_accion(estado):\n",
    "    if random.uniform(0,1) < epsilon:\n",
    "        return random.randint(0,num_acciones-1)\n",
    "    else:\n",
    "        return np.argmax(Q[estado_a_indice(estado)])\n",
    "\n",
    "def aplicar_accion(estado, accion_idx):\n",
    "    accion = acciones[accion_idx]\n",
    "    nuevo_estado = tuple(np.add(estado, accion)%np.array(dimensiones))\n",
    "    if nuevo_estado == estado_objetivo:\n",
    "        recompensa = 1\n",
    "    else:\n",
    "        recompensa = -1\n",
    "    return nuevo_estado, recompensa, nuevo_estado == estado_objetivo\n",
    "    \n",
    "    "
   ]
  },
  {
   "cell_type": "code",
   "execution_count": 5,
   "id": "bfdcae05-a56b-4ac5-929e-260bd6ca2adb",
   "metadata": {},
   "outputs": [],
   "source": [
    "for episodio in range(episodios):\n",
    "    estado = estado_inicial\n",
    "    accion_idx = elegir_accion(estado)\n",
    "    terminado = False\n",
    "    while not terminado:\n",
    "        nuevo_estado, recompensa, terminado = aplicar_accion(estado, accion_idx)\n",
    "        nueva_accion_idx = elegir_accion(nuevo_estado)\n",
    "        indice = estado_a_indice(estado)\n",
    "        Q[indice, accion_idx]+alpha*(recompensa+gamma*Q[estado_a_indice(nuevo_estado),nueva_accion_idx]-Q[indice, accion_idx])\n",
    "        estado , accion_idx= nuevo_estado,nueva_accion_idx"
   ]
  },
  {
   "cell_type": "code",
   "execution_count": 6,
   "id": "7f397e1b-aaab-4e8a-8507-d373c41fae3d",
   "metadata": {},
   "outputs": [],
   "source": [
    "politica_simbolos = np.empty(dimensiones,dtype='<U2')"
   ]
  },
  {
   "cell_type": "code",
   "execution_count": 9,
   "id": "2e65ddf0-b755-4373-8a7f-a92483face69",
   "metadata": {},
   "outputs": [
    {
     "data": {
      "text/plain": [
       "array([['↑', '↑', '↑', '↑'],\n",
       "       ['↑', '↑', '↑', '↑'],\n",
       "       ['↑', '↑', '↑', '↑'],\n",
       "       ['↑', '↑', '↑', '↑']], dtype='<U2')"
      ]
     },
     "execution_count": 9,
     "metadata": {},
     "output_type": "execute_result"
    }
   ],
   "source": [
    "for i in range(dimensiones[0]):\n",
    "    for j in range(dimensiones[1]):\n",
    "        estado=(i,j)\n",
    "        mejor_accion =np.argmax(Q[estado_a_indice(estado)])\n",
    "        politica_simbolos[i,j] = acciones_simbolos[mejor_accion]\n",
    "\n",
    "politica_simbolos"
   ]
  },
  {
   "cell_type": "code",
   "execution_count": null,
   "id": "613e86b4-d93d-4547-bf51-df9b1acdd673",
   "metadata": {},
   "outputs": [],
   "source": []
  }
 ],
 "metadata": {
  "kernelspec": {
   "display_name": "Python 3 (ipykernel)",
   "language": "python",
   "name": "python3"
  },
  "language_info": {
   "codemirror_mode": {
    "name": "ipython",
    "version": 3
   },
   "file_extension": ".py",
   "mimetype": "text/x-python",
   "name": "python",
   "nbconvert_exporter": "python",
   "pygments_lexer": "ipython3",
   "version": "3.12.4"
  }
 },
 "nbformat": 4,
 "nbformat_minor": 5
}
