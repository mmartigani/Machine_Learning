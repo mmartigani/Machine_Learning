{
 "cells": [
  {
   "cell_type": "code",
   "execution_count": 11,
   "id": "021c0b09-b804-404d-b3cc-4c4267fe2a5a",
   "metadata": {},
   "outputs": [],
   "source": [
    "import pandas as pd\n",
    "import numpy as np\n",
    "import time"
   ]
  },
  {
   "cell_type": "code",
   "execution_count": 2,
   "id": "00403ecf-b9e9-4ccf-b629-a2163de2f9b3",
   "metadata": {},
   "outputs": [
    {
     "data": {
      "text/html": [
       "<div>\n",
       "<style scoped>\n",
       "    .dataframe tbody tr th:only-of-type {\n",
       "        vertical-align: middle;\n",
       "    }\n",
       "\n",
       "    .dataframe tbody tr th {\n",
       "        vertical-align: top;\n",
       "    }\n",
       "\n",
       "    .dataframe thead th {\n",
       "        text-align: right;\n",
       "    }\n",
       "</style>\n",
       "<table border=\"1\" class=\"dataframe\">\n",
       "  <thead>\n",
       "    <tr style=\"text-align: right;\">\n",
       "      <th></th>\n",
       "      <th>Ciudad</th>\n",
       "      <th>País</th>\n",
       "      <th>Población</th>\n",
       "      <th>Visitantes</th>\n",
       "    </tr>\n",
       "  </thead>\n",
       "  <tbody>\n",
       "    <tr>\n",
       "      <th>0</th>\n",
       "      <td>Ciudad de México</td>\n",
       "      <td>México</td>\n",
       "      <td>9265833</td>\n",
       "      <td>21000000</td>\n",
       "    </tr>\n",
       "    <tr>\n",
       "      <th>1</th>\n",
       "      <td>Buenos Aires</td>\n",
       "      <td>Argentina</td>\n",
       "      <td>3059574</td>\n",
       "      <td>15000000</td>\n",
       "    </tr>\n",
       "  </tbody>\n",
       "</table>\n",
       "</div>"
      ],
      "text/plain": [
       "             Ciudad       País  Población  Visitantes\n",
       "0  Ciudad de México     México    9265833    21000000\n",
       "1      Buenos Aires  Argentina    3059574    15000000"
      ]
     },
     "execution_count": 2,
     "metadata": {},
     "output_type": "execute_result"
    }
   ],
   "source": [
    "r=pd.read_csv(\"Ciudades_Visitadas_Latinoamerica_2023.csv\")\n",
    "r.head(2)"
   ]
  },
  {
   "cell_type": "code",
   "execution_count": 4,
   "id": "3aeee9f0-752e-4fd5-ace1-32ab7ec3a73d",
   "metadata": {},
   "outputs": [
    {
     "data": {
      "text/plain": [
       "5863277.0"
      ]
     },
     "execution_count": 4,
     "metadata": {},
     "output_type": "execute_result"
    }
   ],
   "source": [
    "np.round(r['Población'].mean())"
   ]
  },
  {
   "cell_type": "code",
   "execution_count": 5,
   "id": "6322e97a-fe06-4b88-9bed-bc60330cb2ec",
   "metadata": {},
   "outputs": [
    {
     "data": {
      "text/plain": [
       "3000000"
      ]
     },
     "execution_count": 5,
     "metadata": {},
     "output_type": "execute_result"
    }
   ],
   "source": [
    "np.min(r['Visitantes'])"
   ]
  },
  {
   "cell_type": "code",
   "execution_count": 6,
   "id": "1276608d-6fa7-4c8e-a78d-59ae2f26d97e",
   "metadata": {},
   "outputs": [
    {
     "data": {
      "text/plain": [
       "21000000"
      ]
     },
     "execution_count": 6,
     "metadata": {},
     "output_type": "execute_result"
    }
   ],
   "source": [
    "np.max(r['Visitantes'])"
   ]
  },
  {
   "cell_type": "code",
   "execution_count": 7,
   "id": "d68f3d17-c4df-41f6-8b83-25315a70f07a",
   "metadata": {},
   "outputs": [
    {
     "data": {
      "text/plain": [
       "array([1, 2, 3, 4, 5])"
      ]
     },
     "execution_count": 7,
     "metadata": {},
     "output_type": "execute_result"
    }
   ],
   "source": [
    "mi_array= np.array([1,2,3,4,5])\n",
    "mi_array"
   ]
  },
  {
   "cell_type": "code",
   "execution_count": 8,
   "id": "c4c9989d-dff9-4ac7-92f3-c15679dd2097",
   "metadata": {},
   "outputs": [],
   "source": [
    "lista_grande = list(range(1000000)) # una lista de 1 millon de elementos\n",
    "array_grande = np.array(lista_grande) # un array con 1 millon de elementos"
   ]
  },
  {
   "cell_type": "code",
   "execution_count": 12,
   "id": "bf9e6b02-35db-42d6-afeb-6290ca385430",
   "metadata": {},
   "outputs": [
    {
     "name": "stdout",
     "output_type": "stream",
     "text": [
      "tiempo lista : 0.2859976291656494\n"
     ]
    }
   ],
   "source": [
    "#para crear una marca de tiempo\n",
    "inicio_lista = time.time()\n",
    "for i in lista_grande:\n",
    "    i ** 2\n",
    "fin_lista= time.time()\n",
    "print(\"tiempo lista :\",fin_lista - inicio_lista)"
   ]
  },
  {
   "cell_type": "code",
   "execution_count": 14,
   "id": "624913f3-4e95-4493-9807-2dda0d511099",
   "metadata": {},
   "outputs": [
    {
     "name": "stdout",
     "output_type": "stream",
     "text": [
      "tiempo array :  0.01700115203857422\n"
     ]
    }
   ],
   "source": [
    "inicio_array = time.time()\n",
    "array_grande ** 2\n",
    "fin_array =time.time()\n",
    "print(\"tiempo array : \", fin_array -inicio_array)"
   ]
  },
  {
   "cell_type": "code",
   "execution_count": 16,
   "id": "0b0d18ee-fe08-44cc-b09f-ece0a9311d07",
   "metadata": {},
   "outputs": [
    {
     "data": {
      "text/plain": [
       "3"
      ]
     },
     "execution_count": 16,
     "metadata": {},
     "output_type": "execute_result"
    }
   ],
   "source": [
    "array = np.array([1,2,3]) # una sola dimension \n",
    "len(array)"
   ]
  },
  {
   "cell_type": "code",
   "execution_count": 30,
   "id": "01ad10e1-ea6f-41de-9c94-800b19e77e1b",
   "metadata": {},
   "outputs": [
    {
     "data": {
      "text/plain": [
       "array([[1, 2, 3],\n",
       "       [4, 5, 6],\n",
       "       [7, 8, 9]])"
      ]
     },
     "execution_count": 30,
     "metadata": {},
     "output_type": "execute_result"
    }
   ],
   "source": [
    "array_2d= np.array([[1,2,3],[4,5,6],[7,8,9]])\n",
    "array_2d  #array bidemensionales"
   ]
  },
  {
   "cell_type": "code",
   "execution_count": 21,
   "id": "1afbe858-4a66-4df2-afaa-dea6b32f0caf",
   "metadata": {},
   "outputs": [
    {
     "data": {
      "text/plain": [
       "2"
      ]
     },
     "execution_count": 21,
     "metadata": {},
     "output_type": "execute_result"
    }
   ],
   "source": [
    "len(array_2d)"
   ]
  },
  {
   "cell_type": "code",
   "execution_count": 23,
   "id": "4c34a526-6712-41ac-8f53-e3ebcc623843",
   "metadata": {},
   "outputs": [
    {
     "data": {
      "text/plain": [
       "array([1, 2, 3, 4, 5, 6, 7, 8, 9])"
      ]
     },
     "execution_count": 23,
     "metadata": {},
     "output_type": "execute_result"
    }
   ],
   "source": [
    "#concatenar array\n",
    "x=[1,2,3]\n",
    "y=[4,5,6]\n",
    "z=[7,8,9]\n",
    "np.concatenate([x,y,z])"
   ]
  },
  {
   "cell_type": "code",
   "execution_count": 27,
   "id": "986c0419-962c-4143-b692-e6a67d86514d",
   "metadata": {},
   "outputs": [
    {
     "data": {
      "text/plain": [
       "array([[1, 2, 5, 6],\n",
       "       [3, 4, 7, 8]])"
      ]
     },
     "execution_count": 27,
     "metadata": {},
     "output_type": "execute_result"
    }
   ],
   "source": [
    "a=[[1,2],[3,4]]\n",
    "b=[[5,6],[7,8]]\n",
    "np.concatenate([a,b], axis=1)"
   ]
  },
  {
   "cell_type": "code",
   "execution_count": 28,
   "id": "2267e8bf-1a75-40e2-9d46-632a0b0045ff",
   "metadata": {},
   "outputs": [
    {
     "data": {
      "text/plain": [
       "array([[1, 2],\n",
       "       [3, 4],\n",
       "       [5, 6],\n",
       "       [7, 8]])"
      ]
     },
     "execution_count": 28,
     "metadata": {},
     "output_type": "execute_result"
    }
   ],
   "source": [
    "a=[[1,2],[3,4]]\n",
    "b=[[5,6],[7,8]]\n",
    "np.concatenate([a,b], axis=0)"
   ]
  },
  {
   "cell_type": "code",
   "execution_count": 29,
   "id": "7e3d4d5c-f9eb-4459-9c42-725f65112e57",
   "metadata": {},
   "outputs": [
    {
     "data": {
      "text/plain": [
       "(4, 2)"
      ]
     },
     "execution_count": 29,
     "metadata": {},
     "output_type": "execute_result"
    }
   ],
   "source": [
    "array_con=np.concatenate([a,b], axis=0)\n",
    "array_con.shape"
   ]
  },
  {
   "cell_type": "code",
   "execution_count": 34,
   "id": "5cdf2168-801c-4143-afc3-3c8478594123",
   "metadata": {},
   "outputs": [
    {
     "data": {
      "text/plain": [
       "1"
      ]
     },
     "execution_count": 34,
     "metadata": {},
     "output_type": "execute_result"
    }
   ],
   "source": [
    "#indexaciones \n",
    "array[0]"
   ]
  },
  {
   "cell_type": "code",
   "execution_count": 32,
   "id": "188ce4a2-7673-4d40-a703-c6f25d7e49f2",
   "metadata": {},
   "outputs": [
    {
     "data": {
      "text/plain": [
       "array([1, 2, 3])"
      ]
     },
     "execution_count": 32,
     "metadata": {},
     "output_type": "execute_result"
    }
   ],
   "source": [
    "array_2d[0] #obtengo la fila "
   ]
  },
  {
   "cell_type": "code",
   "execution_count": 33,
   "id": "48317582-46e8-4c35-80c5-eeb4b0b46b27",
   "metadata": {},
   "outputs": [
    {
     "data": {
      "text/plain": [
       "6"
      ]
     },
     "execution_count": 33,
     "metadata": {},
     "output_type": "execute_result"
    }
   ],
   "source": [
    "array_2d[1][2]"
   ]
  },
  {
   "cell_type": "code",
   "execution_count": 35,
   "id": "2b8011bc-0799-4ce2-a33d-225f914d0790",
   "metadata": {},
   "outputs": [
    {
     "data": {
      "text/plain": [
       "array([2, 3])"
      ]
     },
     "execution_count": 35,
     "metadata": {},
     "output_type": "execute_result"
    }
   ],
   "source": [
    "#slicing \n",
    "array[1:4]"
   ]
  },
  {
   "cell_type": "code",
   "execution_count": 36,
   "id": "1afef16b-7228-4a0b-b6c9-df990a7b7675",
   "metadata": {},
   "outputs": [
    {
     "data": {
      "text/plain": [
       "array([4, 5, 6])"
      ]
     },
     "execution_count": 36,
     "metadata": {},
     "output_type": "execute_result"
    }
   ],
   "source": [
    "array_2d[1,:] #fila completa "
   ]
  },
  {
   "cell_type": "code",
   "execution_count": 37,
   "id": "7c6a0d8c-7e4f-4197-9289-2b05b916809e",
   "metadata": {},
   "outputs": [
    {
     "data": {
      "text/plain": [
       "array([5, 6])"
      ]
     },
     "execution_count": 37,
     "metadata": {},
     "output_type": "execute_result"
    }
   ],
   "source": [
    "array_2d[1, 1:3]"
   ]
  },
  {
   "cell_type": "code",
   "execution_count": 38,
   "id": "248063bf-2eb0-43c0-b3ca-7e4c7fb6edfa",
   "metadata": {},
   "outputs": [
    {
     "data": {
      "text/plain": [
       "array([2, 5, 8])"
      ]
     },
     "execution_count": 38,
     "metadata": {},
     "output_type": "execute_result"
    }
   ],
   "source": [
    "array_2d[:, 1] # todo pero de el primero"
   ]
  },
  {
   "cell_type": "code",
   "execution_count": 40,
   "id": "5839013c-322c-4c66-965f-16bc0ee6c05e",
   "metadata": {},
   "outputs": [
    {
     "data": {
      "text/plain": [
       "array([1, 2, 3, 4, 5, 6, 7, 8, 9])"
      ]
     },
     "execution_count": 40,
     "metadata": {},
     "output_type": "execute_result"
    }
   ],
   "source": [
    "#modicamos la forma del array\n",
    "a = np.array([1,2,3,4,5,6,7,8,9])\n",
    "a"
   ]
  },
  {
   "cell_type": "code",
   "execution_count": 42,
   "id": "6760e457-2557-4c6f-bcfa-a0ce56464330",
   "metadata": {},
   "outputs": [
    {
     "data": {
      "text/plain": [
       "array([[1, 2, 3],\n",
       "       [4, 5, 6],\n",
       "       [7, 8, 9]])"
      ]
     },
     "execution_count": 42,
     "metadata": {},
     "output_type": "execute_result"
    }
   ],
   "source": [
    "a_mod = a.reshape(3,3)\n",
    "a_mod"
   ]
  },
  {
   "cell_type": "code",
   "execution_count": 44,
   "id": "408cc2a0-48f2-4717-bca6-d2af43a4124a",
   "metadata": {},
   "outputs": [
    {
     "data": {
      "text/plain": [
       "array([[1, 4, 7],\n",
       "       [2, 5, 8],\n",
       "       [3, 6, 9]])"
      ]
     },
     "execution_count": 44,
     "metadata": {},
     "output_type": "execute_result"
    }
   ],
   "source": [
    "a_trasnpuesto = a_mod.transpose()\n",
    "a_trasnpuesto # trasnspuesto"
   ]
  },
  {
   "cell_type": "code",
   "execution_count": 45,
   "id": "3b094461-a444-4a18-9639-6f2818f2d784",
   "metadata": {},
   "outputs": [
    {
     "data": {
      "text/plain": [
       "array([1, 2, 3, 4, 5, 6, 7, 8, 9])"
      ]
     },
     "execution_count": 45,
     "metadata": {},
     "output_type": "execute_result"
    }
   ],
   "source": [
    "# flatten achatado \n",
    "a_fla = a_mod.flatten()\n",
    "a_fla"
   ]
  },
  {
   "cell_type": "code",
   "execution_count": 49,
   "id": "09099e97-af0b-41a8-9d43-86bc6c5cc2a4",
   "metadata": {},
   "outputs": [
    {
     "data": {
      "text/plain": [
       "array([[ 1,  2,  3],\n",
       "       [11, 12, 13],\n",
       "       [21, 22, 23],\n",
       "       [31, 32, 33]])"
      ]
     },
     "execution_count": 49,
     "metadata": {},
     "output_type": "execute_result"
    }
   ],
   "source": [
    "#operaciones con los array suma , resta etc \n",
    "c=np.array([1,2,3])\n",
    "d=np.array([[0],[10],[20],[30]])\n",
    "suma= c + d\n",
    "suma"
   ]
  },
  {
   "cell_type": "code",
   "execution_count": 53,
   "id": "6e0a38ab-5b36-4ce5-8736-d16dbf2560eb",
   "metadata": {},
   "outputs": [
    {
     "data": {
      "text/plain": [
       "array([5, 7, 9])"
      ]
     },
     "execution_count": 53,
     "metadata": {},
     "output_type": "execute_result"
    }
   ],
   "source": [
    "a = np.array ([1,2,3])\n",
    "b = np.array ([4,5,6])\n",
    "re = np.add( a,b)\n",
    "re"
   ]
  },
  {
   "cell_type": "code",
   "execution_count": 54,
   "id": "4b8a1da0-9fe7-4fd3-b806-d671f939b4c6",
   "metadata": {},
   "outputs": [
    {
     "data": {
      "text/plain": [
       "array([ 2.71828183,  7.3890561 , 20.08553692])"
      ]
     },
     "execution_count": 54,
     "metadata": {},
     "output_type": "execute_result"
    }
   ],
   "source": [
    "re = np.exp(a) #exponencial\n",
    "re"
   ]
  },
  {
   "cell_type": "code",
   "execution_count": 56,
   "id": "db8aafa1-ba1e-47b5-b9d9-da447a2dd882",
   "metadata": {},
   "outputs": [
    {
     "data": {
      "text/plain": [
       "array([0.        , 0.69314718, 1.09861229])"
      ]
     },
     "execution_count": 56,
     "metadata": {},
     "output_type": "execute_result"
    }
   ],
   "source": [
    "re = np.log(a) #logaritmo\n",
    "re"
   ]
  },
  {
   "cell_type": "code",
   "execution_count": 57,
   "id": "27d8f1b6-2f0e-46bd-b42a-685d7b42c74d",
   "metadata": {},
   "outputs": [
    {
     "data": {
      "text/plain": [
       "array([1.        , 1.41421356, 1.73205081])"
      ]
     },
     "execution_count": 57,
     "metadata": {},
     "output_type": "execute_result"
    }
   ],
   "source": [
    "re = np.sqrt(a)#para hacer una raiz cuadrada\n",
    "re"
   ]
  },
  {
   "cell_type": "code",
   "execution_count": 58,
   "id": "2c7255cd-0457-42c1-91ee-b9c9b9b6c326",
   "metadata": {},
   "outputs": [
    {
     "data": {
      "text/plain": [
       "array([ 1.,  2., nan,  4.,  5.])"
      ]
     },
     "execution_count": 58,
     "metadata": {},
     "output_type": "execute_result"
    }
   ],
   "source": [
    "#limpieza de datos \n",
    "#como tratar los datos faltantes \n",
    "# se representan como np.nan (np not a number)\n",
    "ay = np.array([1,2,np.nan, 4,5])\n",
    "ay"
   ]
  },
  {
   "cell_type": "code",
   "execution_count": 59,
   "id": "f9e331be-360b-476c-8ef1-d4825ceca648",
   "metadata": {},
   "outputs": [
    {
     "data": {
      "text/plain": [
       "array([False, False,  True, False, False])"
      ]
     },
     "execution_count": 59,
     "metadata": {},
     "output_type": "execute_result"
    }
   ],
   "source": [
    "#comprobamos si en un array hay un dato nan\n",
    "np.isnan(ay)"
   ]
  },
  {
   "cell_type": "code",
   "execution_count": 61,
   "id": "429265a4-db73-4877-bcb4-a06478acab8b",
   "metadata": {},
   "outputs": [
    {
     "data": {
      "text/plain": [
       "3.0"
      ]
     },
     "execution_count": 61,
     "metadata": {},
     "output_type": "execute_result"
    }
   ],
   "source": [
    "np.nanmean(ay)# promedio aunque tenga numeros no validos nan"
   ]
  },
  {
   "cell_type": "code",
   "execution_count": 63,
   "id": "56afe8c6-5071-4f9e-99e5-472868a867f0",
   "metadata": {},
   "outputs": [
    {
     "data": {
      "text/plain": [
       "array([1., 2., 0., 4., 5.])"
      ]
     },
     "execution_count": 63,
     "metadata": {},
     "output_type": "execute_result"
    }
   ],
   "source": [
    "#reemplaza el valor faltante con cero\n",
    "ay_con_cero = np.where(np.isnan(ay),0,ay)\n",
    "ay_con_cero"
   ]
  },
  {
   "cell_type": "code",
   "execution_count": 66,
   "id": "aadd5951-6b24-4c8c-a2b7-31238bc15f30",
   "metadata": {},
   "outputs": [
    {
     "data": {
      "text/plain": [
       "array([1., 2., 3., 4., 5.])"
      ]
     },
     "execution_count": 66,
     "metadata": {},
     "output_type": "execute_result"
    }
   ],
   "source": [
    "#reemplaza el valor faltante por el promedio\n",
    "promedio = np.nanmean(ay)\n",
    "promedio_a = np.where(np.isnan(ay), promedio, ay)\n",
    "promedio_a"
   ]
  },
  {
   "cell_type": "code",
   "execution_count": 68,
   "id": "d297f86c-7272-42af-9ad9-cfb0bd04ec56",
   "metadata": {},
   "outputs": [
    {
     "name": "stdout",
     "output_type": "stream",
     "text": [
      "[1. 2. 4. 5.]\n"
     ]
    }
   ],
   "source": [
    "#eliminamos el valor faltante \n",
    "e=ay[~np.isnan(ay)]\n",
    "print(e)"
   ]
  },
  {
   "cell_type": "code",
   "execution_count": 69,
   "id": "148e61ca-1666-4c5b-86ef-832c69ff2df9",
   "metadata": {},
   "outputs": [
    {
     "data": {
      "text/html": [
       "<div>\n",
       "<style scoped>\n",
       "    .dataframe tbody tr th:only-of-type {\n",
       "        vertical-align: middle;\n",
       "    }\n",
       "\n",
       "    .dataframe tbody tr th {\n",
       "        vertical-align: top;\n",
       "    }\n",
       "\n",
       "    .dataframe thead th {\n",
       "        text-align: right;\n",
       "    }\n",
       "</style>\n",
       "<table border=\"1\" class=\"dataframe\">\n",
       "  <thead>\n",
       "    <tr style=\"text-align: right;\">\n",
       "      <th></th>\n",
       "      <th>Fecha</th>\n",
       "      <th>Temperatura</th>\n",
       "      <th>Precipitación</th>\n",
       "      <th>Humedad</th>\n",
       "    </tr>\n",
       "  </thead>\n",
       "  <tbody>\n",
       "    <tr>\n",
       "      <th>0</th>\n",
       "      <td>01/01/2010</td>\n",
       "      <td>17.440675</td>\n",
       "      <td>10.957482</td>\n",
       "      <td>52.384637</td>\n",
       "    </tr>\n",
       "    <tr>\n",
       "      <th>1</th>\n",
       "      <td>02/01/2010</td>\n",
       "      <td>25.759468</td>\n",
       "      <td>5.315628</td>\n",
       "      <td>30.633530</td>\n",
       "    </tr>\n",
       "  </tbody>\n",
       "</table>\n",
       "</div>"
      ],
      "text/plain": [
       "        Fecha  Temperatura  Precipitación    Humedad\n",
       "0  01/01/2010    17.440675      10.957482  52.384637\n",
       "1  02/01/2010    25.759468       5.315628  30.633530"
      ]
     },
     "execution_count": 69,
     "metadata": {},
     "output_type": "execute_result"
    }
   ],
   "source": [
    "path = pd.read_csv(\"datos_meteorologicos.csv\")\n",
    "path.head(2)"
   ]
  },
  {
   "cell_type": "code",
   "execution_count": 71,
   "id": "e923e426-e02a-4a43-993f-a938308ba710",
   "metadata": {},
   "outputs": [
    {
     "name": "stdout",
     "output_type": "stream",
     "text": [
      "(5110, 4)\n"
     ]
    }
   ],
   "source": [
    "print(path.shape)"
   ]
  },
  {
   "cell_type": "code",
   "execution_count": 72,
   "id": "dd0b1f06-2ee2-4cf3-af41-508af4c87c74",
   "metadata": {},
   "outputs": [
    {
     "name": "stdout",
     "output_type": "stream",
     "text": [
      "<class 'pandas.core.frame.DataFrame'>\n",
      "RangeIndex: 5110 entries, 0 to 5109\n",
      "Data columns (total 4 columns):\n",
      " #   Column         Non-Null Count  Dtype  \n",
      "---  ------         --------------  -----  \n",
      " 0   Fecha          5110 non-null   object \n",
      " 1   Temperatura    4855 non-null   float64\n",
      " 2   Precipitación  4855 non-null   float64\n",
      " 3   Humedad        4855 non-null   float64\n",
      "dtypes: float64(3), object(1)\n",
      "memory usage: 159.8+ KB\n",
      "None\n"
     ]
    }
   ],
   "source": [
    "print(path.info())"
   ]
  },
  {
   "cell_type": "code",
   "execution_count": 73,
   "id": "fa6a8422-91f0-4b09-aeed-56177e048f0b",
   "metadata": {},
   "outputs": [
    {
     "name": "stdout",
     "output_type": "stream",
     "text": [
      "       Temperatura  Precipitación      Humedad\n",
      "count  4855.000000    4855.000000  4855.000000\n",
      "mean     14.889296       9.901604    54.359061\n",
      "std      14.440466       5.801842    26.096345\n",
      "min      -9.996378       0.003008    10.014980\n",
      "25%       2.651777       4.756907    31.866578\n",
      "50%      14.693274       9.853698    54.254478\n",
      "75%      27.381451      14.966997    77.029500\n",
      "max      39.998201      19.999559    99.996582\n"
     ]
    }
   ],
   "source": [
    "print(path.describe())"
   ]
  },
  {
   "cell_type": "code",
   "execution_count": 76,
   "id": "e690f6c9-e199-4484-afa6-8336675baf45",
   "metadata": {},
   "outputs": [
    {
     "name": "stdout",
     "output_type": "stream",
     "text": [
      "        Fecha  Temperatura  Precipitación    Humedad\n",
      "0  01/01/2010    17.440675      10.957482  52.384637\n"
     ]
    }
   ],
   "source": [
    "# convertir las columnas del Dataframe en arrays de Numpy \n",
    "print(path.head(1))"
   ]
  },
  {
   "cell_type": "code",
   "execution_count": 77,
   "id": "871bbbee-8973-488e-9978-c818dd657532",
   "metadata": {},
   "outputs": [],
   "source": [
    "tep = path[\"Temperatura\"].to_numpy()\n",
    "pre= path[\"Precipitación\"].to_numpy()\n",
    "hu=path [\"Humedad\"].to_numpy()"
   ]
  },
  {
   "cell_type": "code",
   "execution_count": 82,
   "id": "9e3ca5c8-c5d5-4f1a-a6bb-23ede2dc60ba",
   "metadata": {},
   "outputs": [
    {
     "name": "stdout",
     "output_type": "stream",
     "text": [
      "[17.4406752  25.75946832 20.1381688  ... 29.87359717         nan\n",
      " 37.30804318]\n"
     ]
    }
   ],
   "source": [
    "print(tep)"
   ]
  },
  {
   "cell_type": "code",
   "execution_count": 83,
   "id": "d474ad5d-b691-4639-85ca-c3e034616b0d",
   "metadata": {},
   "outputs": [
    {
     "name": "stdout",
     "output_type": "stream",
     "text": [
      "[10.957482    5.31562765 15.31770609 ...  4.61501177         nan\n",
      "  7.33051023]\n"
     ]
    }
   ],
   "source": [
    "print(pre)"
   ]
  },
  {
   "cell_type": "code",
   "execution_count": 85,
   "id": "87358a26-5c5c-48d8-9da5-886d4b9f8217",
   "metadata": {},
   "outputs": [
    {
     "name": "stdout",
     "output_type": "stream",
     "text": [
      "[52.38463749 30.63352983 41.49671458 ... 18.36284738         nan\n",
      " 50.64621058]\n"
     ]
    }
   ],
   "source": [
    "print(hu)"
   ]
  },
  {
   "cell_type": "code",
   "execution_count": 88,
   "id": "003deb55-eb95-4417-bf21-8375a14f0be2",
   "metadata": {},
   "outputs": [
    {
     "name": "stdout",
     "output_type": "stream",
     "text": [
      "[False False False ... False  True False]\n",
      "[False False False ... False  True False]\n",
      "[False False False ... False  True False]\n"
     ]
    }
   ],
   "source": [
    "#identificar las datos faltantes en los arrays y \n",
    "#reemplazarlos por el promedio de los valores \n",
    "t_nulo = np.isnan(tep)\n",
    "p_nulo = np.isnan(pre)\n",
    "h_nulo = np.isnan(hu)\n",
    "print(t_nulo)\n",
    "print(p_nulo)\n",
    "print(h_nulo)"
   ]
  },
  {
   "cell_type": "code",
   "execution_count": 89,
   "id": "6ffe8cd8-cf24-4427-baf6-12a9ea53de4e",
   "metadata": {},
   "outputs": [
    {
     "name": "stdout",
     "output_type": "stream",
     "text": [
      "[17.4406752  25.75946832 20.1381688  ... 29.87359717 14.88929572\n",
      " 37.30804318]\n"
     ]
    }
   ],
   "source": [
    "#identificar el promedio de cada array\n",
    "t_promedio = np.nanmean(tep)\n",
    "p_promedio = np.nanmean(pre)\n",
    "h_promedio = np.nanmean(hu)\n",
    "#reeemplazar los valores nulos con el promedio del array \n",
    "tep[t_nulo]=t_promedio\n",
    "pre[p_nulo]=p_promedio\n",
    "hu[h_nulo] =h_promedio\n",
    "print(tep)"
   ]
  },
  {
   "cell_type": "code",
   "execution_count": 96,
   "id": "ea3b752b-a1f5-4477-9fc6-d449c7ba27ff",
   "metadata": {},
   "outputs": [
    {
     "name": "stdout",
     "output_type": "stream",
     "text": [
      "14.889295723531713\n",
      "----------------------------\n",
      "[10.957482    5.31562765 15.31770609 ...  4.61501177  9.9016036\n",
      "  7.33051023]\n",
      "-----------------------------\n",
      "[52.38463749 30.63352983 41.49671458 ... 18.36284738 54.3590608\n",
      " 50.64621058]\n",
      "-----------------------------\n",
      "[17.4406752  25.75946832 20.1381688  ... 29.87359717 14.88929572\n",
      " 37.30804318]\n",
      "-----------------------------\n",
      "2749\n",
      "-----------------------------\n",
      "23/07/2020\n",
      "-----------------------------\n"
     ]
    }
   ],
   "source": [
    "#realizar analisis estadisticos \n",
    "#temperatura promedio \n",
    "t_promedio=np.nanmean(tep)\n",
    "print(t_promedio)\n",
    "print(\"----------------------------\")\n",
    "#total de precipitaciones\n",
    "p_total = np.sum(pre)\n",
    "print(pre)\n",
    "print(\"-----------------------------\")\n",
    "#maxima humedad registrada \n",
    "h_max = np.max(hu)\n",
    "print(hu)\n",
    "print(\"-----------------------------\")\n",
    "#fecha mas calurosa\n",
    "#temperatura mas alta \n",
    "mas_calor =np.max(tep)\n",
    "print(tep)\n",
    "print(\"-----------------------------\")\n",
    "#registro de la temperatura mas alta \n",
    "registro_calor = np.where(tep == mas_calor)[0][0]\n",
    "print(registro_calor)\n",
    "print(\"-----------------------------\")\n",
    "#fecha mas fria \n",
    "fecha_fria = path.iloc[np.where(tep == np.min(tep))[0][0]][\"Fecha\"]\n",
    "print(fecha_fria)\n",
    "print(\"-----------------------------\")"
   ]
  }
 ],
 "metadata": {
  "kernelspec": {
   "display_name": "Python 3 (ipykernel)",
   "language": "python",
   "name": "python3"
  },
  "language_info": {
   "codemirror_mode": {
    "name": "ipython",
    "version": 3
   },
   "file_extension": ".py",
   "mimetype": "text/x-python",
   "name": "python",
   "nbconvert_exporter": "python",
   "pygments_lexer": "ipython3",
   "version": "3.12.4"
  }
 },
 "nbformat": 4,
 "nbformat_minor": 5
}
