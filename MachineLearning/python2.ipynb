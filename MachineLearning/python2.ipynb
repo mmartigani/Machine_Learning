{
 "cells": [
  {
   "cell_type": "code",
   "execution_count": 17,
   "id": "6a26a4de-25ae-4b58-b3bc-1fdb28b80fbc",
   "metadata": {},
   "outputs": [
    {
     "name": "stdout",
     "output_type": "stream",
     "text": [
      "<class 'str'>\n",
      "MARCO\n",
      "Marco\n",
      " \n",
      " Pyt\n"
     ]
    }
   ],
   "source": [
    "#string en python\n",
    "palabra = \"marco\"\n",
    "palabra2= \" Python es lo mejor\"\n",
    "print(type(palabra))\n",
    "#para saber los metodos de una variable \n",
    "#hacemos la variable. presiono Tab\n",
    "print(palabra.upper())\n",
    "#dir(palabra) nos muestra todos los metodos \n",
    "print(palabra.capitalize())\n",
    "print(palabra2[0])\n",
    "print(palabra2[0:4])"
   ]
  },
  {
   "cell_type": "code",
   "execution_count": 6,
   "id": "5d2a0fa4-dbb6-4a0c-ab09-025f72be3799",
   "metadata": {},
   "outputs": [],
   "source": [
    "# PALABRAS IMPORTANTES EN PYTHON \n",
    "# TYPE , HELP, DIR "
   ]
  },
  {
   "cell_type": "code",
   "execution_count": 11,
   "id": "ee77ef47-9d4d-4726-94ea-d5aa35dbe138",
   "metadata": {},
   "outputs": [
    {
     "name": "stdout",
     "output_type": "stream",
     "text": [
      "Help on built-in function capitalize:\n",
      "\n",
      "capitalize() method of builtins.str instance\n",
      "    Return a capitalized version of the string.\n",
      "\n",
      "    More specifically, make the first character have upper case and the rest lower\n",
      "    case.\n",
      "\n"
     ]
    }
   ],
   "source": [
    "help(palabra.capitalize) #esta la yuda que podemos consultar de python "
   ]
  },
  {
   "cell_type": "code",
   "execution_count": 23,
   "id": "84284727-0942-4175-8130-9515dbfbd2cf",
   "metadata": {},
   "outputs": [
    {
     "name": "stdout",
     "output_type": "stream",
     "text": [
      "<class 'str'>\n",
      "<built-in method count of str object at 0x000001C8E2A78540>\n"
     ]
    },
    {
     "data": {
      "text/plain": [
       "1"
      ]
     },
     "execution_count": 23,
     "metadata": {},
     "output_type": "execute_result"
    }
   ],
   "source": [
    "variable= \"Linux\"\n",
    "print(type(variable))\n",
    "print(variable.count)\n",
    "variable.count('i')#cuenta cuentas veces aparace la letra "
   ]
  },
  {
   "cell_type": "code",
   "execution_count": 24,
   "id": "cd188567-6dcf-4c33-9e50-7de1da51ff37",
   "metadata": {},
   "outputs": [
    {
     "data": {
      "text/plain": [
       "5"
      ]
     },
     "execution_count": 24,
     "metadata": {},
     "output_type": "execute_result"
    }
   ],
   "source": [
    "frase = \"estudiar python es un agran decision\"\n",
    "frase.count(\" \")"
   ]
  },
  {
   "cell_type": "code",
   "execution_count": 26,
   "id": "0bc021f5-b350-4afb-ad6c-72b026c1d970",
   "metadata": {},
   "outputs": [
    {
     "name": "stdout",
     "output_type": "stream",
     "text": [
      "5\n"
     ]
    }
   ],
   "source": [
    "frase_nueva = \"  Linux es el mejor sistema operativo    \"\n",
    "print(frase_nueva.strip().count(\" \")) #strip saca los espacios en blanco del string"
   ]
  },
  {
   "cell_type": "code",
   "execution_count": 27,
   "id": "b72c40ea-f221-4861-b391-8dc5c1e31cf4",
   "metadata": {},
   "outputs": [
    {
     "data": {
      "text/plain": [
       "['', '', 'Linux', 'es', 'el', 'mejor', 'sistema', 'operativo', '', '', '', '']"
      ]
     },
     "execution_count": 27,
     "metadata": {},
     "output_type": "execute_result"
    }
   ],
   "source": [
    "frase_nueva.split(\" \")"
   ]
  },
  {
   "cell_type": "code",
   "execution_count": 28,
   "id": "d03bb687-a483-4e4a-83bc-25b24fc01c92",
   "metadata": {},
   "outputs": [
    {
     "name": "stdin",
     "output_type": "stream",
     "text": [
      "dime tu edad:  23\n"
     ]
    },
    {
     "data": {
      "text/plain": [
       "'23'"
      ]
     },
     "execution_count": 28,
     "metadata": {},
     "output_type": "execute_result"
    }
   ],
   "source": [
    "#ingreso por el ususario \n",
    "input(\"dime tu edad: \")"
   ]
  },
  {
   "cell_type": "code",
   "execution_count": 30,
   "id": "5d73fae2-4fdd-4b46-9987-96ca4d132942",
   "metadata": {},
   "outputs": [
    {
     "name": "stdin",
     "output_type": "stream",
     "text": [
      "Por favor dime tu nombre :  marco\n"
     ]
    },
    {
     "name": "stdout",
     "output_type": "stream",
     "text": [
      "Hola marco!\n"
     ]
    }
   ],
   "source": [
    "nombre =input(\"Por favor dime tu nombre : \")\n",
    "print(\"Hola \" + nombre + \"!\")"
   ]
  },
  {
   "cell_type": "code",
   "execution_count": 32,
   "id": "f4749b53-b681-47ed-8ca2-a842c46652c9",
   "metadata": {},
   "outputs": [
    {
     "name": "stdin",
     "output_type": "stream",
     "text": [
      "ingresa tu edad por favor :  44\n"
     ]
    }
   ],
   "source": [
    "edad = int(input(\"ingresa tu edad por favor : \"))"
   ]
  },
  {
   "cell_type": "code",
   "execution_count": 34,
   "id": "4154fe3d-b662-4733-9717-f1ea29b6d614",
   "metadata": {},
   "outputs": [
    {
     "name": "stdin",
     "output_type": "stream",
     "text": [
      "f¿dime el primer numero:  7\n",
      "Dime el segundo nombre:  17\n"
     ]
    },
    {
     "name": "stdout",
     "output_type": "stream",
     "text": [
      "la suma es 24\n"
     ]
    }
   ],
   "source": [
    "a =int( input (\"f¿dime el primer numero: \"))\n",
    "b= int(input(\"Dime el segundo nombre: \" ))\n",
    "suma = a + b \n",
    "print(\"la suma es \" + str(suma) )"
   ]
  },
  {
   "cell_type": "code",
   "execution_count": 35,
   "id": "e699fcf3-cd17-4d30-92c5-be9daea92903",
   "metadata": {},
   "outputs": [
    {
     "name": "stdout",
     "output_type": "stream",
     "text": [
      "Hola Linux\n"
     ]
    }
   ],
   "source": [
    "saludo = \"Hola\"\n",
    "nombre = \"Linux\"\n",
    "frase = saludo + \" \" + nombre\n",
    "print(frase)"
   ]
  },
  {
   "cell_type": "code",
   "execution_count": 37,
   "id": "530df57b-14f4-4375-ad3c-36a06897fcb1",
   "metadata": {},
   "outputs": [
    {
     "data": {
      "text/plain": [
       "'Hola Linux'"
      ]
     },
     "execution_count": 37,
     "metadata": {},
     "output_type": "execute_result"
    }
   ],
   "source": [
    "frase =f\"Hola {nombre}\"\n",
    "frase"
   ]
  },
  {
   "cell_type": "code",
   "execution_count": 39,
   "id": "d891379c-30a1-42a1-9652-31d8694c368d",
   "metadata": {},
   "outputs": [],
   "source": [
    "# Trabajo Practico "
   ]
  },
  {
   "cell_type": "code",
   "execution_count": 38,
   "id": "0dc266fb-c9cf-4fc4-bb78-5ca0cac07bd7",
   "metadata": {},
   "outputs": [
    {
     "name": "stdin",
     "output_type": "stream",
     "text": [
      "ingresa un texto de al menos 10 palabras :  Curso de Data Science con python es lo mejor del mundo\n"
     ]
    }
   ],
   "source": [
    "texto = input(\"ingresa un texto de al menos 10 palabras : \")"
   ]
  },
  {
   "cell_type": "code",
   "execution_count": 40,
   "id": "129ea7c6-af93-48a5-9db3-5187ea6c1b10",
   "metadata": {},
   "outputs": [
    {
     "data": {
      "text/plain": [
       "54"
      ]
     },
     "execution_count": 40,
     "metadata": {},
     "output_type": "execute_result"
    }
   ],
   "source": [
    "#contar el nro de caracteres \n",
    "num_caracteres = len(texto)\n",
    "num_caracteres"
   ]
  },
  {
   "cell_type": "code",
   "execution_count": 41,
   "id": "ff2d61e5-43a8-4c76-9441-49898d1485c0",
   "metadata": {},
   "outputs": [
    {
     "data": {
      "text/plain": [
       "10"
      ]
     },
     "execution_count": 41,
     "metadata": {},
     "output_type": "execute_result"
    }
   ],
   "source": [
    "#contar el nro de caracteres \n",
    "nro_de_espacios = texto.count(\" \")\n",
    "nro_de_espacios"
   ]
  },
  {
   "cell_type": "code",
   "execution_count": 43,
   "id": "cd378872-7f91-4d80-b67d-005cabdbf2dd",
   "metadata": {},
   "outputs": [
    {
     "data": {
      "text/plain": [
       "44"
      ]
     },
     "execution_count": 43,
     "metadata": {},
     "output_type": "execute_result"
    }
   ],
   "source": [
    "nro_caracteres_sin_espacios = num_caracteres - nro_de_espacios\n",
    "nro_caracteres_sin_espacios"
   ]
  },
  {
   "cell_type": "code",
   "execution_count": 46,
   "id": "57d17cba-f242-43e8-937e-ea95609747ee",
   "metadata": {},
   "outputs": [
    {
     "data": {
      "text/plain": [
       "17"
      ]
     },
     "execution_count": 46,
     "metadata": {},
     "output_type": "execute_result"
    }
   ],
   "source": [
    "vocal_a = texto.count(\"a\")\n",
    "vocal_e = texto.count(\"e\")\n",
    "vocal_i = texto.count(\"i\")\n",
    "vocal_o = texto.count(\"o\")\n",
    "vocal_u = texto.count(\"u\")\n",
    "num_vocales = vocal_a + vocal_e + vocal_i + vocal_o + vocal_u\n",
    "num_vocales"
   ]
  },
  {
   "cell_type": "code",
   "execution_count": 49,
   "id": "8233fbad-c8b8-4be7-a04b-b50cb7757df5",
   "metadata": {},
   "outputs": [
    {
     "data": {
      "text/plain": [
       "5"
      ]
     },
     "execution_count": 49,
     "metadata": {},
     "output_type": "execute_result"
    }
   ],
   "source": [
    "primer_espacio= texto.find(\" \") #encontramos los espacios \n",
    "primer_espacio"
   ]
  },
  {
   "cell_type": "code",
   "execution_count": 50,
   "id": "6d84550b-9f40-4192-b561-4afbcb8df785",
   "metadata": {},
   "outputs": [
    {
     "data": {
      "text/plain": [
       "'de Data Science con python es lo mejor del mundo'"
      ]
     },
     "execution_count": 50,
     "metadata": {},
     "output_type": "execute_result"
    }
   ],
   "source": [
    "sin_primera_palabra = texto[primer_espacio + 1:]\n",
    "sin_primera_palabra"
   ]
  },
  {
   "cell_type": "code",
   "execution_count": 52,
   "id": "41ed0bc7-c012-41d4-9d51-7e73b937a885",
   "metadata": {},
   "outputs": [
    {
     "data": {
      "text/plain": [
       "'Curso-de-Data-Science-con-python-es-lo-mejor-del-mundo'"
      ]
     },
     "execution_count": 52,
     "metadata": {},
     "output_type": "execute_result"
    }
   ],
   "source": [
    "guiones = texto.replace(\" \",\"-\")\n",
    "guiones"
   ]
  },
  {
   "cell_type": "code",
   "execution_count": 70,
   "id": "ede192c5-62e8-4323-b07a-95da2cd42145",
   "metadata": {},
   "outputs": [
    {
     "name": "stdout",
     "output_type": "stream",
     "text": [
      "['linux', 'windows', 'tesla', 'gpt']\n",
      "<class 'list'>\n",
      "[[1, 2, 3], ['ana', 'juan', 'eduardo'], [True, False, True]]\n",
      "<class 'list'>\n",
      "tesla\n",
      "['ia', 'windows', 'tesla', 'gpt']\n",
      "['ia', 'windows', 'tesla', 'gpt', 'Linux']\n",
      "['windows', 'tesla', 'ia', 'Linux']\n",
      "4\n"
     ]
    }
   ],
   "source": [
    "#listas son una collecion de objetos son mutables \n",
    "#---------------------------------------------------\n",
    "sistemas = [\"linux\", \"windows\", \"tesla\", \"gpt\"]\n",
    "print(sistemas)\n",
    "print(type(sistemas))\n",
    "#lista anidadas\n",
    "lista= [[1,2,3],[\"ana\", \"juan\", \"eduardo\"],[True, False, True]]\n",
    "print(lista)\n",
    "print(type(lista))\n",
    "print(sistemas[2])\n",
    "sistemas[0]=\"ia\" #actualiza un elemento \n",
    "print(sistemas)\n",
    "sistemas.append(\"Linux\") # agraga un elemento\n",
    "print(sistemas)\n",
    "sistemas.sort() #ordena las listas \n",
    "sistemas.sort(reverse=True)\n",
    "sistemas.remove(\"gpt\")#elimina los elementos\n",
    "print(sistemas)\n",
    "print(len(sistemas)) #tamaño de mi lista "
   ]
  },
  {
   "cell_type": "code",
   "execution_count": 81,
   "id": "956c9452-b1e3-4e35-9d87-0cbab087cbbe",
   "metadata": {},
   "outputs": [
    {
     "name": "stdout",
     "output_type": "stream",
     "text": [
      "(1, 2, 3, 4)\n",
      "<class 'tuple'>\n",
      "('linux', 12, True, 'linux', 'linux')\n",
      "True\n",
      "3\n",
      "1\n",
      "3\n",
      "<class 'tuple'>\n",
      "perez\n"
     ]
    }
   ],
   "source": [
    "#tuplas son una coleccion de elemntos ordenados no modificables \n",
    "#----------------------------------------------------------------\n",
    "t=(1,2,3,4)\n",
    "print(t)\n",
    "print(type(t))\n",
    "tm =(\"linux\", 12, True, \"linux\", \"linux\")\n",
    "print(tm)\n",
    "print(tm[2])\n",
    "#no podemos reasignar los valores \n",
    "print(tm.count(\"linux\")) #cuenta cuantas veces aparace el string\n",
    "print(tm.index(12))# cuantas veces aparace el nro 12 \n",
    "t2=(1,2,3)\n",
    "a,b,c = t2\n",
    "print(c) # imprime el valor dentro de la tupla\n",
    "#entonces utilidad que no se modifiquen los datos ejemplos \n",
    "nacimiento = (1980, 7, 17)\n",
    "nombre = (\"juan\", \"perez\")\n",
    "cliente= (nombre, nacimiento) # ejemplos de tuple de tuplas \n",
    "cliente\n",
    "print(type(cliente))\n",
    "print(cliente[0][1]) #accedo al apellido \n"
   ]
  },
  {
   "cell_type": "code",
   "execution_count": 100,
   "id": "6045daed-05e6-47b7-8c3a-3d0cdaf55c8e",
   "metadata": {},
   "outputs": [
    {
     "name": "stdout",
     "output_type": "stream",
     "text": [
      "<class 'dict'>\n",
      "{'juan': 12, 'maria': 32}\n",
      "2\n",
      "12\n",
      "{'juan': 76, 'maria': 32, 'esteban': 33}\n",
      "dict_keys(['juan', 'maria', 'esteban'])\n",
      "dict_values([76, 32, 33])\n",
      "76\n"
     ]
    }
   ],
   "source": [
    "#DICCIONARIOS SON CON LLAVES Y TIENEN QUE TENER UNA CLAVE Y UN VALOR \n",
    "edad = {\"juan\":12, \"maria\":32}\n",
    "print(type(edad))\n",
    "print(edad)\n",
    "#las claves son unicas no se repiten \n",
    "print(len(edad))\n",
    "#no se pueden indexar \n",
    "print(edad[\"juan\"])#para obtener el valor \n",
    "edad[\"juan\"]=76 #actualizamos el valor \n",
    "edad['esteban']=33 #agrago un valor y clave nuevo \n",
    "print(edad)\n",
    "print(edad.keys()) # muestra las claves\n",
    "print(edad.values()) #muestra los valores \n",
    "print(edad.get(\"juan\"))\n",
    "edad.update({\"juan\":11}) #actualiza los dos valores "
   ]
  },
  {
   "cell_type": "code",
   "execution_count": 110,
   "id": "ed5c27ca-2114-41ec-ae1a-3490e32e4c8a",
   "metadata": {},
   "outputs": [
    {
     "name": "stdout",
     "output_type": "stream",
     "text": [
      "<class 'bool'>\n",
      "True\n",
      "True\n",
      "False\n",
      "True\n"
     ]
    }
   ],
   "source": [
    "# Booleanos puede tener dos valores True or False \n",
    "a = True\n",
    "b = False\n",
    "print(type(a))\n",
    "x= 2 \n",
    "y = 5\n",
    "z = 8\n",
    "cc = x < y and y < z\n",
    "print(cc)\n",
    "cc = x < y or y < z\n",
    "print(cc)\n",
    "otra = not cc\n",
    "print(otra)\n",
    "distinto = x != y\n",
    "print(distinto)"
   ]
  },
  {
   "cell_type": "code",
   "execution_count": 112,
   "id": "1c3c8512-7a31-48b2-8b2c-83243997ceb0",
   "metadata": {},
   "outputs": [
    {
     "name": "stdout",
     "output_type": "stream",
     "text": [
      "hace calor\n"
     ]
    }
   ],
   "source": [
    "#estrcuturas de control\n",
    "temperatura = 22\n",
    "if temperatura > 20:\n",
    "    print(\"hace calor\")"
   ]
  },
  {
   "cell_type": "code",
   "execution_count": 113,
   "id": "3840e21e-2c6d-4803-95b3-b269fbfa2a13",
   "metadata": {},
   "outputs": [
    {
     "name": "stdin",
     "output_type": "stream",
     "text": [
      "dime la temperatura:  23\n"
     ]
    },
    {
     "name": "stdout",
     "output_type": "stream",
     "text": [
      "hace calor\n"
     ]
    }
   ],
   "source": [
    "t = int(input(\"dime la temperatura: \"))\n",
    "if t >20 :\n",
    "    print(\"hace calor\")"
   ]
  },
  {
   "cell_type": "code",
   "execution_count": 114,
   "id": "f48bb842-e08c-424a-86ee-3619e375e726",
   "metadata": {},
   "outputs": [
    {
     "name": "stdin",
     "output_type": "stream",
     "text": [
      "dime la temperatura:  20\n"
     ]
    },
    {
     "name": "stdout",
     "output_type": "stream",
     "text": [
      "clima agradable\n"
     ]
    }
   ],
   "source": [
    "t = int(input(\"dime la temperatura: \"))\n",
    "if t > 16 and t < 22:\n",
    "    print(\"clima agradable\")"
   ]
  },
  {
   "cell_type": "code",
   "execution_count": 115,
   "id": "6384febf-9aa1-43b7-9e71-1839fd019279",
   "metadata": {},
   "outputs": [
    {
     "name": "stdin",
     "output_type": "stream",
     "text": [
      "dime tu nombre:  linux\n"
     ]
    },
    {
     "name": "stdout",
     "output_type": "stream",
     "text": [
      "linux esta en mi grupo\n"
     ]
    }
   ],
   "source": [
    "a = ['juan', 'laura', 'linux','elon']\n",
    "nombre = input(\"dime tu nombre: \")\n",
    "if nombre in a:\n",
    "    print(f\"{nombre} esta en mi grupo\")\n"
   ]
  },
  {
   "cell_type": "code",
   "execution_count": 116,
   "id": "1b2c2b6a-eef8-4348-b6b4-2d4363affe36",
   "metadata": {},
   "outputs": [
    {
     "name": "stdout",
     "output_type": "stream",
     "text": [
      "hace frio\n"
     ]
    }
   ],
   "source": [
    "t = True\n",
    "if t :\n",
    "    print(\"hace frio\")"
   ]
  },
  {
   "cell_type": "code",
   "execution_count": 117,
   "id": "a4aedf25-854c-48e1-a007-9ff45a8ee814",
   "metadata": {},
   "outputs": [
    {
     "name": "stdin",
     "output_type": "stream",
     "text": [
      "dime tu edad:  2\n"
     ]
    },
    {
     "name": "stdout",
     "output_type": "stream",
     "text": [
      "menor\n"
     ]
    }
   ],
   "source": [
    "#if-elif-else\n",
    "edad = int(input(\"dime tu edad: \"))\n",
    "if edad >= 18:\n",
    "    print(\"adulto\")\n",
    "else:\n",
    "    print(\"menor\")"
   ]
  },
  {
   "cell_type": "code",
   "execution_count": 123,
   "id": "f68a7c36-47fe-4616-b32d-c926b708826e",
   "metadata": {},
   "outputs": [
    {
     "name": "stdin",
     "output_type": "stream",
     "text": [
      "dime tu edad:  13\n"
     ]
    },
    {
     "name": "stdout",
     "output_type": "stream",
     "text": [
      "adolecente\n"
     ]
    }
   ],
   "source": [
    "edad = int(input(\"dime tu edad: \"))\n",
    "if edad >= 18:\n",
    "    print(\"adulto\")\n",
    "elif edad >=13:\n",
    "    print(\"adolecente\")\n",
    "else:\n",
    "    print(\"niño\")"
   ]
  },
  {
   "cell_type": "code",
   "execution_count": 128,
   "id": "13fd43e4-1ae9-427a-acb0-3de17f3be2d5",
   "metadata": {},
   "outputs": [
    {
     "name": "stdout",
     "output_type": "stream",
     "text": [
      "agenda de contactos\n",
      "1.añadir contactos\n",
      "2.buscar contactos\n",
      "3.editar contactos\n",
      "4.eliminar contacto\n",
      "5.mostrar contacto\n"
     ]
    },
    {
     "name": "stdin",
     "output_type": "stream",
     "text": [
      "Elije una opcion del menu:  5\n"
     ]
    },
    {
     "name": "stdout",
     "output_type": "stream",
     "text": [
      "{}\n"
     ]
    }
   ],
   "source": [
    "#PROYECTO CREAR UNA AGENDA DE CONTACTOS \n",
    "agenda= {}\n",
    "print(\"agenda de contactos\")\n",
    "print(\"1.añadir contactos\")\n",
    "print(\"2.buscar contactos\")\n",
    "print(\"3.editar contactos\")\n",
    "print(\"4.eliminar contacto\")\n",
    "print(\"5.mostrar contacto\")\n",
    "eleccion = input(\"Elije una opcion del menu: \")\n",
    "if eleccion  == \"1\":\n",
    "    nombre= input(\"escribe el nombre del contacto: \")\n",
    "    telefono = input (\"escribe el numero de telefono: \")\n",
    "    agenda[nombre] = telefono\n",
    "    print(\"el contacto fue agregado\")\n",
    "elif eleccion == \"2\":\n",
    "    nombre = input(\"Nombre del contacto: \")\n",
    "    if nombre in agenda:\n",
    "        print(f\"el telefono {nombre} es {agenda[nombre]}\")\n",
    "    else:\n",
    "        print(\"ese contacto no existe\")\n",
    "elif eleccion == \"3\":\n",
    "    nombre = input(\"Nombre del contacto: \")\n",
    "    if nombre in agenda:\n",
    "        nuevo_numero = input(\"ingrese el nuevo numero: \")\n",
    "        agenda[nombre]=nuebo_numero\n",
    "        print(f\"el telefono {nombre} es {agenda[nombre]}\")\n",
    "    else:\n",
    "        print(\"ese contacto no existe\")\n",
    "elif eleccion == \"4\":\n",
    "    nombre = input(\"Nombre del contacto: \")\n",
    "    if nombre in agenda:\n",
    "        agenda.pop(nombre)\n",
    "        print(\"el contacto fue eliminado\")\n",
    "    else:\n",
    "        print(\"ese contacto no existe\")\n",
    "elif eleccion == \"5\":\n",
    "    print(agenda)\n",
    "else:\n",
    "    print(\"esa opcion no es valida\")"
   ]
  },
  {
   "cell_type": "code",
   "execution_count": 129,
   "id": "9ae4bfbd-35f2-42f3-8842-2e301978b4d0",
   "metadata": {},
   "outputs": [],
   "source": [
    "#loop es un bloque de codigo que se repite "
   ]
  },
  {
   "cell_type": "code",
   "execution_count": 130,
   "id": "f4d1e5e7-7b5d-4596-b430-bf0abb58e53b",
   "metadata": {},
   "outputs": [
    {
     "name": "stdout",
     "output_type": "stream",
     "text": [
      "0\n",
      "1\n",
      "2\n",
      "3\n",
      "4\n",
      "5\n"
     ]
    }
   ],
   "source": [
    "for n in [0,1,2,3,4,5]:\n",
    "    print(n)"
   ]
  },
  {
   "cell_type": "code",
   "execution_count": 132,
   "id": "24e1f913-aa03-4420-b30b-33dd1f0d1b35",
   "metadata": {},
   "outputs": [
    {
     "name": "stdout",
     "output_type": "stream",
     "text": [
      "L\n",
      "i\n",
      "n\n",
      "u\n",
      "x\n"
     ]
    }
   ],
   "source": [
    "for letra in \"Linux\":\n",
    "    print(letra)"
   ]
  },
  {
   "cell_type": "code",
   "execution_count": 133,
   "id": "8b9d4252-de88-4234-8a08-36737f4d15d6",
   "metadata": {},
   "outputs": [
    {
     "name": "stdout",
     "output_type": "stream",
     "text": [
      "argentina tiene 9 letras\n",
      "colombia tiene 8 letras\n",
      "peru tiene 4 letras\n",
      "mexico tiene 6 letras\n"
     ]
    }
   ],
   "source": [
    "pais =['argentina','colombia','peru','mexico']\n",
    "for p in pais:\n",
    "    largo=len(p)\n",
    "    print(f\"{p} tiene {largo} letras\")"
   ]
  },
  {
   "cell_type": "code",
   "execution_count": 135,
   "id": "c582e42a-391d-4a51-9c37-410b036e9d4a",
   "metadata": {},
   "outputs": [
    {
     "name": "stdout",
     "output_type": "stream",
     "text": [
      "sombrero rojo\n",
      "pantalon rojo\n",
      "zapato rojo\n",
      "sombrero azul\n",
      "pantalon azul\n",
      "zapato azul\n",
      "sombrero verde\n",
      "pantalon verde\n",
      "zapato verde\n"
     ]
    }
   ],
   "source": [
    "colores = [\"rojo\", \"azul\", \"verde\"]\n",
    "prendas = [\"sombrero\",\"pantalon\",\"zapato\"]\n",
    "for color in colores:\n",
    "    for prenda in prendas :\n",
    "        print(prenda, color)"
   ]
  },
  {
   "cell_type": "code",
   "execution_count": 137,
   "id": "d65d38dc-fa10-4b77-9c32-ff49de1f5f9a",
   "metadata": {},
   "outputs": [
    {
     "name": "stdout",
     "output_type": "stream",
     "text": [
      "0\n",
      "1\n",
      "2\n",
      "3\n",
      "4\n",
      "5\n",
      "6\n"
     ]
    }
   ],
   "source": [
    "#range devuelve un rango de numeros \n",
    "mi_rango = range(7)\n",
    "for n in mi_rango:\n",
    "    print(n)"
   ]
  },
  {
   "cell_type": "code",
   "execution_count": 138,
   "id": "83642f53-9fab-4079-ab19-2597245ebb55",
   "metadata": {},
   "outputs": [
    {
     "name": "stdout",
     "output_type": "stream",
     "text": [
      "5\n",
      "6\n",
      "7\n",
      "8\n",
      "9\n"
     ]
    }
   ],
   "source": [
    "mi_rango = range(5,10)\n",
    "for n in mi_rango:\n",
    "    print(n)\n"
   ]
  },
  {
   "cell_type": "code",
   "execution_count": 139,
   "id": "203dc5ae-56b7-4532-b75a-0d7d6d61ec4f",
   "metadata": {},
   "outputs": [
    {
     "name": "stdout",
     "output_type": "stream",
     "text": [
      "5\n",
      "7\n",
      "9\n"
     ]
    }
   ],
   "source": [
    "mi_rango = range(5,10,2)\n",
    "for n in mi_rango:\n",
    "    print(n)"
   ]
  },
  {
   "cell_type": "code",
   "execution_count": 141,
   "id": "21bef597-d762-42f0-94b3-6a1943f9cf5b",
   "metadata": {},
   "outputs": [
    {
     "name": "stdout",
     "output_type": "stream",
     "text": [
      "0\n",
      "1\n",
      "2\n",
      "3\n",
      "4\n",
      "5\n",
      "6\n",
      "7\n",
      "8\n",
      "9\n",
      "10\n",
      "11\n",
      "12\n",
      "13\n",
      "14\n",
      "15\n",
      "16\n"
     ]
    }
   ],
   "source": [
    "palabra = \"sistema operativo\"\n",
    "for i in range(len(palabra)):\n",
    "    print(i)"
   ]
  },
  {
   "cell_type": "code",
   "execution_count": 1,
   "id": "3789845d-7267-4b56-a4b1-990d345f85a3",
   "metadata": {},
   "outputs": [
    {
     "name": "stdout",
     "output_type": "stream",
     "text": [
      "0\n",
      "1\n",
      "2\n",
      "3\n",
      "4\n"
     ]
    }
   ],
   "source": [
    "#LOOP WHILE LA CONDICION SE DETIENE SIEMPRE QUE SEA VERDADERA SINO NOOOO\n",
    "contador = 0 \n",
    "while contador < 5:\n",
    "    print(contador)\n",
    "    contador += 1"
   ]
  },
  {
   "cell_type": "code",
   "execution_count": 8,
   "id": "50f204be-556c-4343-b42e-58b87daddd3a",
   "metadata": {},
   "outputs": [
    {
     "name": "stdout",
     "output_type": "stream",
     "text": [
      "dos palabras claves break y continue\n",
      "1\n",
      "2\n",
      "3\n",
      "4\n",
      "6\n",
      "7\n"
     ]
    }
   ],
   "source": [
    "print(\"dos palabras claves break y continue\") \n",
    "contador = 0\n",
    "while contador < 10:\n",
    "    contador += 1\n",
    "    if contador == 5:\n",
    "        continue  # pasa al siguinete paso sin cortar el programa\n",
    "    if contador == 8:\n",
    "        break  # corta el programa \n",
    "    print(contador)"
   ]
  },
  {
   "cell_type": "code",
   "execution_count": 7,
   "id": "9e2bae5f-c2f8-4a03-91cc-a77bc8fa3d47",
   "metadata": {},
   "outputs": [
    {
     "name": "stdout",
     "output_type": "stream",
     "text": [
      "-------funciones------------\n",
      "hola marco\n"
     ]
    }
   ],
   "source": [
    "print(\"-------funciones------------\")\n",
    "def saludo():\n",
    "    print(\"hola marco\")\n",
    "saludo()"
   ]
  },
  {
   "cell_type": "code",
   "execution_count": 9,
   "id": "467e10bd-f7ef-42a6-a420-3d5e87d4f2a8",
   "metadata": {},
   "outputs": [
    {
     "name": "stdout",
     "output_type": "stream",
     "text": [
      "Hola marco\n"
     ]
    }
   ],
   "source": [
    "def tu_saludo(nombre):\n",
    "    print(f\"Hola {nombre}\")\n",
    "tu_saludo(\"marco\")"
   ]
  },
  {
   "cell_type": "code",
   "execution_count": 12,
   "id": "50eb1d7b-df69-425a-ae0f-d9aaa4fcc12c",
   "metadata": {},
   "outputs": [
    {
     "name": "stdout",
     "output_type": "stream",
     "text": [
      "10\n"
     ]
    }
   ],
   "source": [
    "def sumar(a,b):\n",
    "    resultado = a + b\n",
    "    return resultado\n",
    "numero = sumar(7,3)\n",
    "print(numero)"
   ]
  },
  {
   "cell_type": "code",
   "execution_count": 14,
   "id": "4138fa05-de5f-4c59-a067-95526621e96f",
   "metadata": {},
   "outputs": [
    {
     "name": "stdout",
     "output_type": "stream",
     "text": [
      "0\n",
      "2\n",
      "4\n",
      "6\n",
      "8\n"
     ]
    }
   ],
   "source": [
    "def imprimir_pares(n):\n",
    "    for numero in range(n):\n",
    "        if numero %2 ==0:\n",
    "            print(numero)\n",
    "imprimir_pares(10)"
   ]
  },
  {
   "cell_type": "code",
   "execution_count": 19,
   "id": "fb678948-0810-478b-bddd-301b23ead736",
   "metadata": {},
   "outputs": [
    {
     "name": "stdout",
     "output_type": "stream",
     "text": [
      "funciones dentro de otras funciones\n"
     ]
    }
   ],
   "source": [
    "print(\"funciones dentro de otras funciones\")"
   ]
  },
  {
   "cell_type": "code",
   "execution_count": 15,
   "id": "452bf03d-bc2f-4c4f-bed8-f81c8687b692",
   "metadata": {},
   "outputs": [],
   "source": [
    "def pedir_nombre():\n",
    "    nombre = input(\"Dime tu nombre: \")\n",
    "    return nombre"
   ]
  },
  {
   "cell_type": "code",
   "execution_count": 16,
   "id": "a3981280-46ed-4360-a877-226bc8a96317",
   "metadata": {},
   "outputs": [],
   "source": [
    "def pedir_apellido():\n",
    "    apellido = input(\"Dime tu apellido: \")\n",
    "    return apellido"
   ]
  },
  {
   "cell_type": "code",
   "execution_count": 18,
   "id": "dc0df14a-9ddf-4d17-bdd3-29e31e31e715",
   "metadata": {},
   "outputs": [
    {
     "name": "stdin",
     "output_type": "stream",
     "text": [
      "Dime tu nombre:  marco\n",
      "Dime tu apellido:  martigani\n"
     ]
    },
    {
     "name": "stdout",
     "output_type": "stream",
     "text": [
      "Hola marco martigani\n"
     ]
    }
   ],
   "source": [
    "def saludar():\n",
    "    saludo=f\"Hola {pedir_nombre()} {pedir_apellido()}\"\n",
    "    print(saludo)\n",
    "saludar()"
   ]
  },
  {
   "cell_type": "code",
   "execution_count": 20,
   "id": "e95637c4-f3ab-4e86-bf1e-70edde4767f9",
   "metadata": {},
   "outputs": [
    {
     "name": "stdout",
     "output_type": "stream",
     "text": [
      "el cuadrado de 1 es 1\n",
      "el cuadrado de 2 es 4\n",
      "el cuadrado de 3 es 9\n",
      "el cuadrado de 4 es 16\n",
      "el cuadrado de 5 es 25\n"
     ]
    }
   ],
   "source": [
    "mi_lista = [1,2,3,4,5]\n",
    "def cuadrado(n):\n",
    "    return n * n\n",
    "def calcular_lista(numeros):\n",
    "    for numero in numeros:\n",
    "        resultado = cuadrado(numero)\n",
    "        print(f\"el cuadrado de {numero} es {resultado}\")\n",
    "\n",
    "calcular_lista(mi_lista)"
   ]
  },
  {
   "cell_type": "code",
   "execution_count": 22,
   "id": "457f2719-cba2-491e-a334-39e9e2cc90ed",
   "metadata": {},
   "outputs": [],
   "source": [
    "def generar_tablas(numero,limite):\n",
    "    for n in range(1,limite + 1):\n",
    "        print(f\"{numero} x {n} = {numero * n}\")"
   ]
  },
  {
   "cell_type": "code",
   "execution_count": 23,
   "id": "dfc728db-f188-493d-b716-79769ed1937a",
   "metadata": {},
   "outputs": [],
   "source": [
    "def inicio():\n",
    "    while True:\n",
    "        print(\"\\ngenerador de tablas de multiplicar\\n\")\n",
    "        num = int(input(\"ingrese el nro a multiplicar: \"))\n",
    "        lim= int(input(\"ingrese la cantidad de veces que desea multiplicar: \"))\n",
    "        generar_tablas(num, lim)\n",
    "        otra=input(\"quiere calcular mas tablas (s/n): \")\n",
    "        if otra.lower() != \"s\":\n",
    "            break"
   ]
  },
  {
   "cell_type": "code",
   "execution_count": 24,
   "id": "835fbf26-2a9e-4ac9-bcd0-5fbecfad8401",
   "metadata": {},
   "outputs": [
    {
     "name": "stdout",
     "output_type": "stream",
     "text": [
      "\n",
      "generador de tablas de multiplicar\n",
      "\n"
     ]
    },
    {
     "name": "stdin",
     "output_type": "stream",
     "text": [
      "ingrese el nro a multiplicar:  7\n",
      "ingrese la cantidad de veces que desea multiplicar:  7\n"
     ]
    },
    {
     "name": "stdout",
     "output_type": "stream",
     "text": [
      "7 x 1 = 7\n",
      "7 x 2 = 14\n",
      "7 x 3 = 21\n",
      "7 x 4 = 28\n",
      "7 x 5 = 35\n",
      "7 x 6 = 42\n",
      "7 x 7 = 49\n"
     ]
    },
    {
     "name": "stdin",
     "output_type": "stream",
     "text": [
      "quiere calcular mas tablas (s/n):  n\n"
     ]
    }
   ],
   "source": [
    "inicio()"
   ]
  },
  {
   "cell_type": "code",
   "execution_count": null,
   "id": "6d658f1c-4dcc-4e70-a11a-b41ef0d306f1",
   "metadata": {},
   "outputs": [],
   "source": []
  }
 ],
 "metadata": {
  "kernelspec": {
   "display_name": "Python 3 (ipykernel)",
   "language": "python",
   "name": "python3"
  },
  "language_info": {
   "codemirror_mode": {
    "name": "ipython",
    "version": 3
   },
   "file_extension": ".py",
   "mimetype": "text/x-python",
   "name": "python",
   "nbconvert_exporter": "python",
   "pygments_lexer": "ipython3",
   "version": "3.12.4"
  }
 },
 "nbformat": 4,
 "nbformat_minor": 5
}
